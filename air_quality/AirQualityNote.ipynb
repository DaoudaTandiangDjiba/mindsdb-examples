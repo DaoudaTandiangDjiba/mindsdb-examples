{
 "cells": [
  {
   "cell_type": "code",
   "execution_count": 1,
   "metadata": {},
   "outputs": [
    {
     "name": "stderr",
     "output_type": "stream",
     "text": [
      "INFO:mindsdb-logger-574dd138-f22d-11e9-8d8b-54e1ad558569:f:\\sudhanshu\\opensourceprojects\\mindsdb\\mindsdb\\libs\\phases\\base_module.py:52 - [START] DataExtractor\n",
      "\n",
      "INFO:mindsdb-logger-574dd138-f22d-11e9-8d8b-54e1ad558569:f:\\sudhanshu\\opensourceprojects\\mindsdb\\mindsdb\\libs\\phases\\data_extractor\\data_extractor.py:238 - We have split the input data into:\n",
      "\n",
      "INFO:mindsdb-logger-574dd138-f22d-11e9-8d8b-54e1ad558569:f:\\sudhanshu\\opensourceprojects\\mindsdb\\mindsdb\\libs\\phases\\base_module.py:57 - [END] DataExtractor, execution time: 7.234 seconds\n",
      "\n",
      "INFO:mindsdb-logger-574dd138-f22d-11e9-8d8b-54e1ad558569:f:\\sudhanshu\\opensourceprojects\\mindsdb\\mindsdb\\libs\\phases\\base_module.py:52 - [START] StatsGenerator\n",
      "\n",
      "INFO:mindsdb-logger-574dd138-f22d-11e9-8d8b-54e1ad558569:f:\\sudhanshu\\opensourceprojects\\mindsdb\\mindsdb\\libs\\phases\\stats_generator\\stats_generator.py:489 - population_size=9349,  sample_size=9349  100.00%\n",
      "\n",
      "WARNING:mindsdb-logger-574dd138-f22d-11e9-8d8b-54e1ad558569:f:\\sudhanshu\\opensourceprojects\\mindsdb\\mindsdb\\libs\\phases\\stats_generator\\stats_generator.py:141 - Column  has no data in it. Please remove  from the training file or fill in some of the values !\n",
      "\n",
      "WARNING:mindsdb-logger-574dd138-f22d-11e9-8d8b-54e1ad558569:f:\\sudhanshu\\opensourceprojects\\mindsdb\\mindsdb\\libs\\phases\\stats_generator\\stats_generator.py:387 - The data in the column Date seems to contain too much noise/randomness based on the value variability. That is to say, the data is too unevenly distributed and has too many outliers. Please see the detailed logs below for more info.\n",
      "\n",
      "INFO:mindsdb-logger-574dd138-f22d-11e9-8d8b-54e1ad558569:f:\\sudhanshu\\opensourceprojects\\mindsdb\\mindsdb\\libs\\phases\\stats_generator\\stats_generator.py:455 - Data distribution for column \"Date\"\n",
      "\n",
      "INFO:mindsdb-logger-574dd138-f22d-11e9-8d8b-54e1ad558569:f:\\sudhanshu\\opensourceprojects\\mindsdb\\mindsdb\\libs\\data_types\\mindsdb_logger.py:76 - ----------\n",
      "\n",
      "INFO:mindsdb-logger-574dd138-f22d-11e9-8d8b-54e1ad558569:f:\\sudhanshu\\opensourceprojects\\mindsdb\\mindsdb\\libs\\data_types\\mindsdb_logger.py:119 -  Date: 9349\n",
      "\n",
      "INFO:mindsdb-logger-574dd138-f22d-11e9-8d8b-54e1ad558569:f:\\sudhanshu\\opensourceprojects\\mindsdb\\mindsdb\\libs\\data_types\\mindsdb_logger.py:123 - ----------\n",
      "\n",
      "WARNING:mindsdb-logger-574dd138-f22d-11e9-8d8b-54e1ad558569:f:\\sudhanshu\\opensourceprojects\\mindsdb\\mindsdb\\libs\\phases\\stats_generator\\stats_generator.py:387 - The data in the column Time seems to contain too much noise/randomness based on the value variability. That is to say, the data is too unevenly distributed and has too many outliers. Please see the detailed logs below for more info.\n",
      "\n",
      "INFO:mindsdb-logger-574dd138-f22d-11e9-8d8b-54e1ad558569:f:\\sudhanshu\\opensourceprojects\\mindsdb\\mindsdb\\libs\\phases\\stats_generator\\stats_generator.py:455 - Data distribution for column \"Time\"\n",
      "\n",
      "INFO:mindsdb-logger-574dd138-f22d-11e9-8d8b-54e1ad558569:f:\\sudhanshu\\opensourceprojects\\mindsdb\\mindsdb\\libs\\data_types\\mindsdb_logger.py:76 - ----------\n",
      "\n",
      "INFO:mindsdb-logger-574dd138-f22d-11e9-8d8b-54e1ad558569:f:\\sudhanshu\\opensourceprojects\\mindsdb\\mindsdb\\libs\\data_types\\mindsdb_logger.py:119 -  Category: 9349\n",
      "\n",
      "INFO:mindsdb-logger-574dd138-f22d-11e9-8d8b-54e1ad558569:f:\\sudhanshu\\opensourceprojects\\mindsdb\\mindsdb\\libs\\data_types\\mindsdb_logger.py:123 - ----------\n",
      "\n",
      "WARNING:mindsdb-logger-574dd138-f22d-11e9-8d8b-54e1ad558569:f:\\sudhanshu\\opensourceprojects\\mindsdb\\mindsdb\\libs\\phases\\stats_generator\\stats_generator.py:432 - Column CO(GT) is very biased towards the value 1.3090000000000002, please make sure that the data in this column is correct !\n",
      "\n",
      "INFO:mindsdb-logger-574dd138-f22d-11e9-8d8b-54e1ad558569:f:\\sudhanshu\\opensourceprojects\\mindsdb\\mindsdb\\libs\\phases\\stats_generator\\stats_generator.py:455 - Data distribution for column \"CO(GT)\"\n",
      "\n",
      "INFO:mindsdb-logger-574dd138-f22d-11e9-8d8b-54e1ad558569:f:\\sudhanshu\\opensourceprojects\\mindsdb\\mindsdb\\libs\\data_types\\mindsdb_logger.py:76 - ----------\n",
      "\n",
      "INFO:mindsdb-logger-574dd138-f22d-11e9-8d8b-54e1ad558569:f:\\sudhanshu\\opensourceprojects\\mindsdb\\mindsdb\\libs\\data_types\\mindsdb_logger.py:119 -  Float: 7212\n",
      "\n",
      "INFO:mindsdb-logger-574dd138-f22d-11e9-8d8b-54e1ad558569:f:\\sudhanshu\\opensourceprojects\\mindsdb\\mindsdb\\libs\\data_types\\mindsdb_logger.py:119 -    Int: 545\n",
      "\n",
      "INFO:mindsdb-logger-574dd138-f22d-11e9-8d8b-54e1ad558569:f:\\sudhanshu\\opensourceprojects\\mindsdb\\mindsdb\\libs\\data_types\\mindsdb_logger.py:123 - ----------\n",
      "\n",
      "INFO:mindsdb-logger-574dd138-f22d-11e9-8d8b-54e1ad558569:f:\\sudhanshu\\opensourceprojects\\mindsdb\\mindsdb\\libs\\phases\\stats_generator\\stats_generator.py:455 - Data distribution for column \"PT08.S1(CO)\"\n",
      "\n",
      "INFO:mindsdb-logger-574dd138-f22d-11e9-8d8b-54e1ad558569:f:\\sudhanshu\\opensourceprojects\\mindsdb\\mindsdb\\libs\\data_types\\mindsdb_logger.py:76 - ----------\n",
      "\n",
      "INFO:mindsdb-logger-574dd138-f22d-11e9-8d8b-54e1ad558569:f:\\sudhanshu\\opensourceprojects\\mindsdb\\mindsdb\\libs\\data_types\\mindsdb_logger.py:119 -  Int: 8983\n",
      "\n",
      "INFO:mindsdb-logger-574dd138-f22d-11e9-8d8b-54e1ad558569:f:\\sudhanshu\\opensourceprojects\\mindsdb\\mindsdb\\libs\\data_types\\mindsdb_logger.py:123 - ----------\n",
      "\n",
      "WARNING:mindsdb-logger-574dd138-f22d-11e9-8d8b-54e1ad558569:f:\\sudhanshu\\opensourceprojects\\mindsdb\\mindsdb\\libs\\phases\\stats_generator\\stats_generator.py:359 - Column \"{}\" is considered of low quality, the scores that influenced this decision will be listed below\n",
      "\n",
      "WARNING:mindsdb-logger-574dd138-f22d-11e9-8d8b-54e1ad558569:f:\\sudhanshu\\opensourceprojects\\mindsdb\\mindsdb\\libs\\phases\\stats_generator\\stats_generator.py:363 - 2.2248368809498342% of the values in column NMHC(GT) seem to be repeated, this might indicate that your data is of poor quality.\n",
      "\n",
      "WARNING:mindsdb-logger-574dd138-f22d-11e9-8d8b-54e1ad558569:f:\\sudhanshu\\opensourceprojects\\mindsdb\\mindsdb\\libs\\phases\\stats_generator\\stats_generator.py:373 - The values in column NMHC(GT) rate poorly in terms of consistency. This means that the data has too many empty values, values with a hard to determine type and duplicate values. Please see the detailed logs below for more info\n",
      "\n",
      "WARNING:mindsdb-logger-574dd138-f22d-11e9-8d8b-54e1ad558569:f:\\sudhanshu\\opensourceprojects\\mindsdb\\mindsdb\\libs\\phases\\stats_generator\\stats_generator.py:380 - The data in the column NMHC(GT) is likely somewhat redundant, any insight it can give us can already by deduced from your other columns. Please see the detailed logs below for more info\n",
      "\n",
      "WARNING:mindsdb-logger-574dd138-f22d-11e9-8d8b-54e1ad558569:f:\\sudhanshu\\opensourceprojects\\mindsdb\\mindsdb\\libs\\phases\\stats_generator\\stats_generator.py:396 - 90.26633864584447% of the values in column NMHC(GT) are empty, this might indicate that your data is of poor quality.\n",
      "\n",
      "WARNING:mindsdb-logger-574dd138-f22d-11e9-8d8b-54e1ad558569:f:\\sudhanshu\\opensourceprojects\\mindsdb\\mindsdb\\libs\\phases\\stats_generator\\stats_generator.py:406 - 100% of your data is not of type Numeric, which was detected to be the data type for column NMHC(GT), this might indicate that your data is of poor quality.\n",
      "\n",
      "WARNING:mindsdb-logger-574dd138-f22d-11e9-8d8b-54e1ad558569:f:\\sudhanshu\\opensourceprojects\\mindsdb\\mindsdb\\libs\\phases\\stats_generator\\stats_generator.py:432 - Column NMHC(GT) is very biased towards the value 66.1, please make sure that the data in this column is correct !\n",
      "\n",
      "WARNING:mindsdb-logger-574dd138-f22d-11e9-8d8b-54e1ad558569:f:\\sudhanshu\\opensourceprojects\\mindsdb\\mindsdb\\libs\\phases\\stats_generator\\stats_generator.py:441 - Column NMHC(GT) and  are 90.26633864584448% the same, please make sure these represent two distinct features of your data !\n",
      "\n",
      "INFO:mindsdb-logger-574dd138-f22d-11e9-8d8b-54e1ad558569:f:\\sudhanshu\\opensourceprojects\\mindsdb\\mindsdb\\libs\\phases\\stats_generator\\stats_generator.py:455 - Data distribution for column \"NMHC(GT)\"\n",
      "\n",
      "INFO:mindsdb-logger-574dd138-f22d-11e9-8d8b-54e1ad558569:f:\\sudhanshu\\opensourceprojects\\mindsdb\\mindsdb\\libs\\data_types\\mindsdb_logger.py:76 - ----------\n",
      "\n",
      "INFO:mindsdb-logger-574dd138-f22d-11e9-8d8b-54e1ad558569:f:\\sudhanshu\\opensourceprojects\\mindsdb\\mindsdb\\libs\\data_types\\mindsdb_logger.py:119 -  Int: 910\n",
      "\n",
      "INFO:mindsdb-logger-574dd138-f22d-11e9-8d8b-54e1ad558569:f:\\sudhanshu\\opensourceprojects\\mindsdb\\mindsdb\\libs\\data_types\\mindsdb_logger.py:123 - ----------\n"
     ]
    },
    {
     "name": "stderr",
     "output_type": "stream",
     "text": [
      "\n",
      "WARNING:mindsdb-logger-574dd138-f22d-11e9-8d8b-54e1ad558569:f:\\sudhanshu\\opensourceprojects\\mindsdb\\mindsdb\\libs\\phases\\stats_generator\\stats_generator.py:432 - Column C6H6(GT) is very biased towards the value 3.185, please make sure that the data in this column is correct !\n",
      "\n",
      "INFO:mindsdb-logger-574dd138-f22d-11e9-8d8b-54e1ad558569:f:\\sudhanshu\\opensourceprojects\\mindsdb\\mindsdb\\libs\\phases\\stats_generator\\stats_generator.py:455 - Data distribution for column \"C6H6(GT)\"\n",
      "\n",
      "INFO:mindsdb-logger-574dd138-f22d-11e9-8d8b-54e1ad558569:f:\\sudhanshu\\opensourceprojects\\mindsdb\\mindsdb\\libs\\data_types\\mindsdb_logger.py:76 - ----------\n",
      "\n",
      "INFO:mindsdb-logger-574dd138-f22d-11e9-8d8b-54e1ad558569:f:\\sudhanshu\\opensourceprojects\\mindsdb\\mindsdb\\libs\\data_types\\mindsdb_logger.py:119 -  Float: 9349\n",
      "\n",
      "INFO:mindsdb-logger-574dd138-f22d-11e9-8d8b-54e1ad558569:f:\\sudhanshu\\opensourceprojects\\mindsdb\\mindsdb\\libs\\data_types\\mindsdb_logger.py:123 - ----------\n",
      "\n",
      "INFO:mindsdb-logger-574dd138-f22d-11e9-8d8b-54e1ad558569:f:\\sudhanshu\\opensourceprojects\\mindsdb\\mindsdb\\libs\\phases\\stats_generator\\stats_generator.py:455 - Data distribution for column \"PT08.S2(NMHC)\"\n",
      "\n",
      "INFO:mindsdb-logger-574dd138-f22d-11e9-8d8b-54e1ad558569:f:\\sudhanshu\\opensourceprojects\\mindsdb\\mindsdb\\libs\\data_types\\mindsdb_logger.py:76 - ----------\n",
      "\n",
      "INFO:mindsdb-logger-574dd138-f22d-11e9-8d8b-54e1ad558569:f:\\sudhanshu\\opensourceprojects\\mindsdb\\mindsdb\\libs\\data_types\\mindsdb_logger.py:119 -  Int: 8983\n",
      "\n",
      "INFO:mindsdb-logger-574dd138-f22d-11e9-8d8b-54e1ad558569:f:\\sudhanshu\\opensourceprojects\\mindsdb\\mindsdb\\libs\\data_types\\mindsdb_logger.py:123 - ----------\n",
      "\n",
      "WARNING:mindsdb-logger-574dd138-f22d-11e9-8d8b-54e1ad558569:f:\\sudhanshu\\opensourceprojects\\mindsdb\\mindsdb\\libs\\phases\\stats_generator\\stats_generator.py:432 - Column NOx(GT) is very biased towards the value 105.39, please make sure that the data in this column is correct !\n",
      "\n",
      "INFO:mindsdb-logger-574dd138-f22d-11e9-8d8b-54e1ad558569:f:\\sudhanshu\\opensourceprojects\\mindsdb\\mindsdb\\libs\\phases\\stats_generator\\stats_generator.py:455 - Data distribution for column \"NOx(GT)\"\n",
      "\n",
      "INFO:mindsdb-logger-574dd138-f22d-11e9-8d8b-54e1ad558569:f:\\sudhanshu\\opensourceprojects\\mindsdb\\mindsdb\\libs\\data_types\\mindsdb_logger.py:76 - ----------\n",
      "\n",
      "INFO:mindsdb-logger-574dd138-f22d-11e9-8d8b-54e1ad558569:f:\\sudhanshu\\opensourceprojects\\mindsdb\\mindsdb\\libs\\data_types\\mindsdb_logger.py:119 -  Int: 7710\n",
      "\n",
      "INFO:mindsdb-logger-574dd138-f22d-11e9-8d8b-54e1ad558569:f:\\sudhanshu\\opensourceprojects\\mindsdb\\mindsdb\\libs\\data_types\\mindsdb_logger.py:123 - ----------\n",
      "\n",
      "WARNING:mindsdb-logger-574dd138-f22d-11e9-8d8b-54e1ad558569:f:\\sudhanshu\\opensourceprojects\\mindsdb\\mindsdb\\libs\\phases\\stats_generator\\stats_generator.py:432 - Column PT08.S3(NOx) is very biased towards the value 770.59, please make sure that the data in this column is correct !\n",
      "\n",
      "INFO:mindsdb-logger-574dd138-f22d-11e9-8d8b-54e1ad558569:f:\\sudhanshu\\opensourceprojects\\mindsdb\\mindsdb\\libs\\phases\\stats_generator\\stats_generator.py:455 - Data distribution for column \"PT08.S3(NOx)\"\n",
      "\n",
      "INFO:mindsdb-logger-574dd138-f22d-11e9-8d8b-54e1ad558569:f:\\sudhanshu\\opensourceprojects\\mindsdb\\mindsdb\\libs\\data_types\\mindsdb_logger.py:76 - ----------\n",
      "\n",
      "INFO:mindsdb-logger-574dd138-f22d-11e9-8d8b-54e1ad558569:f:\\sudhanshu\\opensourceprojects\\mindsdb\\mindsdb\\libs\\data_types\\mindsdb_logger.py:119 -  Int: 8983\n",
      "\n",
      "INFO:mindsdb-logger-574dd138-f22d-11e9-8d8b-54e1ad558569:f:\\sudhanshu\\opensourceprojects\\mindsdb\\mindsdb\\libs\\data_types\\mindsdb_logger.py:123 - ----------\n",
      "\n",
      "INFO:mindsdb-logger-574dd138-f22d-11e9-8d8b-54e1ad558569:f:\\sudhanshu\\opensourceprojects\\mindsdb\\mindsdb\\libs\\phases\\stats_generator\\stats_generator.py:455 - Data distribution for column \"NO2(GT)\"\n",
      "\n",
      "INFO:mindsdb-logger-574dd138-f22d-11e9-8d8b-54e1ad558569:f:\\sudhanshu\\opensourceprojects\\mindsdb\\mindsdb\\libs\\data_types\\mindsdb_logger.py:76 - ----------\n",
      "\n",
      "INFO:mindsdb-logger-574dd138-f22d-11e9-8d8b-54e1ad558569:f:\\sudhanshu\\opensourceprojects\\mindsdb\\mindsdb\\libs\\data_types\\mindsdb_logger.py:119 -  Int: 7707\n",
      "\n",
      "INFO:mindsdb-logger-574dd138-f22d-11e9-8d8b-54e1ad558569:f:\\sudhanshu\\opensourceprojects\\mindsdb\\mindsdb\\libs\\data_types\\mindsdb_logger.py:123 - ----------\n",
      "\n",
      "INFO:mindsdb-logger-574dd138-f22d-11e9-8d8b-54e1ad558569:f:\\sudhanshu\\opensourceprojects\\mindsdb\\mindsdb\\libs\\phases\\stats_generator\\stats_generator.py:455 - Data distribution for column \"PT08.S4(NO2)\"\n",
      "\n",
      "INFO:mindsdb-logger-574dd138-f22d-11e9-8d8b-54e1ad558569:f:\\sudhanshu\\opensourceprojects\\mindsdb\\mindsdb\\libs\\data_types\\mindsdb_logger.py:76 - ----------\n",
      "\n",
      "INFO:mindsdb-logger-574dd138-f22d-11e9-8d8b-54e1ad558569:f:\\sudhanshu\\opensourceprojects\\mindsdb\\mindsdb\\libs\\data_types\\mindsdb_logger.py:119 -  Int: 8983\n",
      "\n",
      "INFO:mindsdb-logger-574dd138-f22d-11e9-8d8b-54e1ad558569:f:\\sudhanshu\\opensourceprojects\\mindsdb\\mindsdb\\libs\\data_types\\mindsdb_logger.py:123 - ----------\n",
      "\n",
      "INFO:mindsdb-logger-574dd138-f22d-11e9-8d8b-54e1ad558569:f:\\sudhanshu\\opensourceprojects\\mindsdb\\mindsdb\\libs\\phases\\stats_generator\\stats_generator.py:455 - Data distribution for column \"PT08.S5(O3)\"\n",
      "\n",
      "INFO:mindsdb-logger-574dd138-f22d-11e9-8d8b-54e1ad558569:f:\\sudhanshu\\opensourceprojects\\mindsdb\\mindsdb\\libs\\data_types\\mindsdb_logger.py:76 - ----------\n",
      "\n",
      "INFO:mindsdb-logger-574dd138-f22d-11e9-8d8b-54e1ad558569:f:\\sudhanshu\\opensourceprojects\\mindsdb\\mindsdb\\libs\\data_types\\mindsdb_logger.py:119 -  Int: 8983\n",
      "\n",
      "INFO:mindsdb-logger-574dd138-f22d-11e9-8d8b-54e1ad558569:f:\\sudhanshu\\opensourceprojects\\mindsdb\\mindsdb\\libs\\data_types\\mindsdb_logger.py:123 - ----------\n",
      "\n",
      "INFO:mindsdb-logger-574dd138-f22d-11e9-8d8b-54e1ad558569:f:\\sudhanshu\\opensourceprojects\\mindsdb\\mindsdb\\libs\\phases\\stats_generator\\stats_generator.py:455 - Data distribution for column \"T\"\n",
      "\n",
      "INFO:mindsdb-logger-574dd138-f22d-11e9-8d8b-54e1ad558569:f:\\sudhanshu\\opensourceprojects\\mindsdb\\mindsdb\\libs\\data_types\\mindsdb_logger.py:76 - ----------\n",
      "\n",
      "INFO:mindsdb-logger-574dd138-f22d-11e9-8d8b-54e1ad558569:f:\\sudhanshu\\opensourceprojects\\mindsdb\\mindsdb\\libs\\data_types\\mindsdb_logger.py:119 -  Float: 8983\n",
      "\n",
      "INFO:mindsdb-logger-574dd138-f22d-11e9-8d8b-54e1ad558569:f:\\sudhanshu\\opensourceprojects\\mindsdb\\mindsdb\\libs\\data_types\\mindsdb_logger.py:123 - ----------\n",
      "\n",
      "INFO:mindsdb-logger-574dd138-f22d-11e9-8d8b-54e1ad558569:f:\\sudhanshu\\opensourceprojects\\mindsdb\\mindsdb\\libs\\phases\\stats_generator\\stats_generator.py:455 - Data distribution for column \"RH\"\n",
      "\n",
      "INFO:mindsdb-logger-574dd138-f22d-11e9-8d8b-54e1ad558569:f:\\sudhanshu\\opensourceprojects\\mindsdb\\mindsdb\\libs\\data_types\\mindsdb_logger.py:76 - ----------\n",
      "\n",
      "INFO:mindsdb-logger-574dd138-f22d-11e9-8d8b-54e1ad558569:f:\\sudhanshu\\opensourceprojects\\mindsdb\\mindsdb\\libs\\data_types\\mindsdb_logger.py:119 -  Float: 8983\n",
      "\n",
      "INFO:mindsdb-logger-574dd138-f22d-11e9-8d8b-54e1ad558569:f:\\sudhanshu\\opensourceprojects\\mindsdb\\mindsdb\\libs\\data_types\\mindsdb_logger.py:123 - ----------\n",
      "\n",
      "INFO:mindsdb-logger-574dd138-f22d-11e9-8d8b-54e1ad558569:f:\\sudhanshu\\opensourceprojects\\mindsdb\\mindsdb\\libs\\phases\\stats_generator\\stats_generator.py:455 - Data distribution for column \"AH\"\n",
      "\n",
      "INFO:mindsdb-logger-574dd138-f22d-11e9-8d8b-54e1ad558569:f:\\sudhanshu\\opensourceprojects\\mindsdb\\mindsdb\\libs\\data_types\\mindsdb_logger.py:76 - ----------\n",
      "\n",
      "INFO:mindsdb-logger-574dd138-f22d-11e9-8d8b-54e1ad558569:f:\\sudhanshu\\opensourceprojects\\mindsdb\\mindsdb\\libs\\data_types\\mindsdb_logger.py:119 -  Float: 8983\n",
      "\n",
      "INFO:mindsdb-logger-574dd138-f22d-11e9-8d8b-54e1ad558569:f:\\sudhanshu\\opensourceprojects\\mindsdb\\mindsdb\\libs\\data_types\\mindsdb_logger.py:123 - ----------\n",
      "\n",
      "INFO:mindsdb-logger-574dd138-f22d-11e9-8d8b-54e1ad558569:f:\\sudhanshu\\opensourceprojects\\mindsdb\\mindsdb\\libs\\phases\\base_module.py:57 - [END] StatsGenerator, execution time: 16.554 seconds\n",
      "\n",
      "INFO:mindsdb-logger-574dd138-f22d-11e9-8d8b-54e1ad558569:f:\\sudhanshu\\opensourceprojects\\mindsdb\\mindsdb\\libs\\phases\\base_module.py:52 - [START] DataTransformer\n",
      "\n",
      "INFO:mindsdb-logger-574dd138-f22d-11e9-8d8b-54e1ad558569:f:\\sudhanshu\\opensourceprojects\\mindsdb\\mindsdb\\libs\\phases\\base_module.py:57 - [END] DataTransformer, execution time: 11.953 seconds\n",
      "\n",
      "INFO:mindsdb-logger-574dd138-f22d-11e9-8d8b-54e1ad558569:f:\\sudhanshu\\opensourceprojects\\mindsdb\\mindsdb\\libs\\phases\\base_module.py:52 - [START] ModelInterface\n"
     ]
    },
    {
     "name": "stderr",
     "output_type": "stream",
     "text": [
      "\n",
      "c:\\users\\sudhanshu\\appdata\\local\\conda\\conda\\envs\\py37\\lib\\site-packages\\tensorflow\\python\\framework\\dtypes.py:526: FutureWarning: Passing (type, 1) or '1type' as a synonym of type is deprecated; in a future version of numpy, it will be understood as (type, (1,)) / '(1,)type'.\n",
      "  _np_qint8 = np.dtype([(\"qint8\", np.int8, 1)])\n",
      "c:\\users\\sudhanshu\\appdata\\local\\conda\\conda\\envs\\py37\\lib\\site-packages\\tensorflow\\python\\framework\\dtypes.py:527: FutureWarning: Passing (type, 1) or '1type' as a synonym of type is deprecated; in a future version of numpy, it will be understood as (type, (1,)) / '(1,)type'.\n",
      "  _np_quint8 = np.dtype([(\"quint8\", np.uint8, 1)])\n",
      "c:\\users\\sudhanshu\\appdata\\local\\conda\\conda\\envs\\py37\\lib\\site-packages\\tensorflow\\python\\framework\\dtypes.py:528: FutureWarning: Passing (type, 1) or '1type' as a synonym of type is deprecated; in a future version of numpy, it will be understood as (type, (1,)) / '(1,)type'.\n",
      "  _np_qint16 = np.dtype([(\"qint16\", np.int16, 1)])\n",
      "c:\\users\\sudhanshu\\appdata\\local\\conda\\conda\\envs\\py37\\lib\\site-packages\\tensorflow\\python\\framework\\dtypes.py:529: FutureWarning: Passing (type, 1) or '1type' as a synonym of type is deprecated; in a future version of numpy, it will be understood as (type, (1,)) / '(1,)type'.\n",
      "  _np_quint16 = np.dtype([(\"quint16\", np.uint16, 1)])\n",
      "c:\\users\\sudhanshu\\appdata\\local\\conda\\conda\\envs\\py37\\lib\\site-packages\\tensorflow\\python\\framework\\dtypes.py:530: FutureWarning: Passing (type, 1) or '1type' as a synonym of type is deprecated; in a future version of numpy, it will be understood as (type, (1,)) / '(1,)type'.\n",
      "  _np_qint32 = np.dtype([(\"qint32\", np.int32, 1)])\n",
      "c:\\users\\sudhanshu\\appdata\\local\\conda\\conda\\envs\\py37\\lib\\site-packages\\tensorflow\\python\\framework\\dtypes.py:535: FutureWarning: Passing (type, 1) or '1type' as a synonym of type is deprecated; in a future version of numpy, it will be understood as (type, (1,)) / '(1,)type'.\n",
      "  np_resource = np.dtype([(\"resource\", np.ubyte, 1)])\n"
     ]
    },
    {
     "name": "stdout",
     "output_type": "stream",
     "text": [
      "\n",
      "WARNING: The TensorFlow contrib module will not be included in TensorFlow 2.0.\n",
      "For more information, please see:\n",
      "  * https://github.com/tensorflow/community/blob/master/rfcs/20180907-contrib-sunset.md\n",
      "  * https://github.com/tensorflow/addons\n",
      "If you depend on functionality not listed there, please file an issue.\n",
      "\n"
     ]
    },
    {
     "name": "stderr",
     "output_type": "stream",
     "text": [
      "DEBUG:mindsdb-logger-574dd138-f22d-11e9-8d8b-54e1ad558569:f:\\sudhanshu\\opensourceprojects\\mindsdb\\mindsdb\\libs\\backends\\lightwood.py:151 - We've reached training epoch nr 20 with an r2 score of 0.472 on the testing dataset\n",
      "\n",
      "DEBUG:mindsdb-logger-574dd138-f22d-11e9-8d8b-54e1ad558569:f:\\sudhanshu\\opensourceprojects\\mindsdb\\mindsdb\\libs\\backends\\lightwood.py:151 - We've reached training epoch nr 40 with an r2 score of 0.477 on the testing dataset\n",
      "\n",
      "DEBUG:mindsdb-logger-574dd138-f22d-11e9-8d8b-54e1ad558569:f:\\sudhanshu\\opensourceprojects\\mindsdb\\mindsdb\\libs\\backends\\lightwood.py:151 - We've reached training epoch nr 60 with an r2 score of 0.477 on the testing dataset\n",
      "\n",
      "DEBUG:mindsdb-logger-574dd138-f22d-11e9-8d8b-54e1ad558569:f:\\sudhanshu\\opensourceprojects\\mindsdb\\mindsdb\\libs\\backends\\lightwood.py:151 - We've reached training epoch nr 80 with an r2 score of 0.486 on the testing dataset\n",
      "\n",
      "DEBUG:mindsdb-logger-574dd138-f22d-11e9-8d8b-54e1ad558569:f:\\sudhanshu\\opensourceprojects\\mindsdb\\mindsdb\\libs\\backends\\lightwood.py:151 - We've reached training epoch nr 100 with an r2 score of 0.485 on the testing dataset\n",
      "\n",
      "DEBUG:mindsdb-logger-574dd138-f22d-11e9-8d8b-54e1ad558569:f:\\sudhanshu\\opensourceprojects\\mindsdb\\mindsdb\\libs\\backends\\lightwood.py:151 - We've reached training epoch nr 120 with an r2 score of 0.496 on the testing dataset\n",
      "\n",
      "DEBUG:mindsdb-logger-574dd138-f22d-11e9-8d8b-54e1ad558569:f:\\sudhanshu\\opensourceprojects\\mindsdb\\mindsdb\\libs\\backends\\lightwood.py:151 - We've reached training epoch nr 140 with an r2 score of 0.503 on the testing dataset\n",
      "\n",
      "DEBUG:mindsdb-logger-574dd138-f22d-11e9-8d8b-54e1ad558569:f:\\sudhanshu\\opensourceprojects\\mindsdb\\mindsdb\\libs\\backends\\lightwood.py:151 - We've reached training epoch nr 160 with an r2 score of 0.501 on the testing dataset\n",
      "\n",
      "DEBUG:mindsdb-logger-574dd138-f22d-11e9-8d8b-54e1ad558569:f:\\sudhanshu\\opensourceprojects\\mindsdb\\mindsdb\\libs\\backends\\lightwood.py:151 - We've reached training epoch nr 180 with an r2 score of 0.501 on the testing dataset\n",
      "\n",
      "DEBUG:mindsdb-logger-574dd138-f22d-11e9-8d8b-54e1ad558569:f:\\sudhanshu\\opensourceprojects\\mindsdb\\mindsdb\\libs\\backends\\lightwood.py:151 - We've reached training epoch nr 200 with an r2 score of 0.509 on the testing dataset\n",
      "\n",
      "DEBUG:mindsdb-logger-574dd138-f22d-11e9-8d8b-54e1ad558569:f:\\sudhanshu\\opensourceprojects\\mindsdb\\mindsdb\\libs\\backends\\lightwood.py:151 - We've reached training epoch nr 220 with an r2 score of 0.489 on the testing dataset\n",
      "\n",
      "DEBUG:mindsdb-logger-574dd138-f22d-11e9-8d8b-54e1ad558569:f:\\sudhanshu\\opensourceprojects\\mindsdb\\mindsdb\\libs\\backends\\lightwood.py:151 - We've reached training epoch nr 240 with an r2 score of 0.513 on the testing dataset\n",
      "\n",
      "DEBUG:mindsdb-logger-574dd138-f22d-11e9-8d8b-54e1ad558569:f:\\sudhanshu\\opensourceprojects\\mindsdb\\mindsdb\\libs\\backends\\lightwood.py:151 - We've reached training epoch nr 260 with an r2 score of 0.514 on the testing dataset\n",
      "\n",
      "DEBUG:mindsdb-logger-574dd138-f22d-11e9-8d8b-54e1ad558569:f:\\sudhanshu\\opensourceprojects\\mindsdb\\mindsdb\\libs\\backends\\lightwood.py:151 - We've reached training epoch nr 280 with an r2 score of 0.508 on the testing dataset\n",
      "\n",
      "DEBUG:mindsdb-logger-574dd138-f22d-11e9-8d8b-54e1ad558569:f:\\sudhanshu\\opensourceprojects\\mindsdb\\mindsdb\\libs\\backends\\lightwood.py:151 - We've reached training epoch nr 300 with an r2 score of 0.517 on the testing dataset\n",
      "\n",
      "DEBUG:mindsdb-logger-574dd138-f22d-11e9-8d8b-54e1ad558569:f:\\sudhanshu\\opensourceprojects\\mindsdb\\mindsdb\\libs\\backends\\lightwood.py:151 - We've reached training epoch nr 320 with an r2 score of 0.525 on the testing dataset\n",
      "\n",
      "DEBUG:mindsdb-logger-574dd138-f22d-11e9-8d8b-54e1ad558569:f:\\sudhanshu\\opensourceprojects\\mindsdb\\mindsdb\\libs\\backends\\lightwood.py:151 - We've reached training epoch nr 340 with an r2 score of 0.525 on the testing dataset\n",
      "\n",
      "DEBUG:mindsdb-logger-574dd138-f22d-11e9-8d8b-54e1ad558569:f:\\sudhanshu\\opensourceprojects\\mindsdb\\mindsdb\\libs\\backends\\lightwood.py:151 - We've reached training epoch nr 360 with an r2 score of 0.522 on the testing dataset\n",
      "\n",
      "DEBUG:mindsdb-logger-574dd138-f22d-11e9-8d8b-54e1ad558569:f:\\sudhanshu\\opensourceprojects\\mindsdb\\mindsdb\\libs\\backends\\lightwood.py:151 - We've reached training epoch nr 380 with an r2 score of 0.527 on the testing dataset\n",
      "\n",
      "DEBUG:mindsdb-logger-574dd138-f22d-11e9-8d8b-54e1ad558569:f:\\sudhanshu\\opensourceprojects\\mindsdb\\mindsdb\\libs\\backends\\lightwood.py:151 - We've reached training epoch nr 400 with an r2 score of 0.523 on the testing dataset\n",
      "\n",
      "DEBUG:mindsdb-logger-574dd138-f22d-11e9-8d8b-54e1ad558569:f:\\sudhanshu\\opensourceprojects\\mindsdb\\mindsdb\\libs\\backends\\lightwood.py:151 - We've reached training epoch nr 420 with an r2 score of 0.514 on the testing dataset\n",
      "\n",
      "DEBUG:mindsdb-logger-574dd138-f22d-11e9-8d8b-54e1ad558569:f:\\sudhanshu\\opensourceprojects\\mindsdb\\mindsdb\\libs\\backends\\lightwood.py:151 - We've reached training epoch nr 440 with an r2 score of 0.531 on the testing dataset\n",
      "\n",
      "DEBUG:mindsdb-logger-574dd138-f22d-11e9-8d8b-54e1ad558569:f:\\sudhanshu\\opensourceprojects\\mindsdb\\mindsdb\\libs\\backends\\lightwood.py:151 - We've reached training epoch nr 460 with an r2 score of 0.52 on the testing dataset\n",
      "\n",
      "DEBUG:mindsdb-logger-574dd138-f22d-11e9-8d8b-54e1ad558569:f:\\sudhanshu\\opensourceprojects\\mindsdb\\mindsdb\\libs\\backends\\lightwood.py:151 - We've reached training epoch nr 480 with an r2 score of 0.525 on the testing dataset\n",
      "\n",
      "DEBUG:mindsdb-logger-574dd138-f22d-11e9-8d8b-54e1ad558569:f:\\sudhanshu\\opensourceprojects\\mindsdb\\mindsdb\\libs\\backends\\lightwood.py:151 - We've reached training epoch nr 500 with an r2 score of 0.534 on the testing dataset\n",
      "\n",
      "DEBUG:mindsdb-logger-574dd138-f22d-11e9-8d8b-54e1ad558569:f:\\sudhanshu\\opensourceprojects\\mindsdb\\mindsdb\\libs\\backends\\lightwood.py:151 - We've reached training epoch nr 520 with an r2 score of 0.525 on the testing dataset\n",
      "\n",
      "INFO:mindsdb-logger-574dd138-f22d-11e9-8d8b-54e1ad558569:f:\\sudhanshu\\opensourceprojects\\mindsdb\\mindsdb\\libs\\backends\\lightwood.py:187 - Training accuracy of: {'CO(GT)': {'function': 'r2_score', 'value': 0.5308611151658521}}\n",
      "\n",
      "INFO:mindsdb-logger-574dd138-f22d-11e9-8d8b-54e1ad558569:f:\\sudhanshu\\opensourceprojects\\mindsdb\\mindsdb\\libs\\phases\\base_module.py:57 - [END] ModelInterface, execution time: 761.249 seconds\n",
      "\n",
      "INFO:mindsdb-logger-574dd138-f22d-11e9-8d8b-54e1ad558569:f:\\sudhanshu\\opensourceprojects\\mindsdb\\mindsdb\\libs\\phases\\base_module.py:52 - [START] ModelAnalyzer\n",
      "\n"
     ]
    },
    {
     "name": "stdout",
     "output_type": "stream",
     "text": [
      "Can't disable output on Jupyter notebook\n",
      "Can't disable output on Jupyter notebook\n"
     ]
    },
    {
     "name": "stderr",
     "output_type": "stream",
     "text": [
      "Column Date is very biased towards the value 1086882624.0, please make sure that the data in this column is correct !\n"
     ]
    },
    {
     "name": "stdout",
     "output_type": "stream",
     "text": [
      "Can't disable output on Jupyter notebook\n",
      "Can't disable output on Jupyter notebook\n",
      "Can't disable output on Jupyter notebook\n"
     ]
    },
    {
     "name": "stderr",
     "output_type": "stream",
     "text": [
      "Column Date is very biased towards the value 1097915040.0, please make sure that the data in this column is correct !\n"
     ]
    },
    {
     "name": "stdout",
     "output_type": "stream",
     "text": [
      "Can't disable output on Jupyter notebook\n",
      "Can't disable output on Jupyter notebook\n",
      "Can't disable output on Jupyter notebook\n",
      "Can't disable output on Jupyter notebook\n",
      "Can't disable output on Jupyter notebook\n",
      "Can't disable output on Jupyter notebook\n"
     ]
    },
    {
     "name": "stderr",
     "output_type": "stream",
     "text": [
      "c:\\users\\sudhanshu\\appdata\\local\\conda\\conda\\envs\\py37\\lib\\site-packages\\sklearn\\neighbors\\lof.py:253: UserWarning: n_neighbors (20) is greater than the total number of samples (13). n_neighbors will be set to (n_samples - 1) for estimation.\n",
      "  % (self.n_neighbors, n_samples))\n",
      "c:\\users\\sudhanshu\\appdata\\local\\conda\\conda\\envs\\py37\\lib\\site-packages\\sklearn\\neighbors\\lof.py:253: UserWarning: n_neighbors (20) is greater than the total number of samples (13). n_neighbors will be set to (n_samples - 1) for estimation.\n",
      "  % (self.n_neighbors, n_samples))\n",
      "c:\\users\\sudhanshu\\appdata\\local\\conda\\conda\\envs\\py37\\lib\\site-packages\\sklearn\\neighbors\\lof.py:253: UserWarning: n_neighbors (20) is greater than the total number of samples (13). n_neighbors will be set to (n_samples - 1) for estimation.\n",
      "  % (self.n_neighbors, n_samples))\n",
      "c:\\users\\sudhanshu\\appdata\\local\\conda\\conda\\envs\\py37\\lib\\site-packages\\sklearn\\neighbors\\lof.py:253: UserWarning: n_neighbors (20) is greater than the total number of samples (13). n_neighbors will be set to (n_samples - 1) for estimation.\n",
      "  % (self.n_neighbors, n_samples))\n",
      "c:\\users\\sudhanshu\\appdata\\local\\conda\\conda\\envs\\py37\\lib\\site-packages\\sklearn\\neighbors\\lof.py:253: UserWarning: n_neighbors (20) is greater than the total number of samples (13). n_neighbors will be set to (n_samples - 1) for estimation.\n",
      "  % (self.n_neighbors, n_samples))\n",
      "c:\\users\\sudhanshu\\appdata\\local\\conda\\conda\\envs\\py37\\lib\\site-packages\\sklearn\\neighbors\\lof.py:253: UserWarning: n_neighbors (20) is greater than the total number of samples (13). n_neighbors will be set to (n_samples - 1) for estimation.\n",
      "  % (self.n_neighbors, n_samples))\n",
      "c:\\users\\sudhanshu\\appdata\\local\\conda\\conda\\envs\\py37\\lib\\site-packages\\sklearn\\neighbors\\lof.py:253: UserWarning: n_neighbors (20) is greater than the total number of samples (13). n_neighbors will be set to (n_samples - 1) for estimation.\n",
      "  % (self.n_neighbors, n_samples))\n",
      "c:\\users\\sudhanshu\\appdata\\local\\conda\\conda\\envs\\py37\\lib\\site-packages\\sklearn\\neighbors\\lof.py:253: UserWarning: n_neighbors (20) is greater than the total number of samples (13). n_neighbors will be set to (n_samples - 1) for estimation.\n",
      "  % (self.n_neighbors, n_samples))\n",
      "c:\\users\\sudhanshu\\appdata\\local\\conda\\conda\\envs\\py37\\lib\\site-packages\\sklearn\\neighbors\\lof.py:253: UserWarning: n_neighbors (20) is greater than the total number of samples (13). n_neighbors will be set to (n_samples - 1) for estimation.\n",
      "  % (self.n_neighbors, n_samples))\n",
      "c:\\users\\sudhanshu\\appdata\\local\\conda\\conda\\envs\\py37\\lib\\site-packages\\sklearn\\neighbors\\lof.py:253: UserWarning: n_neighbors (20) is greater than the total number of samples (13). n_neighbors will be set to (n_samples - 1) for estimation.\n",
      "  % (self.n_neighbors, n_samples))\n",
      "c:\\users\\sudhanshu\\appdata\\local\\conda\\conda\\envs\\py37\\lib\\site-packages\\sklearn\\neighbors\\lof.py:253: UserWarning: n_neighbors (20) is greater than the total number of samples (13). n_neighbors will be set to (n_samples - 1) for estimation.\n",
      "  % (self.n_neighbors, n_samples))\n",
      "c:\\users\\sudhanshu\\appdata\\local\\conda\\conda\\envs\\py37\\lib\\site-packages\\sklearn\\neighbors\\lof.py:253: UserWarning: n_neighbors (20) is greater than the total number of samples (13). n_neighbors will be set to (n_samples - 1) for estimation.\n",
      "  % (self.n_neighbors, n_samples))\n",
      "c:\\users\\sudhanshu\\appdata\\local\\conda\\conda\\envs\\py37\\lib\\site-packages\\sklearn\\neighbors\\lof.py:253: UserWarning: n_neighbors (20) is greater than the total number of samples (13). n_neighbors will be set to (n_samples - 1) for estimation.\n",
      "  % (self.n_neighbors, n_samples))\n",
      "c:\\users\\sudhanshu\\appdata\\local\\conda\\conda\\envs\\py37\\lib\\site-packages\\sklearn\\neighbors\\lof.py:253: UserWarning: n_neighbors (20) is greater than the total number of samples (13). n_neighbors will be set to (n_samples - 1) for estimation.\n",
      "  % (self.n_neighbors, n_samples))\n",
      "Column Date is very biased towards the value 1101047040.0, please make sure that the data in this column is correct !\n"
     ]
    },
    {
     "name": "stdout",
     "output_type": "stream",
     "text": [
      "Can't disable output on Jupyter notebook\n",
      "Can't disable output on Jupyter notebook\n",
      "Can't disable output on Jupyter notebook\n"
     ]
    },
    {
     "name": "stderr",
     "output_type": "stream",
     "text": [
      "Column Date is very biased towards the value 1082347488.0, please make sure that the data in this column is correct !\n"
     ]
    },
    {
     "name": "stdout",
     "output_type": "stream",
     "text": [
      "Can't disable output on Jupyter notebook\n",
      "Can't disable output on Jupyter notebook\n",
      "Can't disable output on Jupyter notebook\n"
     ]
    },
    {
     "name": "stderr",
     "output_type": "stream",
     "text": [
      "c:\\users\\sudhanshu\\appdata\\local\\conda\\conda\\envs\\py37\\lib\\site-packages\\sklearn\\neighbors\\lof.py:253: UserWarning: n_neighbors (20) is greater than the total number of samples (10). n_neighbors will be set to (n_samples - 1) for estimation.\n",
      "  % (self.n_neighbors, n_samples))\n",
      "c:\\users\\sudhanshu\\appdata\\local\\conda\\conda\\envs\\py37\\lib\\site-packages\\sklearn\\neighbors\\lof.py:253: UserWarning: n_neighbors (20) is greater than the total number of samples (10). n_neighbors will be set to (n_samples - 1) for estimation.\n",
      "  % (self.n_neighbors, n_samples))\n",
      "c:\\users\\sudhanshu\\appdata\\local\\conda\\conda\\envs\\py37\\lib\\site-packages\\sklearn\\neighbors\\lof.py:253: UserWarning: n_neighbors (20) is greater than the total number of samples (10). n_neighbors will be set to (n_samples - 1) for estimation.\n",
      "  % (self.n_neighbors, n_samples))\n",
      "c:\\users\\sudhanshu\\appdata\\local\\conda\\conda\\envs\\py37\\lib\\site-packages\\sklearn\\neighbors\\lof.py:253: UserWarning: n_neighbors (20) is greater than the total number of samples (10). n_neighbors will be set to (n_samples - 1) for estimation.\n",
      "  % (self.n_neighbors, n_samples))\n",
      "c:\\users\\sudhanshu\\appdata\\local\\conda\\conda\\envs\\py37\\lib\\site-packages\\sklearn\\neighbors\\lof.py:253: UserWarning: n_neighbors (20) is greater than the total number of samples (10). n_neighbors will be set to (n_samples - 1) for estimation.\n",
      "  % (self.n_neighbors, n_samples))\n",
      "c:\\users\\sudhanshu\\appdata\\local\\conda\\conda\\envs\\py37\\lib\\site-packages\\sklearn\\neighbors\\lof.py:253: UserWarning: n_neighbors (20) is greater than the total number of samples (10). n_neighbors will be set to (n_samples - 1) for estimation.\n",
      "  % (self.n_neighbors, n_samples))\n",
      "c:\\users\\sudhanshu\\appdata\\local\\conda\\conda\\envs\\py37\\lib\\site-packages\\sklearn\\neighbors\\lof.py:253: UserWarning: n_neighbors (20) is greater than the total number of samples (10). n_neighbors will be set to (n_samples - 1) for estimation.\n",
      "  % (self.n_neighbors, n_samples))\n",
      "c:\\users\\sudhanshu\\appdata\\local\\conda\\conda\\envs\\py37\\lib\\site-packages\\sklearn\\neighbors\\lof.py:253: UserWarning: n_neighbors (20) is greater than the total number of samples (10). n_neighbors will be set to (n_samples - 1) for estimation.\n",
      "  % (self.n_neighbors, n_samples))\n",
      "c:\\users\\sudhanshu\\appdata\\local\\conda\\conda\\envs\\py37\\lib\\site-packages\\sklearn\\neighbors\\lof.py:253: UserWarning: n_neighbors (20) is greater than the total number of samples (10). n_neighbors will be set to (n_samples - 1) for estimation.\n",
      "  % (self.n_neighbors, n_samples))\n",
      "c:\\users\\sudhanshu\\appdata\\local\\conda\\conda\\envs\\py37\\lib\\site-packages\\sklearn\\neighbors\\lof.py:253: UserWarning: n_neighbors (20) is greater than the total number of samples (10). n_neighbors will be set to (n_samples - 1) for estimation.\n",
      "  % (self.n_neighbors, n_samples))\n",
      "c:\\users\\sudhanshu\\appdata\\local\\conda\\conda\\envs\\py37\\lib\\site-packages\\sklearn\\neighbors\\lof.py:253: UserWarning: n_neighbors (20) is greater than the total number of samples (10). n_neighbors will be set to (n_samples - 1) for estimation.\n",
      "  % (self.n_neighbors, n_samples))\n",
      "c:\\users\\sudhanshu\\appdata\\local\\conda\\conda\\envs\\py37\\lib\\site-packages\\sklearn\\neighbors\\lof.py:253: UserWarning: n_neighbors (20) is greater than the total number of samples (10). n_neighbors will be set to (n_samples - 1) for estimation.\n",
      "  % (self.n_neighbors, n_samples))\n",
      "c:\\users\\sudhanshu\\appdata\\local\\conda\\conda\\envs\\py37\\lib\\site-packages\\sklearn\\neighbors\\lof.py:253: UserWarning: n_neighbors (20) is greater than the total number of samples (10). n_neighbors will be set to (n_samples - 1) for estimation.\n",
      "  % (self.n_neighbors, n_samples))\n",
      "c:\\users\\sudhanshu\\appdata\\local\\conda\\conda\\envs\\py37\\lib\\site-packages\\sklearn\\neighbors\\lof.py:253: UserWarning: n_neighbors (20) is greater than the total number of samples (10). n_neighbors will be set to (n_samples - 1) for estimation.\n",
      "  % (self.n_neighbors, n_samples))\n",
      "Column Date is very biased towards the value 1083490560.0, please make sure that the data in this column is correct !\n"
     ]
    },
    {
     "name": "stdout",
     "output_type": "stream",
     "text": [
      "Can't disable output on Jupyter notebook\n",
      "Can't disable output on Jupyter notebook\n",
      "Can't disable output on Jupyter notebook\n"
     ]
    },
    {
     "name": "stderr",
     "output_type": "stream",
     "text": [
      "Column Date is very biased towards the value 1082721600.0, please make sure that the data in this column is correct !\n"
     ]
    },
    {
     "name": "stdout",
     "output_type": "stream",
     "text": [
      "Can't disable output on Jupyter notebook\n",
      "Can't disable output on Jupyter notebook\n",
      "Can't disable output on Jupyter notebook\n"
     ]
    },
    {
     "name": "stderr",
     "output_type": "stream",
     "text": [
      "Column Date is very biased towards the value 1087464960.0, please make sure that the data in this column is correct !\n"
     ]
    },
    {
     "name": "stdout",
     "output_type": "stream",
     "text": [
      "Can't disable output on Jupyter notebook\n",
      "Can't disable output on Jupyter notebook\n",
      "Can't disable output on Jupyter notebook\n"
     ]
    },
    {
     "name": "stderr",
     "output_type": "stream",
     "text": [
      "c:\\users\\sudhanshu\\appdata\\local\\conda\\conda\\envs\\py37\\lib\\site-packages\\sklearn\\neighbors\\lof.py:253: UserWarning: n_neighbors (20) is greater than the total number of samples (17). n_neighbors will be set to (n_samples - 1) for estimation.\n",
      "  % (self.n_neighbors, n_samples))\n",
      "c:\\users\\sudhanshu\\appdata\\local\\conda\\conda\\envs\\py37\\lib\\site-packages\\sklearn\\neighbors\\lof.py:253: UserWarning: n_neighbors (20) is greater than the total number of samples (17). n_neighbors will be set to (n_samples - 1) for estimation.\n",
      "  % (self.n_neighbors, n_samples))\n",
      "c:\\users\\sudhanshu\\appdata\\local\\conda\\conda\\envs\\py37\\lib\\site-packages\\sklearn\\neighbors\\lof.py:253: UserWarning: n_neighbors (20) is greater than the total number of samples (17). n_neighbors will be set to (n_samples - 1) for estimation.\n",
      "  % (self.n_neighbors, n_samples))\n",
      "c:\\users\\sudhanshu\\appdata\\local\\conda\\conda\\envs\\py37\\lib\\site-packages\\scipy\\stats\\stats.py:2315: RuntimeWarning: invalid value encountered in true_divide\n",
      "  return (a - mns) / sstd\n",
      "c:\\users\\sudhanshu\\appdata\\local\\conda\\conda\\envs\\py37\\lib\\site-packages\\sklearn\\neighbors\\lof.py:253: UserWarning: n_neighbors (20) is greater than the total number of samples (17). n_neighbors will be set to (n_samples - 1) for estimation.\n",
      "  % (self.n_neighbors, n_samples))\n",
      "c:\\users\\sudhanshu\\appdata\\local\\conda\\conda\\envs\\py37\\lib\\site-packages\\sklearn\\neighbors\\lof.py:253: UserWarning: n_neighbors (20) is greater than the total number of samples (17). n_neighbors will be set to (n_samples - 1) for estimation.\n",
      "  % (self.n_neighbors, n_samples))\n",
      "c:\\users\\sudhanshu\\appdata\\local\\conda\\conda\\envs\\py37\\lib\\site-packages\\sklearn\\neighbors\\lof.py:253: UserWarning: n_neighbors (20) is greater than the total number of samples (17). n_neighbors will be set to (n_samples - 1) for estimation.\n",
      "  % (self.n_neighbors, n_samples))\n",
      "c:\\users\\sudhanshu\\appdata\\local\\conda\\conda\\envs\\py37\\lib\\site-packages\\sklearn\\neighbors\\lof.py:253: UserWarning: n_neighbors (20) is greater than the total number of samples (17). n_neighbors will be set to (n_samples - 1) for estimation.\n",
      "  % (self.n_neighbors, n_samples))\n",
      "c:\\users\\sudhanshu\\appdata\\local\\conda\\conda\\envs\\py37\\lib\\site-packages\\sklearn\\neighbors\\lof.py:253: UserWarning: n_neighbors (20) is greater than the total number of samples (17). n_neighbors will be set to (n_samples - 1) for estimation.\n",
      "  % (self.n_neighbors, n_samples))\n",
      "c:\\users\\sudhanshu\\appdata\\local\\conda\\conda\\envs\\py37\\lib\\site-packages\\sklearn\\neighbors\\lof.py:253: UserWarning: n_neighbors (20) is greater than the total number of samples (17). n_neighbors will be set to (n_samples - 1) for estimation.\n",
      "  % (self.n_neighbors, n_samples))\n",
      "c:\\users\\sudhanshu\\appdata\\local\\conda\\conda\\envs\\py37\\lib\\site-packages\\sklearn\\neighbors\\lof.py:253: UserWarning: n_neighbors (20) is greater than the total number of samples (17). n_neighbors will be set to (n_samples - 1) for estimation.\n",
      "  % (self.n_neighbors, n_samples))\n",
      "c:\\users\\sudhanshu\\appdata\\local\\conda\\conda\\envs\\py37\\lib\\site-packages\\sklearn\\neighbors\\lof.py:253: UserWarning: n_neighbors (20) is greater than the total number of samples (17). n_neighbors will be set to (n_samples - 1) for estimation.\n",
      "  % (self.n_neighbors, n_samples))\n",
      "c:\\users\\sudhanshu\\appdata\\local\\conda\\conda\\envs\\py37\\lib\\site-packages\\sklearn\\neighbors\\lof.py:253: UserWarning: n_neighbors (20) is greater than the total number of samples (17). n_neighbors will be set to (n_samples - 1) for estimation.\n",
      "  % (self.n_neighbors, n_samples))\n",
      "c:\\users\\sudhanshu\\appdata\\local\\conda\\conda\\envs\\py37\\lib\\site-packages\\sklearn\\neighbors\\lof.py:253: UserWarning: n_neighbors (20) is greater than the total number of samples (17). n_neighbors will be set to (n_samples - 1) for estimation.\n",
      "  % (self.n_neighbors, n_samples))\n",
      "c:\\users\\sudhanshu\\appdata\\local\\conda\\conda\\envs\\py37\\lib\\site-packages\\sklearn\\neighbors\\lof.py:253: UserWarning: n_neighbors (20) is greater than the total number of samples (17). n_neighbors will be set to (n_samples - 1) for estimation.\n",
      "  % (self.n_neighbors, n_samples))\n",
      "Column Date is very biased towards the value 1094731200.0, please make sure that the data in this column is correct !\n"
     ]
    },
    {
     "name": "stdout",
     "output_type": "stream",
     "text": [
      "Can't disable output on Jupyter notebook\n",
      "Can't disable output on Jupyter notebook\n",
      "Can't disable output on Jupyter notebook\n"
     ]
    },
    {
     "name": "stderr",
     "output_type": "stream",
     "text": [
      "Column Date is very biased towards the value 1107540864.0, please make sure that the data in this column is correct !\n"
     ]
    },
    {
     "name": "stdout",
     "output_type": "stream",
     "text": [
      "Can't disable output on Jupyter notebook\n",
      "Can't disable output on Jupyter notebook\n",
      "Can't disable output on Jupyter notebook\n"
     ]
    },
    {
     "name": "stderr",
     "output_type": "stream",
     "text": [
      "c:\\users\\sudhanshu\\appdata\\local\\conda\\conda\\envs\\py37\\lib\\site-packages\\sklearn\\neighbors\\lof.py:253: UserWarning: n_neighbors (20) is greater than the total number of samples (15). n_neighbors will be set to (n_samples - 1) for estimation.\n",
      "  % (self.n_neighbors, n_samples))\n",
      "c:\\users\\sudhanshu\\appdata\\local\\conda\\conda\\envs\\py37\\lib\\site-packages\\sklearn\\neighbors\\lof.py:253: UserWarning: n_neighbors (20) is greater than the total number of samples (15). n_neighbors will be set to (n_samples - 1) for estimation.\n",
      "  % (self.n_neighbors, n_samples))\n",
      "c:\\users\\sudhanshu\\appdata\\local\\conda\\conda\\envs\\py37\\lib\\site-packages\\sklearn\\neighbors\\lof.py:253: UserWarning: n_neighbors (20) is greater than the total number of samples (15). n_neighbors will be set to (n_samples - 1) for estimation.\n",
      "  % (self.n_neighbors, n_samples))\n",
      "c:\\users\\sudhanshu\\appdata\\local\\conda\\conda\\envs\\py37\\lib\\site-packages\\sklearn\\neighbors\\lof.py:253: UserWarning: n_neighbors (20) is greater than the total number of samples (15). n_neighbors will be set to (n_samples - 1) for estimation.\n",
      "  % (self.n_neighbors, n_samples))\n",
      "c:\\users\\sudhanshu\\appdata\\local\\conda\\conda\\envs\\py37\\lib\\site-packages\\sklearn\\neighbors\\lof.py:253: UserWarning: n_neighbors (20) is greater than the total number of samples (15). n_neighbors will be set to (n_samples - 1) for estimation.\n",
      "  % (self.n_neighbors, n_samples))\n",
      "c:\\users\\sudhanshu\\appdata\\local\\conda\\conda\\envs\\py37\\lib\\site-packages\\sklearn\\neighbors\\lof.py:253: UserWarning: n_neighbors (20) is greater than the total number of samples (15). n_neighbors will be set to (n_samples - 1) for estimation.\n",
      "  % (self.n_neighbors, n_samples))\n",
      "c:\\users\\sudhanshu\\appdata\\local\\conda\\conda\\envs\\py37\\lib\\site-packages\\sklearn\\neighbors\\lof.py:253: UserWarning: n_neighbors (20) is greater than the total number of samples (15). n_neighbors will be set to (n_samples - 1) for estimation.\n",
      "  % (self.n_neighbors, n_samples))\n",
      "c:\\users\\sudhanshu\\appdata\\local\\conda\\conda\\envs\\py37\\lib\\site-packages\\sklearn\\neighbors\\lof.py:253: UserWarning: n_neighbors (20) is greater than the total number of samples (15). n_neighbors will be set to (n_samples - 1) for estimation.\n",
      "  % (self.n_neighbors, n_samples))\n",
      "c:\\users\\sudhanshu\\appdata\\local\\conda\\conda\\envs\\py37\\lib\\site-packages\\sklearn\\neighbors\\lof.py:253: UserWarning: n_neighbors (20) is greater than the total number of samples (15). n_neighbors will be set to (n_samples - 1) for estimation.\n",
      "  % (self.n_neighbors, n_samples))\n",
      "c:\\users\\sudhanshu\\appdata\\local\\conda\\conda\\envs\\py37\\lib\\site-packages\\sklearn\\neighbors\\lof.py:253: UserWarning: n_neighbors (20) is greater than the total number of samples (15). n_neighbors will be set to (n_samples - 1) for estimation.\n",
      "  % (self.n_neighbors, n_samples))\n",
      "c:\\users\\sudhanshu\\appdata\\local\\conda\\conda\\envs\\py37\\lib\\site-packages\\sklearn\\neighbors\\lof.py:253: UserWarning: n_neighbors (20) is greater than the total number of samples (15). n_neighbors will be set to (n_samples - 1) for estimation.\n",
      "  % (self.n_neighbors, n_samples))\n",
      "c:\\users\\sudhanshu\\appdata\\local\\conda\\conda\\envs\\py37\\lib\\site-packages\\sklearn\\neighbors\\lof.py:253: UserWarning: n_neighbors (20) is greater than the total number of samples (15). n_neighbors will be set to (n_samples - 1) for estimation.\n",
      "  % (self.n_neighbors, n_samples))\n",
      "c:\\users\\sudhanshu\\appdata\\local\\conda\\conda\\envs\\py37\\lib\\site-packages\\sklearn\\neighbors\\lof.py:253: UserWarning: n_neighbors (20) is greater than the total number of samples (15). n_neighbors will be set to (n_samples - 1) for estimation.\n",
      "  % (self.n_neighbors, n_samples))\n",
      "c:\\users\\sudhanshu\\appdata\\local\\conda\\conda\\envs\\py37\\lib\\site-packages\\sklearn\\neighbors\\lof.py:253: UserWarning: n_neighbors (20) is greater than the total number of samples (15). n_neighbors will be set to (n_samples - 1) for estimation.\n",
      "  % (self.n_neighbors, n_samples))\n",
      "Column Date is very biased towards the value 1089596448.0, please make sure that the data in this column is correct !\n"
     ]
    },
    {
     "name": "stdout",
     "output_type": "stream",
     "text": [
      "Can't disable output on Jupyter notebook\n",
      "Can't disable output on Jupyter notebook\n",
      "Can't disable output on Jupyter notebook\n"
     ]
    },
    {
     "name": "stderr",
     "output_type": "stream",
     "text": [
      "Column Date is very biased towards the value 1088820576.0, please make sure that the data in this column is correct !\n"
     ]
    },
    {
     "name": "stdout",
     "output_type": "stream",
     "text": [
      "Can't disable output on Jupyter notebook\n",
      "Can't disable output on Jupyter notebook\n",
      "Can't disable output on Jupyter notebook\n",
      "Can't disable output on Jupyter notebook\n",
      "Can't disable output on Jupyter notebook\n",
      "Can't disable output on Jupyter notebook\n"
     ]
    },
    {
     "name": "stderr",
     "output_type": "stream",
     "text": [
      "Column Date is very biased towards the value 1078994304.0, please make sure that the data in this column is correct !\n"
     ]
    },
    {
     "name": "stdout",
     "output_type": "stream",
     "text": [
      "Can't disable output on Jupyter notebook\n",
      "Can't disable output on Jupyter notebook\n",
      "Can't disable output on Jupyter notebook\n"
     ]
    },
    {
     "name": "stderr",
     "output_type": "stream",
     "text": [
      "Column Date is very biased towards the value 1112015520.0, please make sure that the data in this column is correct !\n"
     ]
    },
    {
     "name": "stdout",
     "output_type": "stream",
     "text": [
      "Can't disable output on Jupyter notebook\n",
      "Can't disable output on Jupyter notebook\n",
      "Can't disable output on Jupyter notebook\n"
     ]
    },
    {
     "name": "stderr",
     "output_type": "stream",
     "text": [
      "c:\\users\\sudhanshu\\appdata\\local\\conda\\conda\\envs\\py37\\lib\\site-packages\\sklearn\\neighbors\\lof.py:253: UserWarning: n_neighbors (20) is greater than the total number of samples (9). n_neighbors will be set to (n_samples - 1) for estimation.\n",
      "  % (self.n_neighbors, n_samples))\n",
      "c:\\users\\sudhanshu\\appdata\\local\\conda\\conda\\envs\\py37\\lib\\site-packages\\sklearn\\neighbors\\lof.py:253: UserWarning: n_neighbors (20) is greater than the total number of samples (9). n_neighbors will be set to (n_samples - 1) for estimation.\n",
      "  % (self.n_neighbors, n_samples))\n",
      "c:\\users\\sudhanshu\\appdata\\local\\conda\\conda\\envs\\py37\\lib\\site-packages\\sklearn\\neighbors\\lof.py:253: UserWarning: n_neighbors (20) is greater than the total number of samples (9). n_neighbors will be set to (n_samples - 1) for estimation.\n",
      "  % (self.n_neighbors, n_samples))\n",
      "c:\\users\\sudhanshu\\appdata\\local\\conda\\conda\\envs\\py37\\lib\\site-packages\\sklearn\\neighbors\\lof.py:253: UserWarning: n_neighbors (20) is greater than the total number of samples (9). n_neighbors will be set to (n_samples - 1) for estimation.\n",
      "  % (self.n_neighbors, n_samples))\n",
      "c:\\users\\sudhanshu\\appdata\\local\\conda\\conda\\envs\\py37\\lib\\site-packages\\sklearn\\neighbors\\lof.py:253: UserWarning: n_neighbors (20) is greater than the total number of samples (9). n_neighbors will be set to (n_samples - 1) for estimation.\n",
      "  % (self.n_neighbors, n_samples))\n",
      "c:\\users\\sudhanshu\\appdata\\local\\conda\\conda\\envs\\py37\\lib\\site-packages\\sklearn\\neighbors\\lof.py:253: UserWarning: n_neighbors (20) is greater than the total number of samples (9). n_neighbors will be set to (n_samples - 1) for estimation.\n",
      "  % (self.n_neighbors, n_samples))\n",
      "c:\\users\\sudhanshu\\appdata\\local\\conda\\conda\\envs\\py37\\lib\\site-packages\\sklearn\\neighbors\\lof.py:253: UserWarning: n_neighbors (20) is greater than the total number of samples (9). n_neighbors will be set to (n_samples - 1) for estimation.\n",
      "  % (self.n_neighbors, n_samples))\n",
      "c:\\users\\sudhanshu\\appdata\\local\\conda\\conda\\envs\\py37\\lib\\site-packages\\sklearn\\neighbors\\lof.py:253: UserWarning: n_neighbors (20) is greater than the total number of samples (9). n_neighbors will be set to (n_samples - 1) for estimation.\n",
      "  % (self.n_neighbors, n_samples))\n",
      "c:\\users\\sudhanshu\\appdata\\local\\conda\\conda\\envs\\py37\\lib\\site-packages\\sklearn\\neighbors\\lof.py:253: UserWarning: n_neighbors (20) is greater than the total number of samples (9). n_neighbors will be set to (n_samples - 1) for estimation.\n",
      "  % (self.n_neighbors, n_samples))\n",
      "c:\\users\\sudhanshu\\appdata\\local\\conda\\conda\\envs\\py37\\lib\\site-packages\\sklearn\\neighbors\\lof.py:253: UserWarning: n_neighbors (20) is greater than the total number of samples (9). n_neighbors will be set to (n_samples - 1) for estimation.\n",
      "  % (self.n_neighbors, n_samples))\n",
      "c:\\users\\sudhanshu\\appdata\\local\\conda\\conda\\envs\\py37\\lib\\site-packages\\sklearn\\neighbors\\lof.py:253: UserWarning: n_neighbors (20) is greater than the total number of samples (9). n_neighbors will be set to (n_samples - 1) for estimation.\n",
      "  % (self.n_neighbors, n_samples))\n",
      "c:\\users\\sudhanshu\\appdata\\local\\conda\\conda\\envs\\py37\\lib\\site-packages\\sklearn\\neighbors\\lof.py:253: UserWarning: n_neighbors (20) is greater than the total number of samples (9). n_neighbors will be set to (n_samples - 1) for estimation.\n",
      "  % (self.n_neighbors, n_samples))\n",
      "c:\\users\\sudhanshu\\appdata\\local\\conda\\conda\\envs\\py37\\lib\\site-packages\\sklearn\\neighbors\\lof.py:253: UserWarning: n_neighbors (20) is greater than the total number of samples (9). n_neighbors will be set to (n_samples - 1) for estimation.\n",
      "  % (self.n_neighbors, n_samples))\n",
      "c:\\users\\sudhanshu\\appdata\\local\\conda\\conda\\envs\\py37\\lib\\site-packages\\sklearn\\neighbors\\lof.py:253: UserWarning: n_neighbors (20) is greater than the total number of samples (9). n_neighbors will be set to (n_samples - 1) for estimation.\n",
      "  % (self.n_neighbors, n_samples))\n",
      "Column Date is very biased towards the value 1076256288.0, please make sure that the data in this column is correct !\n"
     ]
    },
    {
     "name": "stdout",
     "output_type": "stream",
     "text": [
      "Can't disable output on Jupyter notebook\n",
      "Can't disable output on Jupyter notebook\n",
      "Can't disable output on Jupyter notebook\n"
     ]
    },
    {
     "name": "stderr",
     "output_type": "stream",
     "text": [
      "Column Date is very biased towards the value 1109246400.0, please make sure that the data in this column is correct !\n"
     ]
    },
    {
     "name": "stdout",
     "output_type": "stream",
     "text": [
      "Can't disable output on Jupyter notebook\n",
      "Can't disable output on Jupyter notebook\n",
      "Can't disable output on Jupyter notebook\n"
     ]
    },
    {
     "name": "stderr",
     "output_type": "stream",
     "text": [
      "Column Date is very biased towards the value 1080080352.0, please make sure that the data in this column is correct !\n"
     ]
    },
    {
     "name": "stdout",
     "output_type": "stream",
     "text": [
      "Can't disable output on Jupyter notebook\n",
      "Can't disable output on Jupyter notebook\n",
      "Can't disable output on Jupyter notebook\n",
      "Can't disable output on Jupyter notebook\n",
      "Can't disable output on Jupyter notebook\n",
      "Can't disable output on Jupyter notebook\n"
     ]
    },
    {
     "name": "stderr",
     "output_type": "stream",
     "text": [
      "c:\\users\\sudhanshu\\appdata\\local\\conda\\conda\\envs\\py37\\lib\\site-packages\\sklearn\\neighbors\\lof.py:253: UserWarning: n_neighbors (20) is greater than the total number of samples (2). n_neighbors will be set to (n_samples - 1) for estimation.\n",
      "  % (self.n_neighbors, n_samples))\n",
      "c:\\users\\sudhanshu\\appdata\\local\\conda\\conda\\envs\\py37\\lib\\site-packages\\scipy\\stats\\stats.py:2315: RuntimeWarning: invalid value encountered in true_divide\n",
      "  return (a - mns) / sstd\n",
      "c:\\users\\sudhanshu\\appdata\\local\\conda\\conda\\envs\\py37\\lib\\site-packages\\sklearn\\neighbors\\lof.py:253: UserWarning: n_neighbors (20) is greater than the total number of samples (2). n_neighbors will be set to (n_samples - 1) for estimation.\n",
      "  % (self.n_neighbors, n_samples))\n",
      "c:\\users\\sudhanshu\\appdata\\local\\conda\\conda\\envs\\py37\\lib\\site-packages\\sklearn\\neighbors\\lof.py:253: UserWarning: n_neighbors (20) is greater than the total number of samples (2). n_neighbors will be set to (n_samples - 1) for estimation.\n",
      "  % (self.n_neighbors, n_samples))\n",
      "c:\\users\\sudhanshu\\appdata\\local\\conda\\conda\\envs\\py37\\lib\\site-packages\\scipy\\stats\\stats.py:2315: RuntimeWarning: invalid value encountered in true_divide\n",
      "  return (a - mns) / sstd\n",
      "c:\\users\\sudhanshu\\appdata\\local\\conda\\conda\\envs\\py37\\lib\\site-packages\\sklearn\\neighbors\\lof.py:253: UserWarning: n_neighbors (20) is greater than the total number of samples (2). n_neighbors will be set to (n_samples - 1) for estimation.\n",
      "  % (self.n_neighbors, n_samples))\n",
      "c:\\users\\sudhanshu\\appdata\\local\\conda\\conda\\envs\\py37\\lib\\site-packages\\sklearn\\neighbors\\lof.py:253: UserWarning: n_neighbors (20) is greater than the total number of samples (2). n_neighbors will be set to (n_samples - 1) for estimation.\n",
      "  % (self.n_neighbors, n_samples))\n",
      "c:\\users\\sudhanshu\\appdata\\local\\conda\\conda\\envs\\py37\\lib\\site-packages\\sklearn\\neighbors\\lof.py:253: UserWarning: n_neighbors (20) is greater than the total number of samples (2). n_neighbors will be set to (n_samples - 1) for estimation.\n",
      "  % (self.n_neighbors, n_samples))\n",
      "c:\\users\\sudhanshu\\appdata\\local\\conda\\conda\\envs\\py37\\lib\\site-packages\\sklearn\\neighbors\\lof.py:253: UserWarning: n_neighbors (20) is greater than the total number of samples (2). n_neighbors will be set to (n_samples - 1) for estimation.\n",
      "  % (self.n_neighbors, n_samples))\n",
      "c:\\users\\sudhanshu\\appdata\\local\\conda\\conda\\envs\\py37\\lib\\site-packages\\sklearn\\neighbors\\lof.py:253: UserWarning: n_neighbors (20) is greater than the total number of samples (2). n_neighbors will be set to (n_samples - 1) for estimation.\n",
      "  % (self.n_neighbors, n_samples))\n",
      "c:\\users\\sudhanshu\\appdata\\local\\conda\\conda\\envs\\py37\\lib\\site-packages\\sklearn\\neighbors\\lof.py:253: UserWarning: n_neighbors (20) is greater than the total number of samples (2). n_neighbors will be set to (n_samples - 1) for estimation.\n",
      "  % (self.n_neighbors, n_samples))\n",
      "c:\\users\\sudhanshu\\appdata\\local\\conda\\conda\\envs\\py37\\lib\\site-packages\\sklearn\\neighbors\\lof.py:253: UserWarning: n_neighbors (20) is greater than the total number of samples (2). n_neighbors will be set to (n_samples - 1) for estimation.\n",
      "  % (self.n_neighbors, n_samples))\n",
      "c:\\users\\sudhanshu\\appdata\\local\\conda\\conda\\envs\\py37\\lib\\site-packages\\sklearn\\neighbors\\lof.py:253: UserWarning: n_neighbors (20) is greater than the total number of samples (2). n_neighbors will be set to (n_samples - 1) for estimation.\n",
      "  % (self.n_neighbors, n_samples))\n",
      "c:\\users\\sudhanshu\\appdata\\local\\conda\\conda\\envs\\py37\\lib\\site-packages\\sklearn\\neighbors\\lof.py:253: UserWarning: n_neighbors (20) is greater than the total number of samples (2). n_neighbors will be set to (n_samples - 1) for estimation.\n",
      "  % (self.n_neighbors, n_samples))\n",
      "c:\\users\\sudhanshu\\appdata\\local\\conda\\conda\\envs\\py37\\lib\\site-packages\\sklearn\\neighbors\\lof.py:253: UserWarning: n_neighbors (20) is greater than the total number of samples (2). n_neighbors will be set to (n_samples - 1) for estimation.\n",
      "  % (self.n_neighbors, n_samples))\n",
      "c:\\users\\sudhanshu\\appdata\\local\\conda\\conda\\envs\\py37\\lib\\site-packages\\sklearn\\neighbors\\lof.py:253: UserWarning: n_neighbors (20) is greater than the total number of samples (2). n_neighbors will be set to (n_samples - 1) for estimation.\n",
      "  % (self.n_neighbors, n_samples))\n",
      "Column Date is very biased towards the value 1100825856.0, please make sure that the data in this column is correct !\n"
     ]
    },
    {
     "name": "stdout",
     "output_type": "stream",
     "text": [
      "Can't disable output on Jupyter notebook\n",
      "Can't disable output on Jupyter notebook\n",
      "Can't disable output on Jupyter notebook\n"
     ]
    },
    {
     "name": "stderr",
     "output_type": "stream",
     "text": [
      "Column Date is very biased towards the value 1103328864.0, please make sure that the data in this column is correct !\n"
     ]
    },
    {
     "name": "stdout",
     "output_type": "stream",
     "text": [
      "Can't disable output on Jupyter notebook\n",
      "Can't disable output on Jupyter notebook\n",
      "Can't disable output on Jupyter notebook\n"
     ]
    },
    {
     "name": "stderr",
     "output_type": "stream",
     "text": [
      "c:\\users\\sudhanshu\\appdata\\local\\conda\\conda\\envs\\py37\\lib\\site-packages\\sklearn\\neighbors\\lof.py:253: UserWarning: n_neighbors (20) is greater than the total number of samples (15). n_neighbors will be set to (n_samples - 1) for estimation.\n",
      "  % (self.n_neighbors, n_samples))\n",
      "c:\\users\\sudhanshu\\appdata\\local\\conda\\conda\\envs\\py37\\lib\\site-packages\\sklearn\\neighbors\\lof.py:253: UserWarning: n_neighbors (20) is greater than the total number of samples (15). n_neighbors will be set to (n_samples - 1) for estimation.\n",
      "  % (self.n_neighbors, n_samples))\n",
      "c:\\users\\sudhanshu\\appdata\\local\\conda\\conda\\envs\\py37\\lib\\site-packages\\sklearn\\neighbors\\lof.py:253: UserWarning: n_neighbors (20) is greater than the total number of samples (15). n_neighbors will be set to (n_samples - 1) for estimation.\n",
      "  % (self.n_neighbors, n_samples))\n",
      "c:\\users\\sudhanshu\\appdata\\local\\conda\\conda\\envs\\py37\\lib\\site-packages\\sklearn\\neighbors\\lof.py:253: UserWarning: n_neighbors (20) is greater than the total number of samples (15). n_neighbors will be set to (n_samples - 1) for estimation.\n",
      "  % (self.n_neighbors, n_samples))\n",
      "c:\\users\\sudhanshu\\appdata\\local\\conda\\conda\\envs\\py37\\lib\\site-packages\\sklearn\\neighbors\\lof.py:253: UserWarning: n_neighbors (20) is greater than the total number of samples (15). n_neighbors will be set to (n_samples - 1) for estimation.\n",
      "  % (self.n_neighbors, n_samples))\n",
      "c:\\users\\sudhanshu\\appdata\\local\\conda\\conda\\envs\\py37\\lib\\site-packages\\sklearn\\neighbors\\lof.py:253: UserWarning: n_neighbors (20) is greater than the total number of samples (15). n_neighbors will be set to (n_samples - 1) for estimation.\n",
      "  % (self.n_neighbors, n_samples))\n",
      "c:\\users\\sudhanshu\\appdata\\local\\conda\\conda\\envs\\py37\\lib\\site-packages\\sklearn\\neighbors\\lof.py:253: UserWarning: n_neighbors (20) is greater than the total number of samples (15). n_neighbors will be set to (n_samples - 1) for estimation.\n",
      "  % (self.n_neighbors, n_samples))\n",
      "c:\\users\\sudhanshu\\appdata\\local\\conda\\conda\\envs\\py37\\lib\\site-packages\\sklearn\\neighbors\\lof.py:253: UserWarning: n_neighbors (20) is greater than the total number of samples (15). n_neighbors will be set to (n_samples - 1) for estimation.\n",
      "  % (self.n_neighbors, n_samples))\n",
      "c:\\users\\sudhanshu\\appdata\\local\\conda\\conda\\envs\\py37\\lib\\site-packages\\sklearn\\neighbors\\lof.py:253: UserWarning: n_neighbors (20) is greater than the total number of samples (15). n_neighbors will be set to (n_samples - 1) for estimation.\n",
      "  % (self.n_neighbors, n_samples))\n",
      "c:\\users\\sudhanshu\\appdata\\local\\conda\\conda\\envs\\py37\\lib\\site-packages\\sklearn\\neighbors\\lof.py:253: UserWarning: n_neighbors (20) is greater than the total number of samples (15). n_neighbors will be set to (n_samples - 1) for estimation.\n",
      "  % (self.n_neighbors, n_samples))\n",
      "c:\\users\\sudhanshu\\appdata\\local\\conda\\conda\\envs\\py37\\lib\\site-packages\\sklearn\\neighbors\\lof.py:253: UserWarning: n_neighbors (20) is greater than the total number of samples (15). n_neighbors will be set to (n_samples - 1) for estimation.\n",
      "  % (self.n_neighbors, n_samples))\n",
      "c:\\users\\sudhanshu\\appdata\\local\\conda\\conda\\envs\\py37\\lib\\site-packages\\sklearn\\neighbors\\lof.py:253: UserWarning: n_neighbors (20) is greater than the total number of samples (15). n_neighbors will be set to (n_samples - 1) for estimation.\n",
      "  % (self.n_neighbors, n_samples))\n",
      "c:\\users\\sudhanshu\\appdata\\local\\conda\\conda\\envs\\py37\\lib\\site-packages\\sklearn\\neighbors\\lof.py:253: UserWarning: n_neighbors (20) is greater than the total number of samples (15). n_neighbors will be set to (n_samples - 1) for estimation.\n",
      "  % (self.n_neighbors, n_samples))\n",
      "c:\\users\\sudhanshu\\appdata\\local\\conda\\conda\\envs\\py37\\lib\\site-packages\\sklearn\\neighbors\\lof.py:253: UserWarning: n_neighbors (20) is greater than the total number of samples (15). n_neighbors will be set to (n_samples - 1) for estimation.\n",
      "  % (self.n_neighbors, n_samples))\n",
      "Column Date is very biased towards the value 1106278560.0, please make sure that the data in this column is correct !\n"
     ]
    },
    {
     "name": "stdout",
     "output_type": "stream",
     "text": [
      "Can't disable output on Jupyter notebook\n",
      "Can't disable output on Jupyter notebook\n",
      "Can't disable output on Jupyter notebook\n"
     ]
    },
    {
     "name": "stderr",
     "output_type": "stream",
     "text": [
      "c:\\users\\sudhanshu\\appdata\\local\\conda\\conda\\envs\\py37\\lib\\site-packages\\sklearn\\neighbors\\lof.py:253: UserWarning: n_neighbors (20) is greater than the total number of samples (2). n_neighbors will be set to (n_samples - 1) for estimation.\n",
      "  % (self.n_neighbors, n_samples))\n",
      "c:\\users\\sudhanshu\\appdata\\local\\conda\\conda\\envs\\py37\\lib\\site-packages\\sklearn\\neighbors\\lof.py:253: UserWarning: n_neighbors (20) is greater than the total number of samples (2). n_neighbors will be set to (n_samples - 1) for estimation.\n",
      "  % (self.n_neighbors, n_samples))\n",
      "c:\\users\\sudhanshu\\appdata\\local\\conda\\conda\\envs\\py37\\lib\\site-packages\\sklearn\\neighbors\\lof.py:253: UserWarning: n_neighbors (20) is greater than the total number of samples (2). n_neighbors will be set to (n_samples - 1) for estimation.\n",
      "  % (self.n_neighbors, n_samples))\n",
      "c:\\users\\sudhanshu\\appdata\\local\\conda\\conda\\envs\\py37\\lib\\site-packages\\scipy\\stats\\stats.py:2315: RuntimeWarning: invalid value encountered in true_divide\n",
      "  return (a - mns) / sstd\n",
      "c:\\users\\sudhanshu\\appdata\\local\\conda\\conda\\envs\\py37\\lib\\site-packages\\sklearn\\neighbors\\lof.py:253: UserWarning: n_neighbors (20) is greater than the total number of samples (2). n_neighbors will be set to (n_samples - 1) for estimation.\n",
      "  % (self.n_neighbors, n_samples))\n",
      "c:\\users\\sudhanshu\\appdata\\local\\conda\\conda\\envs\\py37\\lib\\site-packages\\sklearn\\neighbors\\lof.py:253: UserWarning: n_neighbors (20) is greater than the total number of samples (2). n_neighbors will be set to (n_samples - 1) for estimation.\n",
      "  % (self.n_neighbors, n_samples))\n",
      "c:\\users\\sudhanshu\\appdata\\local\\conda\\conda\\envs\\py37\\lib\\site-packages\\sklearn\\neighbors\\lof.py:253: UserWarning: n_neighbors (20) is greater than the total number of samples (2). n_neighbors will be set to (n_samples - 1) for estimation.\n",
      "  % (self.n_neighbors, n_samples))\n",
      "c:\\users\\sudhanshu\\appdata\\local\\conda\\conda\\envs\\py37\\lib\\site-packages\\sklearn\\neighbors\\lof.py:253: UserWarning: n_neighbors (20) is greater than the total number of samples (2). n_neighbors will be set to (n_samples - 1) for estimation.\n",
      "  % (self.n_neighbors, n_samples))\n",
      "c:\\users\\sudhanshu\\appdata\\local\\conda\\conda\\envs\\py37\\lib\\site-packages\\sklearn\\neighbors\\lof.py:253: UserWarning: n_neighbors (20) is greater than the total number of samples (2). n_neighbors will be set to (n_samples - 1) for estimation.\n",
      "  % (self.n_neighbors, n_samples))\n",
      "c:\\users\\sudhanshu\\appdata\\local\\conda\\conda\\envs\\py37\\lib\\site-packages\\sklearn\\neighbors\\lof.py:253: UserWarning: n_neighbors (20) is greater than the total number of samples (2). n_neighbors will be set to (n_samples - 1) for estimation.\n",
      "  % (self.n_neighbors, n_samples))\n",
      "c:\\users\\sudhanshu\\appdata\\local\\conda\\conda\\envs\\py37\\lib\\site-packages\\sklearn\\neighbors\\lof.py:253: UserWarning: n_neighbors (20) is greater than the total number of samples (2). n_neighbors will be set to (n_samples - 1) for estimation.\n",
      "  % (self.n_neighbors, n_samples))\n",
      "c:\\users\\sudhanshu\\appdata\\local\\conda\\conda\\envs\\py37\\lib\\site-packages\\sklearn\\neighbors\\lof.py:253: UserWarning: n_neighbors (20) is greater than the total number of samples (2). n_neighbors will be set to (n_samples - 1) for estimation.\n",
      "  % (self.n_neighbors, n_samples))\n",
      "c:\\users\\sudhanshu\\appdata\\local\\conda\\conda\\envs\\py37\\lib\\site-packages\\sklearn\\neighbors\\lof.py:253: UserWarning: n_neighbors (20) is greater than the total number of samples (2). n_neighbors will be set to (n_samples - 1) for estimation.\n",
      "  % (self.n_neighbors, n_samples))\n",
      "c:\\users\\sudhanshu\\appdata\\local\\conda\\conda\\envs\\py37\\lib\\site-packages\\sklearn\\neighbors\\lof.py:253: UserWarning: n_neighbors (20) is greater than the total number of samples (2). n_neighbors will be set to (n_samples - 1) for estimation.\n",
      "  % (self.n_neighbors, n_samples))\n",
      "c:\\users\\sudhanshu\\appdata\\local\\conda\\conda\\envs\\py37\\lib\\site-packages\\sklearn\\neighbors\\lof.py:253: UserWarning: n_neighbors (20) is greater than the total number of samples (2). n_neighbors will be set to (n_samples - 1) for estimation.\n",
      "  % (self.n_neighbors, n_samples))\n",
      "Column Date is very biased towards the value 1099628352.0, please make sure that the data in this column is correct !\n"
     ]
    },
    {
     "name": "stdout",
     "output_type": "stream",
     "text": [
      "Can't disable output on Jupyter notebook\n",
      "Can't disable output on Jupyter notebook\n",
      "Can't disable output on Jupyter notebook\n"
     ]
    },
    {
     "name": "stderr",
     "output_type": "stream",
     "text": [
      "c:\\users\\sudhanshu\\appdata\\local\\conda\\conda\\envs\\py37\\lib\\site-packages\\sklearn\\neighbors\\lof.py:253: UserWarning: n_neighbors (20) is greater than the total number of samples (9). n_neighbors will be set to (n_samples - 1) for estimation.\n",
      "  % (self.n_neighbors, n_samples))\n",
      "c:\\users\\sudhanshu\\appdata\\local\\conda\\conda\\envs\\py37\\lib\\site-packages\\sklearn\\neighbors\\lof.py:253: UserWarning: n_neighbors (20) is greater than the total number of samples (9). n_neighbors will be set to (n_samples - 1) for estimation.\n",
      "  % (self.n_neighbors, n_samples))\n",
      "c:\\users\\sudhanshu\\appdata\\local\\conda\\conda\\envs\\py37\\lib\\site-packages\\sklearn\\neighbors\\lof.py:253: UserWarning: n_neighbors (20) is greater than the total number of samples (9). n_neighbors will be set to (n_samples - 1) for estimation.\n",
      "  % (self.n_neighbors, n_samples))\n",
      "c:\\users\\sudhanshu\\appdata\\local\\conda\\conda\\envs\\py37\\lib\\site-packages\\sklearn\\neighbors\\lof.py:253: UserWarning: n_neighbors (20) is greater than the total number of samples (9). n_neighbors will be set to (n_samples - 1) for estimation.\n",
      "  % (self.n_neighbors, n_samples))\n",
      "c:\\users\\sudhanshu\\appdata\\local\\conda\\conda\\envs\\py37\\lib\\site-packages\\sklearn\\neighbors\\lof.py:253: UserWarning: n_neighbors (20) is greater than the total number of samples (9). n_neighbors will be set to (n_samples - 1) for estimation.\n",
      "  % (self.n_neighbors, n_samples))\n",
      "c:\\users\\sudhanshu\\appdata\\local\\conda\\conda\\envs\\py37\\lib\\site-packages\\sklearn\\neighbors\\lof.py:253: UserWarning: n_neighbors (20) is greater than the total number of samples (9). n_neighbors will be set to (n_samples - 1) for estimation.\n",
      "  % (self.n_neighbors, n_samples))\n",
      "c:\\users\\sudhanshu\\appdata\\local\\conda\\conda\\envs\\py37\\lib\\site-packages\\sklearn\\neighbors\\lof.py:253: UserWarning: n_neighbors (20) is greater than the total number of samples (9). n_neighbors will be set to (n_samples - 1) for estimation.\n",
      "  % (self.n_neighbors, n_samples))\n",
      "c:\\users\\sudhanshu\\appdata\\local\\conda\\conda\\envs\\py37\\lib\\site-packages\\sklearn\\neighbors\\lof.py:253: UserWarning: n_neighbors (20) is greater than the total number of samples (9). n_neighbors will be set to (n_samples - 1) for estimation.\n",
      "  % (self.n_neighbors, n_samples))\n",
      "c:\\users\\sudhanshu\\appdata\\local\\conda\\conda\\envs\\py37\\lib\\site-packages\\sklearn\\neighbors\\lof.py:253: UserWarning: n_neighbors (20) is greater than the total number of samples (9). n_neighbors will be set to (n_samples - 1) for estimation.\n",
      "  % (self.n_neighbors, n_samples))\n",
      "c:\\users\\sudhanshu\\appdata\\local\\conda\\conda\\envs\\py37\\lib\\site-packages\\sklearn\\neighbors\\lof.py:253: UserWarning: n_neighbors (20) is greater than the total number of samples (9). n_neighbors will be set to (n_samples - 1) for estimation.\n",
      "  % (self.n_neighbors, n_samples))\n",
      "c:\\users\\sudhanshu\\appdata\\local\\conda\\conda\\envs\\py37\\lib\\site-packages\\sklearn\\neighbors\\lof.py:253: UserWarning: n_neighbors (20) is greater than the total number of samples (9). n_neighbors will be set to (n_samples - 1) for estimation.\n",
      "  % (self.n_neighbors, n_samples))\n",
      "c:\\users\\sudhanshu\\appdata\\local\\conda\\conda\\envs\\py37\\lib\\site-packages\\sklearn\\neighbors\\lof.py:253: UserWarning: n_neighbors (20) is greater than the total number of samples (9). n_neighbors will be set to (n_samples - 1) for estimation.\n",
      "  % (self.n_neighbors, n_samples))\n",
      "c:\\users\\sudhanshu\\appdata\\local\\conda\\conda\\envs\\py37\\lib\\site-packages\\sklearn\\neighbors\\lof.py:253: UserWarning: n_neighbors (20) is greater than the total number of samples (9). n_neighbors will be set to (n_samples - 1) for estimation.\n",
      "  % (self.n_neighbors, n_samples))\n",
      "c:\\users\\sudhanshu\\appdata\\local\\conda\\conda\\envs\\py37\\lib\\site-packages\\sklearn\\neighbors\\lof.py:253: UserWarning: n_neighbors (20) is greater than the total number of samples (9). n_neighbors will be set to (n_samples - 1) for estimation.\n",
      "  % (self.n_neighbors, n_samples))\n",
      "Column Date is very biased towards the value 1100253888.0, please make sure that the data in this column is correct !\n"
     ]
    },
    {
     "name": "stdout",
     "output_type": "stream",
     "text": [
      "Can't disable output on Jupyter notebook\n",
      "Can't disable output on Jupyter notebook\n",
      "Can't disable output on Jupyter notebook\n"
     ]
    },
    {
     "name": "stderr",
     "output_type": "stream",
     "text": [
      "c:\\users\\sudhanshu\\appdata\\local\\conda\\conda\\envs\\py37\\lib\\site-packages\\scipy\\stats\\stats.py:2315: RuntimeWarning: invalid value encountered in true_divide\n",
      "  return (a - mns) / sstd\n",
      "c:\\users\\sudhanshu\\appdata\\local\\conda\\conda\\envs\\py37\\lib\\site-packages\\sklearn\\neighbors\\lof.py:253: UserWarning: n_neighbors (20) is greater than the total number of samples (1). n_neighbors will be set to (n_samples - 1) for estimation.\n",
      "  % (self.n_neighbors, n_samples))\n"
     ]
    },
    {
     "name": "stdout",
     "output_type": "stream",
     "text": [
      "Can't disable output on Jupyter notebook\n",
      "Can't disable output on Jupyter notebook\n",
      "Can't disable output on Jupyter notebook\n"
     ]
    },
    {
     "name": "stderr",
     "output_type": "stream",
     "text": [
      "c:\\users\\sudhanshu\\appdata\\local\\conda\\conda\\envs\\py37\\lib\\site-packages\\sklearn\\neighbors\\lof.py:253: UserWarning: n_neighbors (20) is greater than the total number of samples (3). n_neighbors will be set to (n_samples - 1) for estimation.\n",
      "  % (self.n_neighbors, n_samples))\n",
      "c:\\users\\sudhanshu\\appdata\\local\\conda\\conda\\envs\\py37\\lib\\site-packages\\sklearn\\neighbors\\lof.py:253: UserWarning: n_neighbors (20) is greater than the total number of samples (3). n_neighbors will be set to (n_samples - 1) for estimation.\n",
      "  % (self.n_neighbors, n_samples))\n",
      "c:\\users\\sudhanshu\\appdata\\local\\conda\\conda\\envs\\py37\\lib\\site-packages\\sklearn\\neighbors\\lof.py:253: UserWarning: n_neighbors (20) is greater than the total number of samples (3). n_neighbors will be set to (n_samples - 1) for estimation.\n",
      "  % (self.n_neighbors, n_samples))\n",
      "c:\\users\\sudhanshu\\appdata\\local\\conda\\conda\\envs\\py37\\lib\\site-packages\\scipy\\stats\\stats.py:2315: RuntimeWarning: invalid value encountered in true_divide\n",
      "  return (a - mns) / sstd\n",
      "c:\\users\\sudhanshu\\appdata\\local\\conda\\conda\\envs\\py37\\lib\\site-packages\\sklearn\\neighbors\\lof.py:253: UserWarning: n_neighbors (20) is greater than the total number of samples (3). n_neighbors will be set to (n_samples - 1) for estimation.\n",
      "  % (self.n_neighbors, n_samples))\n",
      "c:\\users\\sudhanshu\\appdata\\local\\conda\\conda\\envs\\py37\\lib\\site-packages\\sklearn\\neighbors\\lof.py:253: UserWarning: n_neighbors (20) is greater than the total number of samples (3). n_neighbors will be set to (n_samples - 1) for estimation.\n",
      "  % (self.n_neighbors, n_samples))\n",
      "c:\\users\\sudhanshu\\appdata\\local\\conda\\conda\\envs\\py37\\lib\\site-packages\\sklearn\\neighbors\\lof.py:253: UserWarning: n_neighbors (20) is greater than the total number of samples (3). n_neighbors will be set to (n_samples - 1) for estimation.\n",
      "  % (self.n_neighbors, n_samples))\n",
      "c:\\users\\sudhanshu\\appdata\\local\\conda\\conda\\envs\\py37\\lib\\site-packages\\sklearn\\neighbors\\lof.py:253: UserWarning: n_neighbors (20) is greater than the total number of samples (3). n_neighbors will be set to (n_samples - 1) for estimation.\n",
      "  % (self.n_neighbors, n_samples))\n",
      "c:\\users\\sudhanshu\\appdata\\local\\conda\\conda\\envs\\py37\\lib\\site-packages\\sklearn\\neighbors\\lof.py:253: UserWarning: n_neighbors (20) is greater than the total number of samples (3). n_neighbors will be set to (n_samples - 1) for estimation.\n",
      "  % (self.n_neighbors, n_samples))\n",
      "c:\\users\\sudhanshu\\appdata\\local\\conda\\conda\\envs\\py37\\lib\\site-packages\\sklearn\\neighbors\\lof.py:253: UserWarning: n_neighbors (20) is greater than the total number of samples (3). n_neighbors will be set to (n_samples - 1) for estimation.\n",
      "  % (self.n_neighbors, n_samples))\n",
      "c:\\users\\sudhanshu\\appdata\\local\\conda\\conda\\envs\\py37\\lib\\site-packages\\sklearn\\neighbors\\lof.py:253: UserWarning: n_neighbors (20) is greater than the total number of samples (3). n_neighbors will be set to (n_samples - 1) for estimation.\n",
      "  % (self.n_neighbors, n_samples))\n",
      "c:\\users\\sudhanshu\\appdata\\local\\conda\\conda\\envs\\py37\\lib\\site-packages\\sklearn\\neighbors\\lof.py:253: UserWarning: n_neighbors (20) is greater than the total number of samples (3). n_neighbors will be set to (n_samples - 1) for estimation.\n",
      "  % (self.n_neighbors, n_samples))\n",
      "c:\\users\\sudhanshu\\appdata\\local\\conda\\conda\\envs\\py37\\lib\\site-packages\\sklearn\\neighbors\\lof.py:253: UserWarning: n_neighbors (20) is greater than the total number of samples (3). n_neighbors will be set to (n_samples - 1) for estimation.\n",
      "  % (self.n_neighbors, n_samples))\n",
      "c:\\users\\sudhanshu\\appdata\\local\\conda\\conda\\envs\\py37\\lib\\site-packages\\sklearn\\neighbors\\lof.py:253: UserWarning: n_neighbors (20) is greater than the total number of samples (3). n_neighbors will be set to (n_samples - 1) for estimation.\n",
      "  % (self.n_neighbors, n_samples))\n",
      "c:\\users\\sudhanshu\\appdata\\local\\conda\\conda\\envs\\py37\\lib\\site-packages\\sklearn\\neighbors\\lof.py:253: UserWarning: n_neighbors (20) is greater than the total number of samples (3). n_neighbors will be set to (n_samples - 1) for estimation.\n",
      "  % (self.n_neighbors, n_samples))\n",
      "Column Date is very biased towards the value 1095964128.0, please make sure that the data in this column is correct !\n"
     ]
    },
    {
     "name": "stdout",
     "output_type": "stream",
     "text": [
      "Can't disable output on Jupyter notebook\n",
      "Can't disable output on Jupyter notebook\n",
      "Can't disable output on Jupyter notebook\n"
     ]
    },
    {
     "name": "stderr",
     "output_type": "stream",
     "text": [
      "c:\\users\\sudhanshu\\appdata\\local\\conda\\conda\\envs\\py37\\lib\\site-packages\\scipy\\stats\\stats.py:2315: RuntimeWarning: invalid value encountered in true_divide\n",
      "  return (a - mns) / sstd\n",
      "c:\\users\\sudhanshu\\appdata\\local\\conda\\conda\\envs\\py37\\lib\\site-packages\\sklearn\\neighbors\\lof.py:253: UserWarning: n_neighbors (20) is greater than the total number of samples (1). n_neighbors will be set to (n_samples - 1) for estimation.\n",
      "  % (self.n_neighbors, n_samples))\n"
     ]
    },
    {
     "name": "stdout",
     "output_type": "stream",
     "text": [
      "Can't disable output on Jupyter notebook\n",
      "Can't disable output on Jupyter notebook\n",
      "Can't disable output on Jupyter notebook\n"
     ]
    },
    {
     "name": "stderr",
     "output_type": "stream",
     "text": [
      "c:\\users\\sudhanshu\\appdata\\local\\conda\\conda\\envs\\py37\\lib\\site-packages\\sklearn\\neighbors\\lof.py:253: UserWarning: n_neighbors (20) is greater than the total number of samples (2). n_neighbors will be set to (n_samples - 1) for estimation.\n",
      "  % (self.n_neighbors, n_samples))\n",
      "c:\\users\\sudhanshu\\appdata\\local\\conda\\conda\\envs\\py37\\lib\\site-packages\\sklearn\\neighbors\\lof.py:253: UserWarning: n_neighbors (20) is greater than the total number of samples (2). n_neighbors will be set to (n_samples - 1) for estimation.\n",
      "  % (self.n_neighbors, n_samples))\n",
      "c:\\users\\sudhanshu\\appdata\\local\\conda\\conda\\envs\\py37\\lib\\site-packages\\sklearn\\neighbors\\lof.py:253: UserWarning: n_neighbors (20) is greater than the total number of samples (2). n_neighbors will be set to (n_samples - 1) for estimation.\n",
      "  % (self.n_neighbors, n_samples))\n",
      "c:\\users\\sudhanshu\\appdata\\local\\conda\\conda\\envs\\py37\\lib\\site-packages\\scipy\\stats\\stats.py:2315: RuntimeWarning: invalid value encountered in true_divide\n",
      "  return (a - mns) / sstd\n",
      "c:\\users\\sudhanshu\\appdata\\local\\conda\\conda\\envs\\py37\\lib\\site-packages\\sklearn\\neighbors\\lof.py:253: UserWarning: n_neighbors (20) is greater than the total number of samples (2). n_neighbors will be set to (n_samples - 1) for estimation.\n",
      "  % (self.n_neighbors, n_samples))\n",
      "c:\\users\\sudhanshu\\appdata\\local\\conda\\conda\\envs\\py37\\lib\\site-packages\\sklearn\\neighbors\\lof.py:253: UserWarning: n_neighbors (20) is greater than the total number of samples (2). n_neighbors will be set to (n_samples - 1) for estimation.\n",
      "  % (self.n_neighbors, n_samples))\n",
      "c:\\users\\sudhanshu\\appdata\\local\\conda\\conda\\envs\\py37\\lib\\site-packages\\sklearn\\neighbors\\lof.py:253: UserWarning: n_neighbors (20) is greater than the total number of samples (2). n_neighbors will be set to (n_samples - 1) for estimation.\n",
      "  % (self.n_neighbors, n_samples))\n",
      "c:\\users\\sudhanshu\\appdata\\local\\conda\\conda\\envs\\py37\\lib\\site-packages\\sklearn\\neighbors\\lof.py:253: UserWarning: n_neighbors (20) is greater than the total number of samples (2). n_neighbors will be set to (n_samples - 1) for estimation.\n",
      "  % (self.n_neighbors, n_samples))\n",
      "c:\\users\\sudhanshu\\appdata\\local\\conda\\conda\\envs\\py37\\lib\\site-packages\\sklearn\\neighbors\\lof.py:253: UserWarning: n_neighbors (20) is greater than the total number of samples (2). n_neighbors will be set to (n_samples - 1) for estimation.\n",
      "  % (self.n_neighbors, n_samples))\n",
      "c:\\users\\sudhanshu\\appdata\\local\\conda\\conda\\envs\\py37\\lib\\site-packages\\sklearn\\neighbors\\lof.py:253: UserWarning: n_neighbors (20) is greater than the total number of samples (2). n_neighbors will be set to (n_samples - 1) for estimation.\n",
      "  % (self.n_neighbors, n_samples))\n",
      "c:\\users\\sudhanshu\\appdata\\local\\conda\\conda\\envs\\py37\\lib\\site-packages\\sklearn\\neighbors\\lof.py:253: UserWarning: n_neighbors (20) is greater than the total number of samples (2). n_neighbors will be set to (n_samples - 1) for estimation.\n",
      "  % (self.n_neighbors, n_samples))\n",
      "c:\\users\\sudhanshu\\appdata\\local\\conda\\conda\\envs\\py37\\lib\\site-packages\\sklearn\\neighbors\\lof.py:253: UserWarning: n_neighbors (20) is greater than the total number of samples (2). n_neighbors will be set to (n_samples - 1) for estimation.\n",
      "  % (self.n_neighbors, n_samples))\n",
      "c:\\users\\sudhanshu\\appdata\\local\\conda\\conda\\envs\\py37\\lib\\site-packages\\sklearn\\neighbors\\lof.py:253: UserWarning: n_neighbors (20) is greater than the total number of samples (2). n_neighbors will be set to (n_samples - 1) for estimation.\n",
      "  % (self.n_neighbors, n_samples))\n",
      "c:\\users\\sudhanshu\\appdata\\local\\conda\\conda\\envs\\py37\\lib\\site-packages\\sklearn\\neighbors\\lof.py:253: UserWarning: n_neighbors (20) is greater than the total number of samples (2). n_neighbors will be set to (n_samples - 1) for estimation.\n",
      "  % (self.n_neighbors, n_samples))\n",
      "c:\\users\\sudhanshu\\appdata\\local\\conda\\conda\\envs\\py37\\lib\\site-packages\\sklearn\\neighbors\\lof.py:253: UserWarning: n_neighbors (20) is greater than the total number of samples (2). n_neighbors will be set to (n_samples - 1) for estimation.\n",
      "  % (self.n_neighbors, n_samples))\n",
      "Column Date is very biased towards the value 1103781600.0, please make sure that the data in this column is correct !\n"
     ]
    },
    {
     "name": "stdout",
     "output_type": "stream",
     "text": [
      "Can't disable output on Jupyter notebook\n",
      "Can't disable output on Jupyter notebook\n",
      "Can't disable output on Jupyter notebook\n"
     ]
    },
    {
     "name": "stderr",
     "output_type": "stream",
     "text": [
      "c:\\users\\sudhanshu\\appdata\\local\\conda\\conda\\envs\\py37\\lib\\site-packages\\scipy\\stats\\stats.py:2315: RuntimeWarning: invalid value encountered in true_divide\n",
      "  return (a - mns) / sstd\n",
      "c:\\users\\sudhanshu\\appdata\\local\\conda\\conda\\envs\\py37\\lib\\site-packages\\sklearn\\neighbors\\lof.py:253: UserWarning: n_neighbors (20) is greater than the total number of samples (1). n_neighbors will be set to (n_samples - 1) for estimation.\n",
      "  % (self.n_neighbors, n_samples))\n"
     ]
    },
    {
     "name": "stdout",
     "output_type": "stream",
     "text": [
      "Can't disable output on Jupyter notebook\n",
      "Can't disable output on Jupyter notebook\n",
      "Can't disable output on Jupyter notebook\n"
     ]
    },
    {
     "name": "stderr",
     "output_type": "stream",
     "text": [
      "c:\\users\\sudhanshu\\appdata\\local\\conda\\conda\\envs\\py37\\lib\\site-packages\\scipy\\stats\\stats.py:2315: RuntimeWarning: invalid value encountered in true_divide\n",
      "  return (a - mns) / sstd\n",
      "c:\\users\\sudhanshu\\appdata\\local\\conda\\conda\\envs\\py37\\lib\\site-packages\\sklearn\\neighbors\\lof.py:253: UserWarning: n_neighbors (20) is greater than the total number of samples (1). n_neighbors will be set to (n_samples - 1) for estimation.\n",
      "  % (self.n_neighbors, n_samples))\n"
     ]
    },
    {
     "name": "stdout",
     "output_type": "stream",
     "text": [
      "Can't disable output on Jupyter notebook\n",
      "Can't disable output on Jupyter notebook\n",
      "Can't disable output on Jupyter notebook\n"
     ]
    },
    {
     "name": "stderr",
     "output_type": "stream",
     "text": [
      "c:\\users\\sudhanshu\\appdata\\local\\conda\\conda\\envs\\py37\\lib\\site-packages\\scipy\\stats\\stats.py:2315: RuntimeWarning: invalid value encountered in true_divide\n",
      "  return (a - mns) / sstd\n",
      "c:\\users\\sudhanshu\\appdata\\local\\conda\\conda\\envs\\py37\\lib\\site-packages\\sklearn\\neighbors\\lof.py:253: UserWarning: n_neighbors (20) is greater than the total number of samples (1). n_neighbors will be set to (n_samples - 1) for estimation.\n",
      "  % (self.n_neighbors, n_samples))\n"
     ]
    },
    {
     "name": "stdout",
     "output_type": "stream",
     "text": [
      "Can't disable output on Jupyter notebook\n",
      "Can't disable output on Jupyter notebook\n",
      "Can't disable output on Jupyter notebook\n"
     ]
    },
    {
     "name": "stderr",
     "output_type": "stream",
     "text": [
      "c:\\users\\sudhanshu\\appdata\\local\\conda\\conda\\envs\\py37\\lib\\site-packages\\scipy\\stats\\stats.py:2315: RuntimeWarning: invalid value encountered in true_divide\n",
      "  return (a - mns) / sstd\n",
      "c:\\users\\sudhanshu\\appdata\\local\\conda\\conda\\envs\\py37\\lib\\site-packages\\sklearn\\neighbors\\lof.py:253: UserWarning: n_neighbors (20) is greater than the total number of samples (1). n_neighbors will be set to (n_samples - 1) for estimation.\n",
      "  % (self.n_neighbors, n_samples))\n"
     ]
    },
    {
     "name": "stdout",
     "output_type": "stream",
     "text": [
      "Can't disable output on Jupyter notebook\n",
      "Can't disable output on Jupyter notebook\n",
      "Can't disable output on Jupyter notebook\n"
     ]
    },
    {
     "name": "stderr",
     "output_type": "stream",
     "text": [
      "c:\\users\\sudhanshu\\appdata\\local\\conda\\conda\\envs\\py37\\lib\\site-packages\\sklearn\\neighbors\\lof.py:253: UserWarning: n_neighbors (20) is greater than the total number of samples (2). n_neighbors will be set to (n_samples - 1) for estimation.\n",
      "  % (self.n_neighbors, n_samples))\n",
      "c:\\users\\sudhanshu\\appdata\\local\\conda\\conda\\envs\\py37\\lib\\site-packages\\scipy\\stats\\stats.py:2315: RuntimeWarning: invalid value encountered in true_divide\n",
      "  return (a - mns) / sstd\n",
      "c:\\users\\sudhanshu\\appdata\\local\\conda\\conda\\envs\\py37\\lib\\site-packages\\sklearn\\neighbors\\lof.py:253: UserWarning: n_neighbors (20) is greater than the total number of samples (2). n_neighbors will be set to (n_samples - 1) for estimation.\n",
      "  % (self.n_neighbors, n_samples))\n",
      "c:\\users\\sudhanshu\\appdata\\local\\conda\\conda\\envs\\py37\\lib\\site-packages\\sklearn\\neighbors\\lof.py:253: UserWarning: n_neighbors (20) is greater than the total number of samples (2). n_neighbors will be set to (n_samples - 1) for estimation.\n",
      "  % (self.n_neighbors, n_samples))\n",
      "c:\\users\\sudhanshu\\appdata\\local\\conda\\conda\\envs\\py37\\lib\\site-packages\\scipy\\stats\\stats.py:2315: RuntimeWarning: invalid value encountered in true_divide\n",
      "  return (a - mns) / sstd\n",
      "c:\\users\\sudhanshu\\appdata\\local\\conda\\conda\\envs\\py37\\lib\\site-packages\\sklearn\\neighbors\\lof.py:253: UserWarning: n_neighbors (20) is greater than the total number of samples (2). n_neighbors will be set to (n_samples - 1) for estimation.\n",
      "  % (self.n_neighbors, n_samples))\n",
      "c:\\users\\sudhanshu\\appdata\\local\\conda\\conda\\envs\\py37\\lib\\site-packages\\sklearn\\neighbors\\lof.py:253: UserWarning: n_neighbors (20) is greater than the total number of samples (2). n_neighbors will be set to (n_samples - 1) for estimation.\n",
      "  % (self.n_neighbors, n_samples))\n",
      "c:\\users\\sudhanshu\\appdata\\local\\conda\\conda\\envs\\py37\\lib\\site-packages\\sklearn\\neighbors\\lof.py:253: UserWarning: n_neighbors (20) is greater than the total number of samples (2). n_neighbors will be set to (n_samples - 1) for estimation.\n",
      "  % (self.n_neighbors, n_samples))\n",
      "c:\\users\\sudhanshu\\appdata\\local\\conda\\conda\\envs\\py37\\lib\\site-packages\\sklearn\\neighbors\\lof.py:253: UserWarning: n_neighbors (20) is greater than the total number of samples (2). n_neighbors will be set to (n_samples - 1) for estimation.\n",
      "  % (self.n_neighbors, n_samples))\n",
      "c:\\users\\sudhanshu\\appdata\\local\\conda\\conda\\envs\\py37\\lib\\site-packages\\sklearn\\neighbors\\lof.py:253: UserWarning: n_neighbors (20) is greater than the total number of samples (2). n_neighbors will be set to (n_samples - 1) for estimation.\n",
      "  % (self.n_neighbors, n_samples))\n",
      "c:\\users\\sudhanshu\\appdata\\local\\conda\\conda\\envs\\py37\\lib\\site-packages\\sklearn\\neighbors\\lof.py:253: UserWarning: n_neighbors (20) is greater than the total number of samples (2). n_neighbors will be set to (n_samples - 1) for estimation.\n",
      "  % (self.n_neighbors, n_samples))\n",
      "c:\\users\\sudhanshu\\appdata\\local\\conda\\conda\\envs\\py37\\lib\\site-packages\\sklearn\\neighbors\\lof.py:253: UserWarning: n_neighbors (20) is greater than the total number of samples (2). n_neighbors will be set to (n_samples - 1) for estimation.\n",
      "  % (self.n_neighbors, n_samples))\n",
      "c:\\users\\sudhanshu\\appdata\\local\\conda\\conda\\envs\\py37\\lib\\site-packages\\sklearn\\neighbors\\lof.py:253: UserWarning: n_neighbors (20) is greater than the total number of samples (2). n_neighbors will be set to (n_samples - 1) for estimation.\n",
      "  % (self.n_neighbors, n_samples))\n",
      "c:\\users\\sudhanshu\\appdata\\local\\conda\\conda\\envs\\py37\\lib\\site-packages\\sklearn\\neighbors\\lof.py:253: UserWarning: n_neighbors (20) is greater than the total number of samples (2). n_neighbors will be set to (n_samples - 1) for estimation.\n",
      "  % (self.n_neighbors, n_samples))\n",
      "c:\\users\\sudhanshu\\appdata\\local\\conda\\conda\\envs\\py37\\lib\\site-packages\\sklearn\\neighbors\\lof.py:253: UserWarning: n_neighbors (20) is greater than the total number of samples (2). n_neighbors will be set to (n_samples - 1) for estimation.\n",
      "  % (self.n_neighbors, n_samples))\n",
      "c:\\users\\sudhanshu\\appdata\\local\\conda\\conda\\envs\\py37\\lib\\site-packages\\sklearn\\neighbors\\lof.py:253: UserWarning: n_neighbors (20) is greater than the total number of samples (2). n_neighbors will be set to (n_samples - 1) for estimation.\n",
      "  % (self.n_neighbors, n_samples))\n",
      "Column Date is very biased towards the value 1103880960.0, please make sure that the data in this column is correct !\n"
     ]
    },
    {
     "name": "stdout",
     "output_type": "stream",
     "text": [
      "Can't disable output on Jupyter notebook\n",
      "Can't disable output on Jupyter notebook\n",
      "Can't disable output on Jupyter notebook\n"
     ]
    },
    {
     "name": "stderr",
     "output_type": "stream",
     "text": [
      "c:\\users\\sudhanshu\\appdata\\local\\conda\\conda\\envs\\py37\\lib\\site-packages\\scipy\\stats\\stats.py:2315: RuntimeWarning: invalid value encountered in true_divide\n",
      "  return (a - mns) / sstd\n",
      "c:\\users\\sudhanshu\\appdata\\local\\conda\\conda\\envs\\py37\\lib\\site-packages\\sklearn\\neighbors\\lof.py:253: UserWarning: n_neighbors (20) is greater than the total number of samples (1). n_neighbors will be set to (n_samples - 1) for estimation.\n",
      "  % (self.n_neighbors, n_samples))\n"
     ]
    },
    {
     "name": "stdout",
     "output_type": "stream",
     "text": [
      "Can't disable output on Jupyter notebook\n",
      "Can't disable output on Jupyter notebook\n",
      "Can't disable output on Jupyter notebook\n"
     ]
    },
    {
     "name": "stderr",
     "output_type": "stream",
     "text": [
      "c:\\users\\sudhanshu\\appdata\\local\\conda\\conda\\envs\\py37\\lib\\site-packages\\scipy\\stats\\stats.py:2315: RuntimeWarning: invalid value encountered in true_divide\n",
      "  return (a - mns) / sstd\n",
      "c:\\users\\sudhanshu\\appdata\\local\\conda\\conda\\envs\\py37\\lib\\site-packages\\sklearn\\neighbors\\lof.py:253: UserWarning: n_neighbors (20) is greater than the total number of samples (1). n_neighbors will be set to (n_samples - 1) for estimation.\n",
      "  % (self.n_neighbors, n_samples))\n"
     ]
    },
    {
     "name": "stdout",
     "output_type": "stream",
     "text": [
      "Can't disable output on Jupyter notebook\n"
     ]
    },
    {
     "name": "stderr",
     "output_type": "stream",
     "text": [
      "INFO:mindsdb-logger-574dd138-f22d-11e9-8d8b-54e1ad558569:f:\\sudhanshu\\opensourceprojects\\mindsdb\\mindsdb\\libs\\phases\\base_module.py:57 - [END] ModelAnalyzer, execution time: 32.622 seconds\n",
      "\n"
     ]
    }
   ],
   "source": [
    "import mindsdb\n",
    "\n",
    "# Instantiate a mindsdb Predictor\n",
    "mdb = mindsdb.Predictor(name='AirQua')\n",
    "\n",
    "# We tell the Predictor what column or key we want to learn and from what data\n",
    "mdb.learn(\n",
    "    from_data=\"dataset/AirQualityUCITrain.csv\", # the path to the file where we can learn from, (note: can be url)\n",
    "    to_predict='CO(GT)', # the column we want to learn to predict given all the data in the file\n",
    ")"
   ]
  },
  {
   "cell_type": "code",
   "execution_count": 2,
   "metadata": {},
   "outputs": [
    {
     "name": "stderr",
     "output_type": "stream",
     "text": [
      "INFO:mindsdb-logger-core-logger:f:\\sudhanshu\\opensourceprojects\\mindsdb\\mindsdb\\libs\\phases\\base_module.py:52 - [START] DataExtractor\n",
      "\n",
      "INFO:mindsdb-logger-core-logger:f:\\sudhanshu\\opensourceprojects\\mindsdb\\mindsdb\\libs\\phases\\base_module.py:57 - [END] DataExtractor, execution time: 0.175 seconds\n",
      "\n",
      "INFO:mindsdb-logger-core-logger:f:\\sudhanshu\\opensourceprojects\\mindsdb\\mindsdb\\libs\\phases\\base_module.py:52 - [START] DataTransformer\n",
      "\n",
      "INFO:mindsdb-logger-core-logger:f:\\sudhanshu\\opensourceprojects\\mindsdb\\mindsdb\\libs\\phases\\base_module.py:57 - [END] DataTransformer, execution time: 0.368 seconds\n",
      "\n",
      "INFO:mindsdb-logger-core-logger:f:\\sudhanshu\\opensourceprojects\\mindsdb\\mindsdb\\libs\\phases\\base_module.py:52 - [START] ModelInterface\n",
      "\n",
      "INFO:mindsdb-logger-core-logger:f:\\sudhanshu\\opensourceprojects\\mindsdb\\mindsdb\\libs\\phases\\base_module.py:57 - [END] ModelInterface, execution time: 0.549 seconds\n",
      "\n"
     ]
    },
    {
     "name": "stdout",
     "output_type": "stream",
     "text": [
      "* We are 81% confident the value of \"CO(GT)\" lies between 0.595 and 1.071.\n",
      "\n"
     ]
    }
   ],
   "source": [
    "from mindsdb import Predictor\n",
    "\n",
    "# use the model to make predictions\n",
    "result = Predictor(name='AirQua').predict(when={'RH': 25, 'AH': 1})\n",
    "\n",
    "print(result[0])"
   ]
  },
  {
   "cell_type": "code",
   "execution_count": null,
   "metadata": {},
   "outputs": [],
   "source": []
  }
 ],
 "metadata": {
  "kernelspec": {
   "display_name": "Python 3",
   "language": "python",
   "name": "python3"
  },
  "language_info": {
   "codemirror_mode": {
    "name": "ipython",
    "version": 3
   },
   "file_extension": ".py",
   "mimetype": "text/x-python",
   "name": "python",
   "nbconvert_exporter": "python",
   "pygments_lexer": "ipython3",
   "version": "3.7.4"
  }
 },
 "nbformat": 4,
 "nbformat_minor": 2
}
