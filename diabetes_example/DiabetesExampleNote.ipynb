{
 "cells": [
  {
   "cell_type": "code",
   "execution_count": 1,
   "metadata": {},
   "outputs": [
    {
     "name": "stderr",
     "output_type": "stream",
     "text": [
      "INFO:mindsdb-logger-1185b952-f013-11e9-ad88-54e1ad558569:f:\\sudhanshu\\opensourceprojects\\mindsdb\\mindsdb\\libs\\phases\\base_module.py:52 - [START] DataExtractor\n",
      "\n",
      "INFO:mindsdb-logger-1185b952-f013-11e9-ad88-54e1ad558569:f:\\sudhanshu\\opensourceprojects\\mindsdb\\mindsdb\\libs\\phases\\data_extractor\\data_extractor.py:238 - We have split the input data into:\n",
      "\n",
      "INFO:mindsdb-logger-1185b952-f013-11e9-ad88-54e1ad558569:f:\\sudhanshu\\opensourceprojects\\mindsdb\\mindsdb\\libs\\phases\\base_module.py:57 - [END] DataExtractor, execution time: 0.427 seconds\n",
      "\n",
      "INFO:mindsdb-logger-1185b952-f013-11e9-ad88-54e1ad558569:f:\\sudhanshu\\opensourceprojects\\mindsdb\\mindsdb\\libs\\phases\\base_module.py:52 - [START] StatsGenerator\n",
      "\n",
      "INFO:mindsdb-logger-1185b952-f013-11e9-ad88-54e1ad558569:f:\\sudhanshu\\opensourceprojects\\mindsdb\\mindsdb\\libs\\phases\\stats_generator\\stats_generator.py:489 - population_size=10,  sample_size=10  100.00%\n",
      "\n",
      "c:\\users\\sudhanshu\\appdata\\local\\conda\\conda\\envs\\py37\\lib\\site-packages\\sklearn\\neighbors\\lof.py:253: UserWarning: n_neighbors (20) is greater than the total number of samples (10). n_neighbors will be set to (n_samples - 1) for estimation.\n",
      "  % (self.n_neighbors, n_samples))\n",
      "c:\\users\\sudhanshu\\appdata\\local\\conda\\conda\\envs\\py37\\lib\\site-packages\\sklearn\\neighbors\\lof.py:253: UserWarning: n_neighbors (20) is greater than the total number of samples (10). n_neighbors will be set to (n_samples - 1) for estimation.\n",
      "  % (self.n_neighbors, n_samples))\n",
      "c:\\users\\sudhanshu\\appdata\\local\\conda\\conda\\envs\\py37\\lib\\site-packages\\sklearn\\neighbors\\lof.py:253: UserWarning: n_neighbors (20) is greater than the total number of samples (10). n_neighbors will be set to (n_samples - 1) for estimation.\n",
      "  % (self.n_neighbors, n_samples))\n",
      "c:\\users\\sudhanshu\\appdata\\local\\conda\\conda\\envs\\py37\\lib\\site-packages\\sklearn\\neighbors\\lof.py:253: UserWarning: n_neighbors (20) is greater than the total number of samples (10). n_neighbors will be set to (n_samples - 1) for estimation.\n",
      "  % (self.n_neighbors, n_samples))\n",
      "c:\\users\\sudhanshu\\appdata\\local\\conda\\conda\\envs\\py37\\lib\\site-packages\\sklearn\\neighbors\\lof.py:253: UserWarning: n_neighbors (20) is greater than the total number of samples (10). n_neighbors will be set to (n_samples - 1) for estimation.\n",
      "  % (self.n_neighbors, n_samples))\n",
      "c:\\users\\sudhanshu\\appdata\\local\\conda\\conda\\envs\\py37\\lib\\site-packages\\sklearn\\neighbors\\lof.py:253: UserWarning: n_neighbors (20) is greater than the total number of samples (10). n_neighbors will be set to (n_samples - 1) for estimation.\n",
      "  % (self.n_neighbors, n_samples))\n",
      "c:\\users\\sudhanshu\\appdata\\local\\conda\\conda\\envs\\py37\\lib\\site-packages\\sklearn\\neighbors\\lof.py:253: UserWarning: n_neighbors (20) is greater than the total number of samples (10). n_neighbors will be set to (n_samples - 1) for estimation.\n",
      "  % (self.n_neighbors, n_samples))\n",
      "c:\\users\\sudhanshu\\appdata\\local\\conda\\conda\\envs\\py37\\lib\\site-packages\\sklearn\\neighbors\\lof.py:253: UserWarning: n_neighbors (20) is greater than the total number of samples (10). n_neighbors will be set to (n_samples - 1) for estimation.\n",
      "  % (self.n_neighbors, n_samples))\n",
      "WARNING:mindsdb-logger-1185b952-f013-11e9-ad88-54e1ad558569:f:\\sudhanshu\\opensourceprojects\\mindsdb\\mindsdb\\libs\\phases\\stats_generator\\stats_generator.py:432 - Column Number of times pregnant is very biased towards the value 0.11, please make sure that the data in this column is correct !\n",
      "\n",
      "INFO:mindsdb-logger-1185b952-f013-11e9-ad88-54e1ad558569:f:\\sudhanshu\\opensourceprojects\\mindsdb\\mindsdb\\libs\\phases\\stats_generator\\stats_generator.py:455 - Data distribution for column \"Number of times pregnant\"\n",
      "\n",
      "INFO:mindsdb-logger-1185b952-f013-11e9-ad88-54e1ad558569:f:\\sudhanshu\\opensourceprojects\\mindsdb\\mindsdb\\libs\\data_types\\mindsdb_logger.py:76 - ----------\n",
      "\n",
      "INFO:mindsdb-logger-1185b952-f013-11e9-ad88-54e1ad558569:f:\\sudhanshu\\opensourceprojects\\mindsdb\\mindsdb\\libs\\data_types\\mindsdb_logger.py:119 -  Int: 10\n",
      "\n",
      "INFO:mindsdb-logger-1185b952-f013-11e9-ad88-54e1ad558569:f:\\sudhanshu\\opensourceprojects\\mindsdb\\mindsdb\\libs\\data_types\\mindsdb_logger.py:123 - ----------\n",
      "\n",
      "WARNING:mindsdb-logger-1185b952-f013-11e9-ad88-54e1ad558569:f:\\sudhanshu\\opensourceprojects\\mindsdb\\mindsdb\\libs\\phases\\stats_generator\\stats_generator.py:432 - Column Plasma glucose concentration is very biased towards the value 81.19, please make sure that the data in this column is correct !\n",
      "\n",
      "INFO:mindsdb-logger-1185b952-f013-11e9-ad88-54e1ad558569:f:\\sudhanshu\\opensourceprojects\\mindsdb\\mindsdb\\libs\\phases\\stats_generator\\stats_generator.py:455 - Data distribution for column \"Plasma glucose concentration\"\n",
      "\n",
      "INFO:mindsdb-logger-1185b952-f013-11e9-ad88-54e1ad558569:f:\\sudhanshu\\opensourceprojects\\mindsdb\\mindsdb\\libs\\data_types\\mindsdb_logger.py:76 - ----------\n",
      "\n",
      "INFO:mindsdb-logger-1185b952-f013-11e9-ad88-54e1ad558569:f:\\sudhanshu\\opensourceprojects\\mindsdb\\mindsdb\\libs\\data_types\\mindsdb_logger.py:119 -  Int: 10\n",
      "\n",
      "INFO:mindsdb-logger-1185b952-f013-11e9-ad88-54e1ad558569:f:\\sudhanshu\\opensourceprojects\\mindsdb\\mindsdb\\libs\\data_types\\mindsdb_logger.py:123 - ----------\n",
      "\n",
      "WARNING:mindsdb-logger-1185b952-f013-11e9-ad88-54e1ad558569:f:\\sudhanshu\\opensourceprojects\\mindsdb\\mindsdb\\libs\\phases\\stats_generator\\stats_generator.py:432 - Column Diastolic blood pressure is very biased towards the value 76.56, please make sure that the data in this column is correct !\n",
      "\n",
      "INFO:mindsdb-logger-1185b952-f013-11e9-ad88-54e1ad558569:f:\\sudhanshu\\opensourceprojects\\mindsdb\\mindsdb\\libs\\phases\\stats_generator\\stats_generator.py:455 - Data distribution for column \"Diastolic blood pressure\"\n",
      "\n",
      "INFO:mindsdb-logger-1185b952-f013-11e9-ad88-54e1ad558569:f:\\sudhanshu\\opensourceprojects\\mindsdb\\mindsdb\\libs\\data_types\\mindsdb_logger.py:76 - ----------\n",
      "\n",
      "INFO:mindsdb-logger-1185b952-f013-11e9-ad88-54e1ad558569:f:\\sudhanshu\\opensourceprojects\\mindsdb\\mindsdb\\libs\\data_types\\mindsdb_logger.py:119 -  Int: 10\n",
      "\n",
      "INFO:mindsdb-logger-1185b952-f013-11e9-ad88-54e1ad558569:f:\\sudhanshu\\opensourceprojects\\mindsdb\\mindsdb\\libs\\data_types\\mindsdb_logger.py:123 - ----------\n",
      "\n",
      "WARNING:mindsdb-logger-1185b952-f013-11e9-ad88-54e1ad558569:f:\\sudhanshu\\opensourceprojects\\mindsdb\\mindsdb\\libs\\phases\\stats_generator\\stats_generator.py:432 - Column Triceps skin fold thickness is very biased towards the value 0.6, please make sure that the data in this column is correct !\n",
      "\n",
      "INFO:mindsdb-logger-1185b952-f013-11e9-ad88-54e1ad558569:f:\\sudhanshu\\opensourceprojects\\mindsdb\\mindsdb\\libs\\phases\\stats_generator\\stats_generator.py:455 - Data distribution for column \"Triceps skin fold thickness\"\n",
      "\n",
      "INFO:mindsdb-logger-1185b952-f013-11e9-ad88-54e1ad558569:f:\\sudhanshu\\opensourceprojects\\mindsdb\\mindsdb\\libs\\data_types\\mindsdb_logger.py:76 - ----------\n",
      "\n",
      "INFO:mindsdb-logger-1185b952-f013-11e9-ad88-54e1ad558569:f:\\sudhanshu\\opensourceprojects\\mindsdb\\mindsdb\\libs\\data_types\\mindsdb_logger.py:119 -  Int: 10\n",
      "\n",
      "INFO:mindsdb-logger-1185b952-f013-11e9-ad88-54e1ad558569:f:\\sudhanshu\\opensourceprojects\\mindsdb\\mindsdb\\libs\\data_types\\mindsdb_logger.py:123 - ----------\n",
      "\n",
      "WARNING:mindsdb-logger-1185b952-f013-11e9-ad88-54e1ad558569:f:\\sudhanshu\\opensourceprojects\\mindsdb\\mindsdb\\libs\\phases\\stats_generator\\stats_generator.py:432 - Column 2-Hour serum insulin is very biased towards the value 1.42, please make sure that the data in this column is correct !\n",
      "\n",
      "INFO:mindsdb-logger-1185b952-f013-11e9-ad88-54e1ad558569:f:\\sudhanshu\\opensourceprojects\\mindsdb\\mindsdb\\libs\\phases\\stats_generator\\stats_generator.py:455 - Data distribution for column \"2-Hour serum insulin\"\n",
      "\n",
      "INFO:mindsdb-logger-1185b952-f013-11e9-ad88-54e1ad558569:f:\\sudhanshu\\opensourceprojects\\mindsdb\\mindsdb\\libs\\data_types\\mindsdb_logger.py:76 - ----------\n",
      "\n",
      "INFO:mindsdb-logger-1185b952-f013-11e9-ad88-54e1ad558569:f:\\sudhanshu\\opensourceprojects\\mindsdb\\mindsdb\\libs\\data_types\\mindsdb_logger.py:119 -  Int: 10\n",
      "\n",
      "INFO:mindsdb-logger-1185b952-f013-11e9-ad88-54e1ad558569:f:\\sudhanshu\\opensourceprojects\\mindsdb\\mindsdb\\libs\\data_types\\mindsdb_logger.py:123 - ----------\n",
      "\n",
      "WARNING:mindsdb-logger-1185b952-f013-11e9-ad88-54e1ad558569:f:\\sudhanshu\\opensourceprojects\\mindsdb\\mindsdb\\libs\\phases\\stats_generator\\stats_generator.py:432 - Column Body mass index is very biased towards the value 33.227999999999994, please make sure that the data in this column is correct !\n"
     ]
    },
    {
     "name": "stderr",
     "output_type": "stream",
     "text": [
      "\n",
      "INFO:mindsdb-logger-1185b952-f013-11e9-ad88-54e1ad558569:f:\\sudhanshu\\opensourceprojects\\mindsdb\\mindsdb\\libs\\phases\\stats_generator\\stats_generator.py:455 - Data distribution for column \"Body mass index\"\n",
      "\n",
      "INFO:mindsdb-logger-1185b952-f013-11e9-ad88-54e1ad558569:f:\\sudhanshu\\opensourceprojects\\mindsdb\\mindsdb\\libs\\data_types\\mindsdb_logger.py:76 - ----------\n",
      "\n",
      "INFO:mindsdb-logger-1185b952-f013-11e9-ad88-54e1ad558569:f:\\sudhanshu\\opensourceprojects\\mindsdb\\mindsdb\\libs\\data_types\\mindsdb_logger.py:119 -  Float: 10\n",
      "\n",
      "INFO:mindsdb-logger-1185b952-f013-11e9-ad88-54e1ad558569:f:\\sudhanshu\\opensourceprojects\\mindsdb\\mindsdb\\libs\\data_types\\mindsdb_logger.py:123 - ----------\n",
      "\n",
      "WARNING:mindsdb-logger-1185b952-f013-11e9-ad88-54e1ad558569:f:\\sudhanshu\\opensourceprojects\\mindsdb\\mindsdb\\libs\\phases\\stats_generator\\stats_generator.py:432 - Column Diabetes pedigree function is very biased towards the value 0.18907999999999997, please make sure that the data in this column is correct !\n",
      "\n",
      "INFO:mindsdb-logger-1185b952-f013-11e9-ad88-54e1ad558569:f:\\sudhanshu\\opensourceprojects\\mindsdb\\mindsdb\\libs\\phases\\stats_generator\\stats_generator.py:455 - Data distribution for column \"Diabetes pedigree function\"\n",
      "\n",
      "INFO:mindsdb-logger-1185b952-f013-11e9-ad88-54e1ad558569:f:\\sudhanshu\\opensourceprojects\\mindsdb\\mindsdb\\libs\\data_types\\mindsdb_logger.py:76 - ----------\n",
      "\n",
      "INFO:mindsdb-logger-1185b952-f013-11e9-ad88-54e1ad558569:f:\\sudhanshu\\opensourceprojects\\mindsdb\\mindsdb\\libs\\data_types\\mindsdb_logger.py:119 -  Float: 10\n",
      "\n",
      "INFO:mindsdb-logger-1185b952-f013-11e9-ad88-54e1ad558569:f:\\sudhanshu\\opensourceprojects\\mindsdb\\mindsdb\\libs\\data_types\\mindsdb_logger.py:123 - ----------\n",
      "\n",
      "WARNING:mindsdb-logger-1185b952-f013-11e9-ad88-54e1ad558569:f:\\sudhanshu\\opensourceprojects\\mindsdb\\mindsdb\\libs\\phases\\stats_generator\\stats_generator.py:432 - Column Age is very biased towards the value 21.990000000000002, please make sure that the data in this column is correct !\n",
      "\n",
      "INFO:mindsdb-logger-1185b952-f013-11e9-ad88-54e1ad558569:f:\\sudhanshu\\opensourceprojects\\mindsdb\\mindsdb\\libs\\phases\\stats_generator\\stats_generator.py:455 - Data distribution for column \"Age\"\n",
      "\n",
      "INFO:mindsdb-logger-1185b952-f013-11e9-ad88-54e1ad558569:f:\\sudhanshu\\opensourceprojects\\mindsdb\\mindsdb\\libs\\data_types\\mindsdb_logger.py:76 - ----------\n",
      "\n",
      "INFO:mindsdb-logger-1185b952-f013-11e9-ad88-54e1ad558569:f:\\sudhanshu\\opensourceprojects\\mindsdb\\mindsdb\\libs\\data_types\\mindsdb_logger.py:119 -  Int: 10\n",
      "\n",
      "INFO:mindsdb-logger-1185b952-f013-11e9-ad88-54e1ad558569:f:\\sudhanshu\\opensourceprojects\\mindsdb\\mindsdb\\libs\\data_types\\mindsdb_logger.py:123 - ----------\n",
      "\n",
      "WARNING:mindsdb-logger-1185b952-f013-11e9-ad88-54e1ad558569:f:\\sudhanshu\\opensourceprojects\\mindsdb\\mindsdb\\libs\\phases\\stats_generator\\stats_generator.py:387 - The data in the column Class seems to contain too much noise/randomness based on the value variability. That is to say, the data is too unevenly distributed and has too many outliers. Please see the detailed logs below for more info.\n",
      "\n",
      "INFO:mindsdb-logger-1185b952-f013-11e9-ad88-54e1ad558569:f:\\sudhanshu\\opensourceprojects\\mindsdb\\mindsdb\\libs\\phases\\stats_generator\\stats_generator.py:455 - Data distribution for column \"Class\"\n",
      "\n",
      "INFO:mindsdb-logger-1185b952-f013-11e9-ad88-54e1ad558569:f:\\sudhanshu\\opensourceprojects\\mindsdb\\mindsdb\\libs\\data_types\\mindsdb_logger.py:76 - ----------\n",
      "\n",
      "INFO:mindsdb-logger-1185b952-f013-11e9-ad88-54e1ad558569:f:\\sudhanshu\\opensourceprojects\\mindsdb\\mindsdb\\libs\\data_types\\mindsdb_logger.py:119 -  Category: 10\n",
      "\n",
      "INFO:mindsdb-logger-1185b952-f013-11e9-ad88-54e1ad558569:f:\\sudhanshu\\opensourceprojects\\mindsdb\\mindsdb\\libs\\data_types\\mindsdb_logger.py:123 - ----------\n",
      "\n",
      "INFO:mindsdb-logger-1185b952-f013-11e9-ad88-54e1ad558569:f:\\sudhanshu\\opensourceprojects\\mindsdb\\mindsdb\\libs\\phases\\base_module.py:57 - [END] StatsGenerator, execution time: 2.942 seconds\n",
      "\n",
      "INFO:mindsdb-logger-1185b952-f013-11e9-ad88-54e1ad558569:f:\\sudhanshu\\opensourceprojects\\mindsdb\\mindsdb\\libs\\phases\\base_module.py:52 - [START] DataTransformer\n",
      "\n",
      "INFO:mindsdb-logger-1185b952-f013-11e9-ad88-54e1ad558569:f:\\sudhanshu\\opensourceprojects\\mindsdb\\mindsdb\\libs\\phases\\base_module.py:57 - [END] DataTransformer, execution time: 0.426 seconds\n",
      "\n",
      "INFO:mindsdb-logger-1185b952-f013-11e9-ad88-54e1ad558569:f:\\sudhanshu\\opensourceprojects\\mindsdb\\mindsdb\\libs\\phases\\base_module.py:52 - [START] ModelInterface\n",
      "\n",
      "c:\\users\\sudhanshu\\appdata\\local\\conda\\conda\\envs\\py37\\lib\\site-packages\\tensorflow\\python\\framework\\dtypes.py:516: FutureWarning: Passing (type, 1) or '1type' as a synonym of type is deprecated; in a future version of numpy, it will be understood as (type, (1,)) / '(1,)type'.\n",
      "  _np_qint8 = np.dtype([(\"qint8\", np.int8, 1)])\n",
      "c:\\users\\sudhanshu\\appdata\\local\\conda\\conda\\envs\\py37\\lib\\site-packages\\tensorflow\\python\\framework\\dtypes.py:517: FutureWarning: Passing (type, 1) or '1type' as a synonym of type is deprecated; in a future version of numpy, it will be understood as (type, (1,)) / '(1,)type'.\n",
      "  _np_quint8 = np.dtype([(\"quint8\", np.uint8, 1)])\n",
      "c:\\users\\sudhanshu\\appdata\\local\\conda\\conda\\envs\\py37\\lib\\site-packages\\tensorflow\\python\\framework\\dtypes.py:518: FutureWarning: Passing (type, 1) or '1type' as a synonym of type is deprecated; in a future version of numpy, it will be understood as (type, (1,)) / '(1,)type'.\n",
      "  _np_qint16 = np.dtype([(\"qint16\", np.int16, 1)])\n",
      "c:\\users\\sudhanshu\\appdata\\local\\conda\\conda\\envs\\py37\\lib\\site-packages\\tensorflow\\python\\framework\\dtypes.py:519: FutureWarning: Passing (type, 1) or '1type' as a synonym of type is deprecated; in a future version of numpy, it will be understood as (type, (1,)) / '(1,)type'.\n",
      "  _np_quint16 = np.dtype([(\"quint16\", np.uint16, 1)])\n",
      "c:\\users\\sudhanshu\\appdata\\local\\conda\\conda\\envs\\py37\\lib\\site-packages\\tensorflow\\python\\framework\\dtypes.py:520: FutureWarning: Passing (type, 1) or '1type' as a synonym of type is deprecated; in a future version of numpy, it will be understood as (type, (1,)) / '(1,)type'.\n",
      "  _np_qint32 = np.dtype([(\"qint32\", np.int32, 1)])\n",
      "c:\\users\\sudhanshu\\appdata\\local\\conda\\conda\\envs\\py37\\lib\\site-packages\\tensorflow\\python\\framework\\dtypes.py:525: FutureWarning: Passing (type, 1) or '1type' as a synonym of type is deprecated; in a future version of numpy, it will be understood as (type, (1,)) / '(1,)type'.\n",
      "  np_resource = np.dtype([(\"resource\", np.ubyte, 1)])\n",
      "c:\\users\\sudhanshu\\appdata\\local\\conda\\conda\\envs\\py37\\lib\\site-packages\\tensorboard\\compat\\tensorflow_stub\\dtypes.py:541: FutureWarning: Passing (type, 1) or '1type' as a synonym of type is deprecated; in a future version of numpy, it will be understood as (type, (1,)) / '(1,)type'.\n",
      "  _np_qint8 = np.dtype([(\"qint8\", np.int8, 1)])\n",
      "c:\\users\\sudhanshu\\appdata\\local\\conda\\conda\\envs\\py37\\lib\\site-packages\\tensorboard\\compat\\tensorflow_stub\\dtypes.py:542: FutureWarning: Passing (type, 1) or '1type' as a synonym of type is deprecated; in a future version of numpy, it will be understood as (type, (1,)) / '(1,)type'.\n",
      "  _np_quint8 = np.dtype([(\"quint8\", np.uint8, 1)])\n",
      "c:\\users\\sudhanshu\\appdata\\local\\conda\\conda\\envs\\py37\\lib\\site-packages\\tensorboard\\compat\\tensorflow_stub\\dtypes.py:543: FutureWarning: Passing (type, 1) or '1type' as a synonym of type is deprecated; in a future version of numpy, it will be understood as (type, (1,)) / '(1,)type'.\n",
      "  _np_qint16 = np.dtype([(\"qint16\", np.int16, 1)])\n",
      "c:\\users\\sudhanshu\\appdata\\local\\conda\\conda\\envs\\py37\\lib\\site-packages\\tensorboard\\compat\\tensorflow_stub\\dtypes.py:544: FutureWarning: Passing (type, 1) or '1type' as a synonym of type is deprecated; in a future version of numpy, it will be understood as (type, (1,)) / '(1,)type'.\n",
      "  _np_quint16 = np.dtype([(\"quint16\", np.uint16, 1)])\n",
      "c:\\users\\sudhanshu\\appdata\\local\\conda\\conda\\envs\\py37\\lib\\site-packages\\tensorboard\\compat\\tensorflow_stub\\dtypes.py:545: FutureWarning: Passing (type, 1) or '1type' as a synonym of type is deprecated; in a future version of numpy, it will be understood as (type, (1,)) / '(1,)type'.\n",
      "  _np_qint32 = np.dtype([(\"qint32\", np.int32, 1)])\n",
      "c:\\users\\sudhanshu\\appdata\\local\\conda\\conda\\envs\\py37\\lib\\site-packages\\tensorboard\\compat\\tensorflow_stub\\dtypes.py:550: FutureWarning: Passing (type, 1) or '1type' as a synonym of type is deprecated; in a future version of numpy, it will be understood as (type, (1,)) / '(1,)type'.\n",
      "  np_resource = np.dtype([(\"resource\", np.ubyte, 1)])\n"
     ]
    },
    {
     "name": "stdout",
     "output_type": "stream",
     "text": [
      "WARNING:tensorflow:\n",
      "The TensorFlow contrib module will not be included in TensorFlow 2.0.\n",
      "For more information, please see:\n",
      "  * https://github.com/tensorflow/community/blob/master/rfcs/20180907-contrib-sunset.md\n",
      "  * https://github.com/tensorflow/addons\n",
      "  * https://github.com/tensorflow/io (for I/O related ops)\n",
      "If you depend on functionality not listed there, please file an issue.\n",
      "\n"
     ]
    },
    {
     "name": "stderr",
     "output_type": "stream",
     "text": [
      "DEBUG:mindsdb-logger-1185b952-f013-11e9-ad88-54e1ad558569:f:\\sudhanshu\\opensourceprojects\\mindsdb\\mindsdb\\libs\\backends\\lightwood.py:151 - We've reached training epoch nr 20 with an accuracy of 100.0% on the testing dataset\n",
      "\n",
      "DEBUG:mindsdb-logger-1185b952-f013-11e9-ad88-54e1ad558569:f:\\sudhanshu\\opensourceprojects\\mindsdb\\mindsdb\\libs\\backends\\lightwood.py:151 - We've reached training epoch nr 40 with an accuracy of 0.0% on the testing dataset\n",
      "\n",
      "DEBUG:mindsdb-logger-1185b952-f013-11e9-ad88-54e1ad558569:f:\\sudhanshu\\opensourceprojects\\mindsdb\\mindsdb\\libs\\backends\\lightwood.py:151 - We've reached training epoch nr 60 with an accuracy of 0.0% on the testing dataset\n",
      "\n",
      "DEBUG:mindsdb-logger-1185b952-f013-11e9-ad88-54e1ad558569:f:\\sudhanshu\\opensourceprojects\\mindsdb\\mindsdb\\libs\\backends\\lightwood.py:151 - We've reached training epoch nr 80 with an accuracy of 0.0% on the testing dataset\n",
      "\n",
      "DEBUG:mindsdb-logger-1185b952-f013-11e9-ad88-54e1ad558569:f:\\sudhanshu\\opensourceprojects\\mindsdb\\mindsdb\\libs\\backends\\lightwood.py:151 - We've reached training epoch nr 100 with an accuracy of 0.0% on the testing dataset\n",
      "\n",
      "DEBUG:mindsdb-logger-1185b952-f013-11e9-ad88-54e1ad558569:f:\\sudhanshu\\opensourceprojects\\mindsdb\\mindsdb\\libs\\backends\\lightwood.py:151 - We've reached training epoch nr 120 with an accuracy of 0.0% on the testing dataset\n",
      "\n",
      "INFO:mindsdb-logger-1185b952-f013-11e9-ad88-54e1ad558569:f:\\sudhanshu\\opensourceprojects\\mindsdb\\mindsdb\\libs\\backends\\lightwood.py:177 - Training accuracy of: {'Class': {'function': 'accuracy_score', 'value': 1.0}}\n",
      "\n",
      "INFO:mindsdb-logger-1185b952-f013-11e9-ad88-54e1ad558569:f:\\sudhanshu\\opensourceprojects\\mindsdb\\mindsdb\\libs\\phases\\base_module.py:57 - [END] ModelInterface, execution time: 17.536 seconds\n",
      "\n",
      "INFO:mindsdb-logger-1185b952-f013-11e9-ad88-54e1ad558569:f:\\sudhanshu\\opensourceprojects\\mindsdb\\mindsdb\\libs\\phases\\base_module.py:52 - [START] ModelAnalyzer\n",
      "\n"
     ]
    },
    {
     "name": "stdout",
     "output_type": "stream",
     "text": [
      "Can't disable output on Jupyter notebook\n",
      "Can't disable output on Jupyter notebook\n"
     ]
    },
    {
     "name": "stderr",
     "output_type": "stream",
     "text": [
      "c:\\users\\sudhanshu\\appdata\\local\\conda\\conda\\envs\\py37\\lib\\site-packages\\scipy\\stats\\stats.py:2315: RuntimeWarning: invalid value encountered in true_divide\n",
      "  return (a - mns) / sstd\n",
      "c:\\users\\sudhanshu\\appdata\\local\\conda\\conda\\envs\\py37\\lib\\site-packages\\sklearn\\neighbors\\lof.py:253: UserWarning: n_neighbors (20) is greater than the total number of samples (1). n_neighbors will be set to (n_samples - 1) for estimation.\n",
      "  % (self.n_neighbors, n_samples))\n"
     ]
    },
    {
     "name": "stdout",
     "output_type": "stream",
     "text": [
      "Can't disable output on Jupyter notebook\n"
     ]
    },
    {
     "name": "stderr",
     "output_type": "stream",
     "text": [
      "INFO:mindsdb-logger-1185b952-f013-11e9-ad88-54e1ad558569:f:\\sudhanshu\\opensourceprojects\\mindsdb\\mindsdb\\libs\\phases\\base_module.py:57 - [END] ModelAnalyzer, execution time: 1.097 seconds\n",
      "\n"
     ]
    }
   ],
   "source": [
    "import mindsdb\n",
    "\n",
    "# Instantiate a mindsdb Predictor\n",
    "mdb = mindsdb.Predictor(name='diabetes-class')\n",
    "\n",
    "# We tell the Predictor what column or key we want to learn and from what data\n",
    "mdb.learn(\n",
    "    from_data=\"dataset/diabetes-test.csv\", # the path to the file where we can learn from, (note: can be url)\n",
    "    to_predict='Class', # the column we want to learn to predict given all the data in the file\n",
    ")"
   ]
  },
  {
   "cell_type": "code",
   "execution_count": 2,
   "metadata": {},
   "outputs": [
    {
     "name": "stderr",
     "output_type": "stream",
     "text": [
      "INFO:mindsdb-logger-core-logger:f:\\sudhanshu\\opensourceprojects\\mindsdb\\mindsdb\\libs\\phases\\base_module.py:52 - [START] DataExtractor\n",
      "\n",
      "INFO:mindsdb-logger-core-logger:f:\\sudhanshu\\opensourceprojects\\mindsdb\\mindsdb\\libs\\phases\\base_module.py:57 - [END] DataExtractor, execution time: 0.137 seconds\n",
      "\n",
      "INFO:mindsdb-logger-core-logger:f:\\sudhanshu\\opensourceprojects\\mindsdb\\mindsdb\\libs\\phases\\base_module.py:52 - [START] DataTransformer\n",
      "\n",
      "INFO:mindsdb-logger-core-logger:f:\\sudhanshu\\opensourceprojects\\mindsdb\\mindsdb\\libs\\phases\\base_module.py:57 - [END] DataTransformer, execution time: 0.516 seconds\n",
      "\n",
      "INFO:mindsdb-logger-core-logger:f:\\sudhanshu\\opensourceprojects\\mindsdb\\mindsdb\\libs\\phases\\base_module.py:52 - [START] ModelInterface\n",
      "\n",
      "INFO:mindsdb-logger-core-logger:f:\\sudhanshu\\opensourceprojects\\mindsdb\\mindsdb\\libs\\phases\\base_module.py:57 - [END] ModelInterface, execution time: 0.183 seconds\n",
      "\n"
     ]
    },
    {
     "name": "stdout",
     "output_type": "stream",
     "text": [
      "* We are 100% confident the value of \"Class\" is negative.\n",
      "\n"
     ]
    }
   ],
   "source": [
    "from mindsdb import Predictor\n",
    "\n",
    "# use the model to make predictions\n",
    "result = Predictor(name='diabetes-class').predict(when={'Plasma glucose concentration': 93, 'Diastolic blood pressure': 31, 'Number of times pregnant': 1})\n",
    "print(result[0])"
   ]
  },
  {
   "cell_type": "code",
   "execution_count": null,
   "metadata": {},
   "outputs": [],
   "source": []
  }
 ],
 "metadata": {
  "kernelspec": {
   "display_name": "Python 3",
   "language": "python",
   "name": "python3"
  },
  "language_info": {
   "codemirror_mode": {
    "name": "ipython",
    "version": 3
   },
   "file_extension": ".py",
   "mimetype": "text/x-python",
   "name": "python",
   "nbconvert_exporter": "python",
   "pygments_lexer": "ipython3",
   "version": "3.7.4"
  }
 },
 "nbformat": 4,
 "nbformat_minor": 2
}
