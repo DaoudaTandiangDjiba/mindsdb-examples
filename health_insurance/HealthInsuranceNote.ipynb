{
 "cells": [
  {
   "cell_type": "code",
   "execution_count": 1,
   "metadata": {},
   "outputs": [
    {
     "name": "stderr",
     "output_type": "stream",
     "text": [
      "INFO:mindsdb-logger-38300c5a-f038-11e9-a377-54e1ad558569:f:\\sudhanshu\\opensourceprojects\\mindsdb\\mindsdb\\libs\\phases\\base_module.py:52 - [START] DataExtractor\n",
      "\n",
      "INFO:mindsdb-logger-38300c5a-f038-11e9-a377-54e1ad558569:f:\\sudhanshu\\opensourceprojects\\mindsdb\\mindsdb\\libs\\phases\\data_extractor\\data_extractor.py:238 - We have split the input data into:\n",
      "\n",
      "INFO:mindsdb-logger-38300c5a-f038-11e9-a377-54e1ad558569:f:\\sudhanshu\\opensourceprojects\\mindsdb\\mindsdb\\libs\\phases\\base_module.py:57 - [END] DataExtractor, execution time: 0.683 seconds\n",
      "\n",
      "INFO:mindsdb-logger-38300c5a-f038-11e9-a377-54e1ad558569:f:\\sudhanshu\\opensourceprojects\\mindsdb\\mindsdb\\libs\\phases\\base_module.py:52 - [START] StatsGenerator\n",
      "\n",
      "INFO:mindsdb-logger-38300c5a-f038-11e9-a377-54e1ad558569:f:\\sudhanshu\\opensourceprojects\\mindsdb\\mindsdb\\libs\\phases\\stats_generator\\stats_generator.py:489 - population_size=1329,  sample_size=1329  100.00%\n",
      "\n",
      "INFO:mindsdb-logger-38300c5a-f038-11e9-a377-54e1ad558569:f:\\sudhanshu\\opensourceprojects\\mindsdb\\mindsdb\\libs\\phases\\stats_generator\\stats_generator.py:455 - Data distribution for column \"age\"\n",
      "\n",
      "INFO:mindsdb-logger-38300c5a-f038-11e9-a377-54e1ad558569:f:\\sudhanshu\\opensourceprojects\\mindsdb\\mindsdb\\libs\\data_types\\mindsdb_logger.py:76 - ----------\n",
      "\n",
      "INFO:mindsdb-logger-38300c5a-f038-11e9-a377-54e1ad558569:f:\\sudhanshu\\opensourceprojects\\mindsdb\\mindsdb\\libs\\data_types\\mindsdb_logger.py:119 -  Int: 1329\n",
      "\n",
      "INFO:mindsdb-logger-38300c5a-f038-11e9-a377-54e1ad558569:f:\\sudhanshu\\opensourceprojects\\mindsdb\\mindsdb\\libs\\data_types\\mindsdb_logger.py:123 - ----------\n",
      "\n",
      "WARNING:mindsdb-logger-38300c5a-f038-11e9-a377-54e1ad558569:f:\\sudhanshu\\opensourceprojects\\mindsdb\\mindsdb\\libs\\phases\\stats_generator\\stats_generator.py:387 - The data in the column sex seems to contain too much noise/randomness based on the value variability. That is to say, the data is too unevenly distributed and has too many outliers. Please see the detailed logs below for more info.\n",
      "\n",
      "INFO:mindsdb-logger-38300c5a-f038-11e9-a377-54e1ad558569:f:\\sudhanshu\\opensourceprojects\\mindsdb\\mindsdb\\libs\\phases\\stats_generator\\stats_generator.py:455 - Data distribution for column \"sex\"\n",
      "\n",
      "INFO:mindsdb-logger-38300c5a-f038-11e9-a377-54e1ad558569:f:\\sudhanshu\\opensourceprojects\\mindsdb\\mindsdb\\libs\\data_types\\mindsdb_logger.py:76 - ----------\n",
      "\n",
      "INFO:mindsdb-logger-38300c5a-f038-11e9-a377-54e1ad558569:f:\\sudhanshu\\opensourceprojects\\mindsdb\\mindsdb\\libs\\data_types\\mindsdb_logger.py:119 -  Binary Category: 1329\n",
      "\n",
      "INFO:mindsdb-logger-38300c5a-f038-11e9-a377-54e1ad558569:f:\\sudhanshu\\opensourceprojects\\mindsdb\\mindsdb\\libs\\data_types\\mindsdb_logger.py:123 - ----------\n",
      "\n",
      "INFO:mindsdb-logger-38300c5a-f038-11e9-a377-54e1ad558569:f:\\sudhanshu\\opensourceprojects\\mindsdb\\mindsdb\\libs\\phases\\stats_generator\\stats_generator.py:455 - Data distribution for column \"bmi\"\n",
      "\n",
      "INFO:mindsdb-logger-38300c5a-f038-11e9-a377-54e1ad558569:f:\\sudhanshu\\opensourceprojects\\mindsdb\\mindsdb\\libs\\data_types\\mindsdb_logger.py:76 - ----------\n",
      "\n",
      "INFO:mindsdb-logger-38300c5a-f038-11e9-a377-54e1ad558569:f:\\sudhanshu\\opensourceprojects\\mindsdb\\mindsdb\\libs\\data_types\\mindsdb_logger.py:119 -  Float: 1299\n",
      "\n",
      "INFO:mindsdb-logger-38300c5a-f038-11e9-a377-54e1ad558569:f:\\sudhanshu\\opensourceprojects\\mindsdb\\mindsdb\\libs\\data_types\\mindsdb_logger.py:119 -    Int: 30\n",
      "\n",
      "INFO:mindsdb-logger-38300c5a-f038-11e9-a377-54e1ad558569:f:\\sudhanshu\\opensourceprojects\\mindsdb\\mindsdb\\libs\\data_types\\mindsdb_logger.py:123 - ----------\n",
      "\n",
      "WARNING:mindsdb-logger-38300c5a-f038-11e9-a377-54e1ad558569:f:\\sudhanshu\\opensourceprojects\\mindsdb\\mindsdb\\libs\\phases\\stats_generator\\stats_generator.py:387 - The data in the column children seems to contain too much noise/randomness based on the value variability. That is to say, the data is too unevenly distributed and has too many outliers. Please see the detailed logs below for more info.\n",
      "\n",
      "INFO:mindsdb-logger-38300c5a-f038-11e9-a377-54e1ad558569:f:\\sudhanshu\\opensourceprojects\\mindsdb\\mindsdb\\libs\\phases\\stats_generator\\stats_generator.py:455 - Data distribution for column \"children\"\n",
      "\n",
      "INFO:mindsdb-logger-38300c5a-f038-11e9-a377-54e1ad558569:f:\\sudhanshu\\opensourceprojects\\mindsdb\\mindsdb\\libs\\data_types\\mindsdb_logger.py:76 - ----------\n",
      "\n",
      "INFO:mindsdb-logger-38300c5a-f038-11e9-a377-54e1ad558569:f:\\sudhanshu\\opensourceprojects\\mindsdb\\mindsdb\\libs\\data_types\\mindsdb_logger.py:119 -  Category: 1329\n",
      "\n",
      "INFO:mindsdb-logger-38300c5a-f038-11e9-a377-54e1ad558569:f:\\sudhanshu\\opensourceprojects\\mindsdb\\mindsdb\\libs\\data_types\\mindsdb_logger.py:123 - ----------\n",
      "\n",
      "WARNING:mindsdb-logger-38300c5a-f038-11e9-a377-54e1ad558569:f:\\sudhanshu\\opensourceprojects\\mindsdb\\mindsdb\\libs\\phases\\stats_generator\\stats_generator.py:387 - The data in the column smoker seems to contain too much noise/randomness based on the value variability. That is to say, the data is too unevenly distributed and has too many outliers. Please see the detailed logs below for more info.\n",
      "\n",
      "INFO:mindsdb-logger-38300c5a-f038-11e9-a377-54e1ad558569:f:\\sudhanshu\\opensourceprojects\\mindsdb\\mindsdb\\libs\\phases\\stats_generator\\stats_generator.py:455 - Data distribution for column \"smoker\"\n",
      "\n",
      "INFO:mindsdb-logger-38300c5a-f038-11e9-a377-54e1ad558569:f:\\sudhanshu\\opensourceprojects\\mindsdb\\mindsdb\\libs\\data_types\\mindsdb_logger.py:76 - ----------\n",
      "\n",
      "INFO:mindsdb-logger-38300c5a-f038-11e9-a377-54e1ad558569:f:\\sudhanshu\\opensourceprojects\\mindsdb\\mindsdb\\libs\\data_types\\mindsdb_logger.py:119 -  Binary Category: 1329\n",
      "\n",
      "INFO:mindsdb-logger-38300c5a-f038-11e9-a377-54e1ad558569:f:\\sudhanshu\\opensourceprojects\\mindsdb\\mindsdb\\libs\\data_types\\mindsdb_logger.py:123 - ----------\n",
      "\n",
      "WARNING:mindsdb-logger-38300c5a-f038-11e9-a377-54e1ad558569:f:\\sudhanshu\\opensourceprojects\\mindsdb\\mindsdb\\libs\\phases\\stats_generator\\stats_generator.py:387 - The data in the column region seems to contain too much noise/randomness based on the value variability. That is to say, the data is too unevenly distributed and has too many outliers. Please see the detailed logs below for more info.\n",
      "\n",
      "INFO:mindsdb-logger-38300c5a-f038-11e9-a377-54e1ad558569:f:\\sudhanshu\\opensourceprojects\\mindsdb\\mindsdb\\libs\\phases\\stats_generator\\stats_generator.py:455 - Data distribution for column \"region\"\n",
      "\n",
      "INFO:mindsdb-logger-38300c5a-f038-11e9-a377-54e1ad558569:f:\\sudhanshu\\opensourceprojects\\mindsdb\\mindsdb\\libs\\data_types\\mindsdb_logger.py:76 - ----------\n",
      "\n",
      "INFO:mindsdb-logger-38300c5a-f038-11e9-a377-54e1ad558569:f:\\sudhanshu\\opensourceprojects\\mindsdb\\mindsdb\\libs\\data_types\\mindsdb_logger.py:119 -  Category: 1329\n",
      "\n",
      "INFO:mindsdb-logger-38300c5a-f038-11e9-a377-54e1ad558569:f:\\sudhanshu\\opensourceprojects\\mindsdb\\mindsdb\\libs\\data_types\\mindsdb_logger.py:123 - ----------\n",
      "\n",
      "WARNING:mindsdb-logger-38300c5a-f038-11e9-a377-54e1ad558569:f:\\sudhanshu\\opensourceprojects\\mindsdb\\mindsdb\\libs\\phases\\stats_generator\\stats_generator.py:432 - Column charges is very biased towards the value 1748.3594411000001, please make sure that the data in this column is correct !\n",
      "\n",
      "INFO:mindsdb-logger-38300c5a-f038-11e9-a377-54e1ad558569:f:\\sudhanshu\\opensourceprojects\\mindsdb\\mindsdb\\libs\\phases\\stats_generator\\stats_generator.py:455 - Data distribution for column \"charges\"\n",
      "\n",
      "INFO:mindsdb-logger-38300c5a-f038-11e9-a377-54e1ad558569:f:\\sudhanshu\\opensourceprojects\\mindsdb\\mindsdb\\libs\\data_types\\mindsdb_logger.py:76 - ----------\n",
      "\n",
      "INFO:mindsdb-logger-38300c5a-f038-11e9-a377-54e1ad558569:f:\\sudhanshu\\opensourceprojects\\mindsdb\\mindsdb\\libs\\data_types\\mindsdb_logger.py:119 -  Float: 1328\n",
      "\n",
      "INFO:mindsdb-logger-38300c5a-f038-11e9-a377-54e1ad558569:f:\\sudhanshu\\opensourceprojects\\mindsdb\\mindsdb\\libs\\data_types\\mindsdb_logger.py:119 -    Int: 1\n",
      "\n",
      "INFO:mindsdb-logger-38300c5a-f038-11e9-a377-54e1ad558569:f:\\sudhanshu\\opensourceprojects\\mindsdb\\mindsdb\\libs\\data_types\\mindsdb_logger.py:123 - ----------\n",
      "\n",
      "INFO:mindsdb-logger-38300c5a-f038-11e9-a377-54e1ad558569:f:\\sudhanshu\\opensourceprojects\\mindsdb\\mindsdb\\libs\\phases\\base_module.py:57 - [END] StatsGenerator, execution time: 2.758 seconds\n",
      "\n",
      "INFO:mindsdb-logger-38300c5a-f038-11e9-a377-54e1ad558569:f:\\sudhanshu\\opensourceprojects\\mindsdb\\mindsdb\\libs\\phases\\base_module.py:52 - [START] DataTransformer\n",
      "\n",
      "INFO:mindsdb-logger-38300c5a-f038-11e9-a377-54e1ad558569:f:\\sudhanshu\\opensourceprojects\\mindsdb\\mindsdb\\libs\\phases\\base_module.py:57 - [END] DataTransformer, execution time: 0.156 seconds\n"
     ]
    },
    {
     "name": "stderr",
     "output_type": "stream",
     "text": [
      "\n",
      "INFO:mindsdb-logger-38300c5a-f038-11e9-a377-54e1ad558569:f:\\sudhanshu\\opensourceprojects\\mindsdb\\mindsdb\\libs\\phases\\base_module.py:52 - [START] ModelInterface\n",
      "\n",
      "c:\\users\\sudhanshu\\appdata\\local\\conda\\conda\\envs\\py37\\lib\\site-packages\\tensorflow\\python\\framework\\dtypes.py:516: FutureWarning: Passing (type, 1) or '1type' as a synonym of type is deprecated; in a future version of numpy, it will be understood as (type, (1,)) / '(1,)type'.\n",
      "  _np_qint8 = np.dtype([(\"qint8\", np.int8, 1)])\n",
      "c:\\users\\sudhanshu\\appdata\\local\\conda\\conda\\envs\\py37\\lib\\site-packages\\tensorflow\\python\\framework\\dtypes.py:517: FutureWarning: Passing (type, 1) or '1type' as a synonym of type is deprecated; in a future version of numpy, it will be understood as (type, (1,)) / '(1,)type'.\n",
      "  _np_quint8 = np.dtype([(\"quint8\", np.uint8, 1)])\n",
      "c:\\users\\sudhanshu\\appdata\\local\\conda\\conda\\envs\\py37\\lib\\site-packages\\tensorflow\\python\\framework\\dtypes.py:518: FutureWarning: Passing (type, 1) or '1type' as a synonym of type is deprecated; in a future version of numpy, it will be understood as (type, (1,)) / '(1,)type'.\n",
      "  _np_qint16 = np.dtype([(\"qint16\", np.int16, 1)])\n",
      "c:\\users\\sudhanshu\\appdata\\local\\conda\\conda\\envs\\py37\\lib\\site-packages\\tensorflow\\python\\framework\\dtypes.py:519: FutureWarning: Passing (type, 1) or '1type' as a synonym of type is deprecated; in a future version of numpy, it will be understood as (type, (1,)) / '(1,)type'.\n",
      "  _np_quint16 = np.dtype([(\"quint16\", np.uint16, 1)])\n",
      "c:\\users\\sudhanshu\\appdata\\local\\conda\\conda\\envs\\py37\\lib\\site-packages\\tensorflow\\python\\framework\\dtypes.py:520: FutureWarning: Passing (type, 1) or '1type' as a synonym of type is deprecated; in a future version of numpy, it will be understood as (type, (1,)) / '(1,)type'.\n",
      "  _np_qint32 = np.dtype([(\"qint32\", np.int32, 1)])\n",
      "c:\\users\\sudhanshu\\appdata\\local\\conda\\conda\\envs\\py37\\lib\\site-packages\\tensorflow\\python\\framework\\dtypes.py:525: FutureWarning: Passing (type, 1) or '1type' as a synonym of type is deprecated; in a future version of numpy, it will be understood as (type, (1,)) / '(1,)type'.\n",
      "  np_resource = np.dtype([(\"resource\", np.ubyte, 1)])\n",
      "c:\\users\\sudhanshu\\appdata\\local\\conda\\conda\\envs\\py37\\lib\\site-packages\\tensorboard\\compat\\tensorflow_stub\\dtypes.py:541: FutureWarning: Passing (type, 1) or '1type' as a synonym of type is deprecated; in a future version of numpy, it will be understood as (type, (1,)) / '(1,)type'.\n",
      "  _np_qint8 = np.dtype([(\"qint8\", np.int8, 1)])\n",
      "c:\\users\\sudhanshu\\appdata\\local\\conda\\conda\\envs\\py37\\lib\\site-packages\\tensorboard\\compat\\tensorflow_stub\\dtypes.py:542: FutureWarning: Passing (type, 1) or '1type' as a synonym of type is deprecated; in a future version of numpy, it will be understood as (type, (1,)) / '(1,)type'.\n",
      "  _np_quint8 = np.dtype([(\"quint8\", np.uint8, 1)])\n",
      "c:\\users\\sudhanshu\\appdata\\local\\conda\\conda\\envs\\py37\\lib\\site-packages\\tensorboard\\compat\\tensorflow_stub\\dtypes.py:543: FutureWarning: Passing (type, 1) or '1type' as a synonym of type is deprecated; in a future version of numpy, it will be understood as (type, (1,)) / '(1,)type'.\n",
      "  _np_qint16 = np.dtype([(\"qint16\", np.int16, 1)])\n",
      "c:\\users\\sudhanshu\\appdata\\local\\conda\\conda\\envs\\py37\\lib\\site-packages\\tensorboard\\compat\\tensorflow_stub\\dtypes.py:544: FutureWarning: Passing (type, 1) or '1type' as a synonym of type is deprecated; in a future version of numpy, it will be understood as (type, (1,)) / '(1,)type'.\n",
      "  _np_quint16 = np.dtype([(\"quint16\", np.uint16, 1)])\n",
      "c:\\users\\sudhanshu\\appdata\\local\\conda\\conda\\envs\\py37\\lib\\site-packages\\tensorboard\\compat\\tensorflow_stub\\dtypes.py:545: FutureWarning: Passing (type, 1) or '1type' as a synonym of type is deprecated; in a future version of numpy, it will be understood as (type, (1,)) / '(1,)type'.\n",
      "  _np_qint32 = np.dtype([(\"qint32\", np.int32, 1)])\n",
      "c:\\users\\sudhanshu\\appdata\\local\\conda\\conda\\envs\\py37\\lib\\site-packages\\tensorboard\\compat\\tensorflow_stub\\dtypes.py:550: FutureWarning: Passing (type, 1) or '1type' as a synonym of type is deprecated; in a future version of numpy, it will be understood as (type, (1,)) / '(1,)type'.\n",
      "  np_resource = np.dtype([(\"resource\", np.ubyte, 1)])\n"
     ]
    },
    {
     "name": "stdout",
     "output_type": "stream",
     "text": [
      "WARNING:tensorflow:\n",
      "The TensorFlow contrib module will not be included in TensorFlow 2.0.\n",
      "For more information, please see:\n",
      "  * https://github.com/tensorflow/community/blob/master/rfcs/20180907-contrib-sunset.md\n",
      "  * https://github.com/tensorflow/addons\n",
      "  * https://github.com/tensorflow/io (for I/O related ops)\n",
      "If you depend on functionality not listed there, please file an issue.\n",
      "\n"
     ]
    },
    {
     "name": "stderr",
     "output_type": "stream",
     "text": [
      "DEBUG:mindsdb-logger-38300c5a-f038-11e9-a377-54e1ad558569:f:\\sudhanshu\\opensourceprojects\\mindsdb\\mindsdb\\libs\\backends\\lightwood.py:148 - We've reached training epoch nr 20 with an r2 score of -20.57 on the testing dataset\n",
      "\n",
      "DEBUG:mindsdb-logger-38300c5a-f038-11e9-a377-54e1ad558569:f:\\sudhanshu\\opensourceprojects\\mindsdb\\mindsdb\\libs\\backends\\lightwood.py:148 - We've reached training epoch nr 40 with an r2 score of 0.055 on the testing dataset\n",
      "\n",
      "DEBUG:mindsdb-logger-38300c5a-f038-11e9-a377-54e1ad558569:f:\\sudhanshu\\opensourceprojects\\mindsdb\\mindsdb\\libs\\backends\\lightwood.py:148 - We've reached training epoch nr 60 with an r2 score of 0.072 on the testing dataset\n",
      "\n",
      "DEBUG:mindsdb-logger-38300c5a-f038-11e9-a377-54e1ad558569:f:\\sudhanshu\\opensourceprojects\\mindsdb\\mindsdb\\libs\\backends\\lightwood.py:148 - We've reached training epoch nr 80 with an r2 score of 0.092 on the testing dataset\n",
      "\n",
      "DEBUG:mindsdb-logger-38300c5a-f038-11e9-a377-54e1ad558569:f:\\sudhanshu\\opensourceprojects\\mindsdb\\mindsdb\\libs\\backends\\lightwood.py:148 - We've reached training epoch nr 100 with an r2 score of 0.115 on the testing dataset\n",
      "\n",
      "DEBUG:mindsdb-logger-38300c5a-f038-11e9-a377-54e1ad558569:f:\\sudhanshu\\opensourceprojects\\mindsdb\\mindsdb\\libs\\backends\\lightwood.py:148 - We've reached training epoch nr 120 with an r2 score of 0.138 on the testing dataset\n",
      "\n",
      "DEBUG:mindsdb-logger-38300c5a-f038-11e9-a377-54e1ad558569:f:\\sudhanshu\\opensourceprojects\\mindsdb\\mindsdb\\libs\\backends\\lightwood.py:148 - We've reached training epoch nr 140 with an r2 score of 0.16 on the testing dataset\n",
      "\n",
      "DEBUG:mindsdb-logger-38300c5a-f038-11e9-a377-54e1ad558569:f:\\sudhanshu\\opensourceprojects\\mindsdb\\mindsdb\\libs\\backends\\lightwood.py:148 - We've reached training epoch nr 160 with an r2 score of 0.177 on the testing dataset\n",
      "\n",
      "DEBUG:mindsdb-logger-38300c5a-f038-11e9-a377-54e1ad558569:f:\\sudhanshu\\opensourceprojects\\mindsdb\\mindsdb\\libs\\backends\\lightwood.py:148 - We've reached training epoch nr 180 with an r2 score of 0.185 on the testing dataset\n",
      "\n",
      "DEBUG:mindsdb-logger-38300c5a-f038-11e9-a377-54e1ad558569:f:\\sudhanshu\\opensourceprojects\\mindsdb\\mindsdb\\libs\\backends\\lightwood.py:148 - We've reached training epoch nr 200 with an r2 score of 0.189 on the testing dataset\n",
      "\n",
      "DEBUG:mindsdb-logger-38300c5a-f038-11e9-a377-54e1ad558569:f:\\sudhanshu\\opensourceprojects\\mindsdb\\mindsdb\\libs\\backends\\lightwood.py:148 - We've reached training epoch nr 220 with an r2 score of 0.193 on the testing dataset\n",
      "\n",
      "DEBUG:mindsdb-logger-38300c5a-f038-11e9-a377-54e1ad558569:f:\\sudhanshu\\opensourceprojects\\mindsdb\\mindsdb\\libs\\backends\\lightwood.py:148 - We've reached training epoch nr 240 with an r2 score of 0.198 on the testing dataset\n",
      "\n",
      "DEBUG:mindsdb-logger-38300c5a-f038-11e9-a377-54e1ad558569:f:\\sudhanshu\\opensourceprojects\\mindsdb\\mindsdb\\libs\\backends\\lightwood.py:148 - We've reached training epoch nr 260 with an r2 score of 0.202 on the testing dataset\n",
      "\n",
      "DEBUG:mindsdb-logger-38300c5a-f038-11e9-a377-54e1ad558569:f:\\sudhanshu\\opensourceprojects\\mindsdb\\mindsdb\\libs\\backends\\lightwood.py:148 - We've reached training epoch nr 280 with an r2 score of 0.205 on the testing dataset\n",
      "\n",
      "DEBUG:mindsdb-logger-38300c5a-f038-11e9-a377-54e1ad558569:f:\\sudhanshu\\opensourceprojects\\mindsdb\\mindsdb\\libs\\backends\\lightwood.py:148 - We've reached training epoch nr 300 with an r2 score of 0.209 on the testing dataset\n",
      "\n",
      "DEBUG:mindsdb-logger-38300c5a-f038-11e9-a377-54e1ad558569:f:\\sudhanshu\\opensourceprojects\\mindsdb\\mindsdb\\libs\\backends\\lightwood.py:148 - We've reached training epoch nr 320 with an r2 score of 0.21 on the testing dataset\n",
      "\n",
      "DEBUG:mindsdb-logger-38300c5a-f038-11e9-a377-54e1ad558569:f:\\sudhanshu\\opensourceprojects\\mindsdb\\mindsdb\\libs\\backends\\lightwood.py:148 - We've reached training epoch nr 340 with an r2 score of 0.21 on the testing dataset\n",
      "\n",
      "DEBUG:mindsdb-logger-38300c5a-f038-11e9-a377-54e1ad558569:f:\\sudhanshu\\opensourceprojects\\mindsdb\\mindsdb\\libs\\backends\\lightwood.py:148 - We've reached training epoch nr 360 with an r2 score of 0.21 on the testing dataset\n",
      "\n",
      "DEBUG:mindsdb-logger-38300c5a-f038-11e9-a377-54e1ad558569:f:\\sudhanshu\\opensourceprojects\\mindsdb\\mindsdb\\libs\\backends\\lightwood.py:148 - We've reached training epoch nr 380 with an r2 score of 0.211 on the testing dataset\n",
      "\n",
      "DEBUG:mindsdb-logger-38300c5a-f038-11e9-a377-54e1ad558569:f:\\sudhanshu\\opensourceprojects\\mindsdb\\mindsdb\\libs\\backends\\lightwood.py:148 - We've reached training epoch nr 400 with an r2 score of 0.211 on the testing dataset\n",
      "\n",
      "DEBUG:mindsdb-logger-38300c5a-f038-11e9-a377-54e1ad558569:f:\\sudhanshu\\opensourceprojects\\mindsdb\\mindsdb\\libs\\backends\\lightwood.py:148 - We've reached training epoch nr 420 with an r2 score of 0.211 on the testing dataset\n",
      "\n",
      "DEBUG:mindsdb-logger-38300c5a-f038-11e9-a377-54e1ad558569:f:\\sudhanshu\\opensourceprojects\\mindsdb\\mindsdb\\libs\\backends\\lightwood.py:148 - We've reached training epoch nr 440 with an r2 score of 0.211 on the testing dataset\n",
      "\n",
      "DEBUG:mindsdb-logger-38300c5a-f038-11e9-a377-54e1ad558569:f:\\sudhanshu\\opensourceprojects\\mindsdb\\mindsdb\\libs\\backends\\lightwood.py:148 - We've reached training epoch nr 460 with an r2 score of 0.211 on the testing dataset\n",
      "\n",
      "DEBUG:mindsdb-logger-38300c5a-f038-11e9-a377-54e1ad558569:f:\\sudhanshu\\opensourceprojects\\mindsdb\\mindsdb\\libs\\backends\\lightwood.py:148 - We've reached training epoch nr 480 with an r2 score of 0.21 on the testing dataset\n",
      "\n",
      "DEBUG:mindsdb-logger-38300c5a-f038-11e9-a377-54e1ad558569:f:\\sudhanshu\\opensourceprojects\\mindsdb\\mindsdb\\libs\\backends\\lightwood.py:148 - We've reached training epoch nr 500 with an r2 score of 0.211 on the testing dataset\n",
      "\n",
      "DEBUG:mindsdb-logger-38300c5a-f038-11e9-a377-54e1ad558569:f:\\sudhanshu\\opensourceprojects\\mindsdb\\mindsdb\\libs\\backends\\lightwood.py:148 - We've reached training epoch nr 520 with an r2 score of 0.211 on the testing dataset\n",
      "\n",
      "DEBUG:mindsdb-logger-38300c5a-f038-11e9-a377-54e1ad558569:f:\\sudhanshu\\opensourceprojects\\mindsdb\\mindsdb\\libs\\backends\\lightwood.py:148 - We've reached training epoch nr 540 with an r2 score of 0.211 on the testing dataset\n",
      "\n",
      "DEBUG:mindsdb-logger-38300c5a-f038-11e9-a377-54e1ad558569:f:\\sudhanshu\\opensourceprojects\\mindsdb\\mindsdb\\libs\\backends\\lightwood.py:148 - We've reached training epoch nr 560 with an r2 score of 0.21 on the testing dataset\n",
      "\n",
      "DEBUG:mindsdb-logger-38300c5a-f038-11e9-a377-54e1ad558569:f:\\sudhanshu\\opensourceprojects\\mindsdb\\mindsdb\\libs\\backends\\lightwood.py:148 - We've reached training epoch nr 580 with an r2 score of 0.21 on the testing dataset\n",
      "\n",
      "INFO:mindsdb-logger-38300c5a-f038-11e9-a377-54e1ad558569:f:\\sudhanshu\\opensourceprojects\\mindsdb\\mindsdb\\libs\\backends\\lightwood.py:177 - Training accuracy of: {'charges': {'function': 'r2_score', 'value': 0.21124421680176955}}\n",
      "\n",
      "INFO:mindsdb-logger-38300c5a-f038-11e9-a377-54e1ad558569:f:\\sudhanshu\\opensourceprojects\\mindsdb\\mindsdb\\libs\\phases\\base_module.py:57 - [END] ModelInterface, execution time: 55.993 seconds\n",
      "\n",
      "INFO:mindsdb-logger-38300c5a-f038-11e9-a377-54e1ad558569:f:\\sudhanshu\\opensourceprojects\\mindsdb\\mindsdb\\libs\\phases\\base_module.py:52 - [START] ModelAnalyzer\n",
      "\n"
     ]
    },
    {
     "name": "stdout",
     "output_type": "stream",
     "text": [
      "Can't disable output on Jupyter notebook\n",
      "Can't disable output on Jupyter notebook\n"
     ]
    },
    {
     "name": "stderr",
     "output_type": "stream",
     "text": [
      "c:\\users\\sudhanshu\\appdata\\local\\conda\\conda\\envs\\py37\\lib\\site-packages\\sklearn\\neighbors\\lof.py:253: UserWarning: n_neighbors (20) is greater than the total number of samples (10). n_neighbors will be set to (n_samples - 1) for estimation.\n",
      "  % (self.n_neighbors, n_samples))\n",
      "c:\\users\\sudhanshu\\appdata\\local\\conda\\conda\\envs\\py37\\lib\\site-packages\\sklearn\\neighbors\\lof.py:253: UserWarning: n_neighbors (20) is greater than the total number of samples (10). n_neighbors will be set to (n_samples - 1) for estimation.\n",
      "  % (self.n_neighbors, n_samples))\n",
      "c:\\users\\sudhanshu\\appdata\\local\\conda\\conda\\envs\\py37\\lib\\site-packages\\sklearn\\neighbors\\lof.py:253: UserWarning: n_neighbors (20) is greater than the total number of samples (10). n_neighbors will be set to (n_samples - 1) for estimation.\n",
      "  % (self.n_neighbors, n_samples))\n",
      "c:\\users\\sudhanshu\\appdata\\local\\conda\\conda\\envs\\py37\\lib\\site-packages\\sklearn\\neighbors\\lof.py:253: UserWarning: n_neighbors (20) is greater than the total number of samples (10). n_neighbors will be set to (n_samples - 1) for estimation.\n",
      "  % (self.n_neighbors, n_samples))\n",
      "Column age is very biased towards the value 55.05, please make sure that the data in this column is correct !\n"
     ]
    },
    {
     "name": "stdout",
     "output_type": "stream",
     "text": [
      "Can't disable output on Jupyter notebook\n",
      "Can't disable output on Jupyter notebook\n",
      "Can't disable output on Jupyter notebook\n"
     ]
    },
    {
     "name": "stderr",
     "output_type": "stream",
     "text": [
      "c:\\users\\sudhanshu\\appdata\\local\\conda\\conda\\envs\\py37\\lib\\site-packages\\sklearn\\neighbors\\lof.py:253: UserWarning: n_neighbors (20) is greater than the total number of samples (12). n_neighbors will be set to (n_samples - 1) for estimation.\n",
      "  % (self.n_neighbors, n_samples))\n",
      "c:\\users\\sudhanshu\\appdata\\local\\conda\\conda\\envs\\py37\\lib\\site-packages\\sklearn\\neighbors\\lof.py:253: UserWarning: n_neighbors (20) is greater than the total number of samples (12). n_neighbors will be set to (n_samples - 1) for estimation.\n",
      "  % (self.n_neighbors, n_samples))\n",
      "c:\\users\\sudhanshu\\appdata\\local\\conda\\conda\\envs\\py37\\lib\\site-packages\\sklearn\\neighbors\\lof.py:253: UserWarning: n_neighbors (20) is greater than the total number of samples (12). n_neighbors will be set to (n_samples - 1) for estimation.\n",
      "  % (self.n_neighbors, n_samples))\n",
      "c:\\users\\sudhanshu\\appdata\\local\\conda\\conda\\envs\\py37\\lib\\site-packages\\sklearn\\neighbors\\lof.py:253: UserWarning: n_neighbors (20) is greater than the total number of samples (12). n_neighbors will be set to (n_samples - 1) for estimation.\n",
      "  % (self.n_neighbors, n_samples))\n",
      "Column age is very biased towards the value 34.15, please make sure that the data in this column is correct !\n"
     ]
    },
    {
     "name": "stdout",
     "output_type": "stream",
     "text": [
      "Can't disable output on Jupyter notebook\n",
      "Can't disable output on Jupyter notebook\n",
      "Can't disable output on Jupyter notebook\n"
     ]
    },
    {
     "name": "stderr",
     "output_type": "stream",
     "text": [
      "c:\\users\\sudhanshu\\appdata\\local\\conda\\conda\\envs\\py37\\lib\\site-packages\\sklearn\\neighbors\\lof.py:253: UserWarning: n_neighbors (20) is greater than the total number of samples (3). n_neighbors will be set to (n_samples - 1) for estimation.\n",
      "  % (self.n_neighbors, n_samples))\n",
      "c:\\users\\sudhanshu\\appdata\\local\\conda\\conda\\envs\\py37\\lib\\site-packages\\sklearn\\neighbors\\lof.py:253: UserWarning: n_neighbors (20) is greater than the total number of samples (3). n_neighbors will be set to (n_samples - 1) for estimation.\n",
      "  % (self.n_neighbors, n_samples))\n",
      "c:\\users\\sudhanshu\\appdata\\local\\conda\\conda\\envs\\py37\\lib\\site-packages\\sklearn\\neighbors\\lof.py:253: UserWarning: n_neighbors (20) is greater than the total number of samples (3). n_neighbors will be set to (n_samples - 1) for estimation.\n",
      "  % (self.n_neighbors, n_samples))\n",
      "c:\\users\\sudhanshu\\appdata\\local\\conda\\conda\\envs\\py37\\lib\\site-packages\\sklearn\\neighbors\\lof.py:253: UserWarning: n_neighbors (20) is greater than the total number of samples (3). n_neighbors will be set to (n_samples - 1) for estimation.\n",
      "  % (self.n_neighbors, n_samples))\n",
      "Column age is very biased towards the value 39.09, please make sure that the data in this column is correct !\n"
     ]
    },
    {
     "name": "stdout",
     "output_type": "stream",
     "text": [
      "Can't disable output on Jupyter notebook\n",
      "Can't disable output on Jupyter notebook\n",
      "Can't disable output on Jupyter notebook\n"
     ]
    },
    {
     "name": "stderr",
     "output_type": "stream",
     "text": [
      "c:\\users\\sudhanshu\\appdata\\local\\conda\\conda\\envs\\py37\\lib\\site-packages\\sklearn\\neighbors\\lof.py:253: UserWarning: n_neighbors (20) is greater than the total number of samples (5). n_neighbors will be set to (n_samples - 1) for estimation.\n",
      "  % (self.n_neighbors, n_samples))\n",
      "c:\\users\\sudhanshu\\appdata\\local\\conda\\conda\\envs\\py37\\lib\\site-packages\\sklearn\\neighbors\\lof.py:253: UserWarning: n_neighbors (20) is greater than the total number of samples (5). n_neighbors will be set to (n_samples - 1) for estimation.\n",
      "  % (self.n_neighbors, n_samples))\n",
      "c:\\users\\sudhanshu\\appdata\\local\\conda\\conda\\envs\\py37\\lib\\site-packages\\sklearn\\neighbors\\lof.py:253: UserWarning: n_neighbors (20) is greater than the total number of samples (5). n_neighbors will be set to (n_samples - 1) for estimation.\n",
      "  % (self.n_neighbors, n_samples))\n",
      "c:\\users\\sudhanshu\\appdata\\local\\conda\\conda\\envs\\py37\\lib\\site-packages\\sklearn\\neighbors\\lof.py:253: UserWarning: n_neighbors (20) is greater than the total number of samples (5). n_neighbors will be set to (n_samples - 1) for estimation.\n",
      "  % (self.n_neighbors, n_samples))\n",
      "Column age is very biased towards the value 47.010000000000005, please make sure that the data in this column is correct !\n"
     ]
    },
    {
     "name": "stdout",
     "output_type": "stream",
     "text": [
      "Can't disable output on Jupyter notebook\n",
      "Can't disable output on Jupyter notebook\n",
      "Can't disable output on Jupyter notebook\n"
     ]
    },
    {
     "name": "stderr",
     "output_type": "stream",
     "text": [
      "c:\\users\\sudhanshu\\appdata\\local\\conda\\conda\\envs\\py37\\lib\\site-packages\\sklearn\\neighbors\\lof.py:253: UserWarning: n_neighbors (20) is greater than the total number of samples (12). n_neighbors will be set to (n_samples - 1) for estimation.\n",
      "  % (self.n_neighbors, n_samples))\n",
      "c:\\users\\sudhanshu\\appdata\\local\\conda\\conda\\envs\\py37\\lib\\site-packages\\sklearn\\neighbors\\lof.py:253: UserWarning: n_neighbors (20) is greater than the total number of samples (12). n_neighbors will be set to (n_samples - 1) for estimation.\n",
      "  % (self.n_neighbors, n_samples))\n",
      "c:\\users\\sudhanshu\\appdata\\local\\conda\\conda\\envs\\py37\\lib\\site-packages\\sklearn\\neighbors\\lof.py:253: UserWarning: n_neighbors (20) is greater than the total number of samples (12). n_neighbors will be set to (n_samples - 1) for estimation.\n",
      "  % (self.n_neighbors, n_samples))\n",
      "c:\\users\\sudhanshu\\appdata\\local\\conda\\conda\\envs\\py37\\lib\\site-packages\\sklearn\\neighbors\\lof.py:253: UserWarning: n_neighbors (20) is greater than the total number of samples (12). n_neighbors will be set to (n_samples - 1) for estimation.\n",
      "  % (self.n_neighbors, n_samples))\n",
      "Column age is very biased towards the value 38.1, please make sure that the data in this column is correct !\n"
     ]
    },
    {
     "name": "stdout",
     "output_type": "stream",
     "text": [
      "Can't disable output on Jupyter notebook\n",
      "Can't disable output on Jupyter notebook\n",
      "Can't disable output on Jupyter notebook\n"
     ]
    },
    {
     "name": "stderr",
     "output_type": "stream",
     "text": [
      "c:\\users\\sudhanshu\\appdata\\local\\conda\\conda\\envs\\py37\\lib\\site-packages\\sklearn\\neighbors\\lof.py:253: UserWarning: n_neighbors (20) is greater than the total number of samples (13). n_neighbors will be set to (n_samples - 1) for estimation.\n",
      "  % (self.n_neighbors, n_samples))\n",
      "c:\\users\\sudhanshu\\appdata\\local\\conda\\conda\\envs\\py37\\lib\\site-packages\\sklearn\\neighbors\\lof.py:253: UserWarning: n_neighbors (20) is greater than the total number of samples (13). n_neighbors will be set to (n_samples - 1) for estimation.\n",
      "  % (self.n_neighbors, n_samples))\n",
      "c:\\users\\sudhanshu\\appdata\\local\\conda\\conda\\envs\\py37\\lib\\site-packages\\sklearn\\neighbors\\lof.py:253: UserWarning: n_neighbors (20) is greater than the total number of samples (13). n_neighbors will be set to (n_samples - 1) for estimation.\n",
      "  % (self.n_neighbors, n_samples))\n",
      "c:\\users\\sudhanshu\\appdata\\local\\conda\\conda\\envs\\py37\\lib\\site-packages\\sklearn\\neighbors\\lof.py:253: UserWarning: n_neighbors (20) is greater than the total number of samples (13). n_neighbors will be set to (n_samples - 1) for estimation.\n",
      "  % (self.n_neighbors, n_samples))\n",
      "Column age is very biased towards the value 52.95, please make sure that the data in this column is correct !\n"
     ]
    },
    {
     "name": "stdout",
     "output_type": "stream",
     "text": [
      "Can't disable output on Jupyter notebook\n",
      "Can't disable output on Jupyter notebook\n",
      "Can't disable output on Jupyter notebook\n"
     ]
    },
    {
     "name": "stderr",
     "output_type": "stream",
     "text": [
      "c:\\users\\sudhanshu\\appdata\\local\\conda\\conda\\envs\\py37\\lib\\site-packages\\sklearn\\neighbors\\lof.py:253: UserWarning: n_neighbors (20) is greater than the total number of samples (11). n_neighbors will be set to (n_samples - 1) for estimation.\n",
      "  % (self.n_neighbors, n_samples))\n",
      "c:\\users\\sudhanshu\\appdata\\local\\conda\\conda\\envs\\py37\\lib\\site-packages\\sklearn\\neighbors\\lof.py:253: UserWarning: n_neighbors (20) is greater than the total number of samples (11). n_neighbors will be set to (n_samples - 1) for estimation.\n",
      "  % (self.n_neighbors, n_samples))\n",
      "c:\\users\\sudhanshu\\appdata\\local\\conda\\conda\\envs\\py37\\lib\\site-packages\\sklearn\\neighbors\\lof.py:253: UserWarning: n_neighbors (20) is greater than the total number of samples (11). n_neighbors will be set to (n_samples - 1) for estimation.\n",
      "  % (self.n_neighbors, n_samples))\n",
      "c:\\users\\sudhanshu\\appdata\\local\\conda\\conda\\envs\\py37\\lib\\site-packages\\sklearn\\neighbors\\lof.py:253: UserWarning: n_neighbors (20) is greater than the total number of samples (11). n_neighbors will be set to (n_samples - 1) for estimation.\n",
      "  % (self.n_neighbors, n_samples))\n",
      "Column age is very biased towards the value 47.08, please make sure that the data in this column is correct !\n"
     ]
    },
    {
     "name": "stdout",
     "output_type": "stream",
     "text": [
      "Can't disable output on Jupyter notebook\n",
      "Can't disable output on Jupyter notebook\n",
      "Can't disable output on Jupyter notebook\n"
     ]
    },
    {
     "name": "stderr",
     "output_type": "stream",
     "text": [
      "c:\\users\\sudhanshu\\appdata\\local\\conda\\conda\\envs\\py37\\lib\\site-packages\\sklearn\\neighbors\\lof.py:253: UserWarning: n_neighbors (20) is greater than the total number of samples (2). n_neighbors will be set to (n_samples - 1) for estimation.\n",
      "  % (self.n_neighbors, n_samples))\n",
      "c:\\users\\sudhanshu\\appdata\\local\\conda\\conda\\envs\\py37\\lib\\site-packages\\sklearn\\neighbors\\lof.py:253: UserWarning: n_neighbors (20) is greater than the total number of samples (2). n_neighbors will be set to (n_samples - 1) for estimation.\n",
      "  % (self.n_neighbors, n_samples))\n",
      "c:\\users\\sudhanshu\\appdata\\local\\conda\\conda\\envs\\py37\\lib\\site-packages\\sklearn\\neighbors\\lof.py:253: UserWarning: n_neighbors (20) is greater than the total number of samples (2). n_neighbors will be set to (n_samples - 1) for estimation.\n",
      "  % (self.n_neighbors, n_samples))\n",
      "c:\\users\\sudhanshu\\appdata\\local\\conda\\conda\\envs\\py37\\lib\\site-packages\\sklearn\\neighbors\\lof.py:253: UserWarning: n_neighbors (20) is greater than the total number of samples (2). n_neighbors will be set to (n_samples - 1) for estimation.\n",
      "  % (self.n_neighbors, n_samples))\n",
      "Column age is very biased towards the value 59.04, please make sure that the data in this column is correct !\n"
     ]
    },
    {
     "name": "stdout",
     "output_type": "stream",
     "text": [
      "Can't disable output on Jupyter notebook\n",
      "Can't disable output on Jupyter notebook\n",
      "Can't disable output on Jupyter notebook\n"
     ]
    },
    {
     "name": "stderr",
     "output_type": "stream",
     "text": [
      "c:\\users\\sudhanshu\\appdata\\local\\conda\\conda\\envs\\py37\\lib\\site-packages\\sklearn\\neighbors\\lof.py:253: UserWarning: n_neighbors (20) is greater than the total number of samples (14). n_neighbors will be set to (n_samples - 1) for estimation.\n",
      "  % (self.n_neighbors, n_samples))\n",
      "c:\\users\\sudhanshu\\appdata\\local\\conda\\conda\\envs\\py37\\lib\\site-packages\\sklearn\\neighbors\\lof.py:253: UserWarning: n_neighbors (20) is greater than the total number of samples (14). n_neighbors will be set to (n_samples - 1) for estimation.\n",
      "  % (self.n_neighbors, n_samples))\n",
      "c:\\users\\sudhanshu\\appdata\\local\\conda\\conda\\envs\\py37\\lib\\site-packages\\sklearn\\neighbors\\lof.py:253: UserWarning: n_neighbors (20) is greater than the total number of samples (14). n_neighbors will be set to (n_samples - 1) for estimation.\n",
      "  % (self.n_neighbors, n_samples))\n",
      "c:\\users\\sudhanshu\\appdata\\local\\conda\\conda\\envs\\py37\\lib\\site-packages\\sklearn\\neighbors\\lof.py:253: UserWarning: n_neighbors (20) is greater than the total number of samples (14). n_neighbors will be set to (n_samples - 1) for estimation.\n",
      "  % (self.n_neighbors, n_samples))\n",
      "Column age is very biased towards the value 19.1, please make sure that the data in this column is correct !\n"
     ]
    },
    {
     "name": "stdout",
     "output_type": "stream",
     "text": [
      "Can't disable output on Jupyter notebook\n",
      "Can't disable output on Jupyter notebook\n",
      "Can't disable output on Jupyter notebook\n"
     ]
    },
    {
     "name": "stderr",
     "output_type": "stream",
     "text": [
      "c:\\users\\sudhanshu\\appdata\\local\\conda\\conda\\envs\\py37\\lib\\site-packages\\scipy\\stats\\stats.py:2315: RuntimeWarning: invalid value encountered in true_divide\n",
      "  return (a - mns) / sstd\n",
      "c:\\users\\sudhanshu\\appdata\\local\\conda\\conda\\envs\\py37\\lib\\site-packages\\sklearn\\neighbors\\lof.py:253: UserWarning: n_neighbors (20) is greater than the total number of samples (1). n_neighbors will be set to (n_samples - 1) for estimation.\n",
      "  % (self.n_neighbors, n_samples))\n"
     ]
    },
    {
     "name": "stdout",
     "output_type": "stream",
     "text": [
      "Can't disable output on Jupyter notebook\n",
      "Can't disable output on Jupyter notebook\n",
      "Can't disable output on Jupyter notebook\n"
     ]
    },
    {
     "name": "stderr",
     "output_type": "stream",
     "text": [
      "c:\\users\\sudhanshu\\appdata\\local\\conda\\conda\\envs\\py37\\lib\\site-packages\\sklearn\\neighbors\\lof.py:253: UserWarning: n_neighbors (20) is greater than the total number of samples (8). n_neighbors will be set to (n_samples - 1) for estimation.\n",
      "  % (self.n_neighbors, n_samples))\n",
      "c:\\users\\sudhanshu\\appdata\\local\\conda\\conda\\envs\\py37\\lib\\site-packages\\sklearn\\neighbors\\lof.py:253: UserWarning: n_neighbors (20) is greater than the total number of samples (8). n_neighbors will be set to (n_samples - 1) for estimation.\n",
      "  % (self.n_neighbors, n_samples))\n",
      "c:\\users\\sudhanshu\\appdata\\local\\conda\\conda\\envs\\py37\\lib\\site-packages\\sklearn\\neighbors\\lof.py:253: UserWarning: n_neighbors (20) is greater than the total number of samples (8). n_neighbors will be set to (n_samples - 1) for estimation.\n",
      "  % (self.n_neighbors, n_samples))\n",
      "c:\\users\\sudhanshu\\appdata\\local\\conda\\conda\\envs\\py37\\lib\\site-packages\\sklearn\\neighbors\\lof.py:253: UserWarning: n_neighbors (20) is greater than the total number of samples (8). n_neighbors will be set to (n_samples - 1) for estimation.\n",
      "  % (self.n_neighbors, n_samples))\n",
      "Column age is very biased towards the value 39.09, please make sure that the data in this column is correct !\n"
     ]
    },
    {
     "name": "stdout",
     "output_type": "stream",
     "text": [
      "Can't disable output on Jupyter notebook\n",
      "Can't disable output on Jupyter notebook\n",
      "Can't disable output on Jupyter notebook\n"
     ]
    },
    {
     "name": "stderr",
     "output_type": "stream",
     "text": [
      "c:\\users\\sudhanshu\\appdata\\local\\conda\\conda\\envs\\py37\\lib\\site-packages\\sklearn\\neighbors\\lof.py:253: UserWarning: n_neighbors (20) is greater than the total number of samples (9). n_neighbors will be set to (n_samples - 1) for estimation.\n",
      "  % (self.n_neighbors, n_samples))\n",
      "c:\\users\\sudhanshu\\appdata\\local\\conda\\conda\\envs\\py37\\lib\\site-packages\\sklearn\\neighbors\\lof.py:253: UserWarning: n_neighbors (20) is greater than the total number of samples (9). n_neighbors will be set to (n_samples - 1) for estimation.\n",
      "  % (self.n_neighbors, n_samples))\n",
      "c:\\users\\sudhanshu\\appdata\\local\\conda\\conda\\envs\\py37\\lib\\site-packages\\sklearn\\neighbors\\lof.py:253: UserWarning: n_neighbors (20) is greater than the total number of samples (9). n_neighbors will be set to (n_samples - 1) for estimation.\n",
      "  % (self.n_neighbors, n_samples))\n",
      "c:\\users\\sudhanshu\\appdata\\local\\conda\\conda\\envs\\py37\\lib\\site-packages\\sklearn\\neighbors\\lof.py:253: UserWarning: n_neighbors (20) is greater than the total number of samples (9). n_neighbors will be set to (n_samples - 1) for estimation.\n",
      "  % (self.n_neighbors, n_samples))\n",
      "Column age is very biased towards the value 30.87, please make sure that the data in this column is correct !\n"
     ]
    },
    {
     "name": "stdout",
     "output_type": "stream",
     "text": [
      "Can't disable output on Jupyter notebook\n",
      "Can't disable output on Jupyter notebook\n",
      "Can't disable output on Jupyter notebook\n"
     ]
    },
    {
     "name": "stderr",
     "output_type": "stream",
     "text": [
      "c:\\users\\sudhanshu\\appdata\\local\\conda\\conda\\envs\\py37\\lib\\site-packages\\sklearn\\neighbors\\lof.py:253: UserWarning: n_neighbors (20) is greater than the total number of samples (2). n_neighbors will be set to (n_samples - 1) for estimation.\n",
      "  % (self.n_neighbors, n_samples))\n",
      "c:\\users\\sudhanshu\\appdata\\local\\conda\\conda\\envs\\py37\\lib\\site-packages\\sklearn\\neighbors\\lof.py:253: UserWarning: n_neighbors (20) is greater than the total number of samples (2). n_neighbors will be set to (n_samples - 1) for estimation.\n",
      "  % (self.n_neighbors, n_samples))\n",
      "c:\\users\\sudhanshu\\appdata\\local\\conda\\conda\\envs\\py37\\lib\\site-packages\\scipy\\stats\\stats.py:2315: RuntimeWarning: invalid value encountered in true_divide\n",
      "  return (a - mns) / sstd\n",
      "c:\\users\\sudhanshu\\appdata\\local\\conda\\conda\\envs\\py37\\lib\\site-packages\\sklearn\\neighbors\\lof.py:253: UserWarning: n_neighbors (20) is greater than the total number of samples (2). n_neighbors will be set to (n_samples - 1) for estimation.\n",
      "  % (self.n_neighbors, n_samples))\n",
      "c:\\users\\sudhanshu\\appdata\\local\\conda\\conda\\envs\\py37\\lib\\site-packages\\sklearn\\neighbors\\lof.py:253: UserWarning: n_neighbors (20) is greater than the total number of samples (2). n_neighbors will be set to (n_samples - 1) for estimation.\n",
      "  % (self.n_neighbors, n_samples))\n",
      "Column age is very biased towards the value 40.05, please make sure that the data in this column is correct !\n"
     ]
    },
    {
     "name": "stdout",
     "output_type": "stream",
     "text": [
      "Can't disable output on Jupyter notebook\n",
      "Can't disable output on Jupyter notebook\n",
      "Can't disable output on Jupyter notebook\n"
     ]
    },
    {
     "name": "stderr",
     "output_type": "stream",
     "text": [
      "c:\\users\\sudhanshu\\appdata\\local\\conda\\conda\\envs\\py37\\lib\\site-packages\\sklearn\\neighbors\\lof.py:253: UserWarning: n_neighbors (20) is greater than the total number of samples (10). n_neighbors will be set to (n_samples - 1) for estimation.\n",
      "  % (self.n_neighbors, n_samples))\n",
      "c:\\users\\sudhanshu\\appdata\\local\\conda\\conda\\envs\\py37\\lib\\site-packages\\sklearn\\neighbors\\lof.py:253: UserWarning: n_neighbors (20) is greater than the total number of samples (10). n_neighbors will be set to (n_samples - 1) for estimation.\n",
      "  % (self.n_neighbors, n_samples))\n",
      "c:\\users\\sudhanshu\\appdata\\local\\conda\\conda\\envs\\py37\\lib\\site-packages\\scipy\\stats\\stats.py:2315: RuntimeWarning: invalid value encountered in true_divide\n",
      "  return (a - mns) / sstd\n",
      "c:\\users\\sudhanshu\\appdata\\local\\conda\\conda\\envs\\py37\\lib\\site-packages\\sklearn\\neighbors\\lof.py:253: UserWarning: n_neighbors (20) is greater than the total number of samples (10). n_neighbors will be set to (n_samples - 1) for estimation.\n",
      "  % (self.n_neighbors, n_samples))\n",
      "c:\\users\\sudhanshu\\appdata\\local\\conda\\conda\\envs\\py37\\lib\\site-packages\\sklearn\\neighbors\\lof.py:253: UserWarning: n_neighbors (20) is greater than the total number of samples (10). n_neighbors will be set to (n_samples - 1) for estimation.\n",
      "  % (self.n_neighbors, n_samples))\n",
      "Column age is very biased towards the value 18.990000000000002, please make sure that the data in this column is correct !\n"
     ]
    },
    {
     "name": "stdout",
     "output_type": "stream",
     "text": [
      "Can't disable output on Jupyter notebook\n",
      "Can't disable output on Jupyter notebook\n",
      "Can't disable output on Jupyter notebook\n"
     ]
    },
    {
     "name": "stderr",
     "output_type": "stream",
     "text": [
      "c:\\users\\sudhanshu\\appdata\\local\\conda\\conda\\envs\\py37\\lib\\site-packages\\sklearn\\neighbors\\lof.py:253: UserWarning: n_neighbors (20) is greater than the total number of samples (4). n_neighbors will be set to (n_samples - 1) for estimation.\n",
      "  % (self.n_neighbors, n_samples))\n",
      "c:\\users\\sudhanshu\\appdata\\local\\conda\\conda\\envs\\py37\\lib\\site-packages\\sklearn\\neighbors\\lof.py:253: UserWarning: n_neighbors (20) is greater than the total number of samples (4). n_neighbors will be set to (n_samples - 1) for estimation.\n",
      "  % (self.n_neighbors, n_samples))\n",
      "c:\\users\\sudhanshu\\appdata\\local\\conda\\conda\\envs\\py37\\lib\\site-packages\\sklearn\\neighbors\\lof.py:253: UserWarning: n_neighbors (20) is greater than the total number of samples (4). n_neighbors will be set to (n_samples - 1) for estimation.\n",
      "  % (self.n_neighbors, n_samples))\n",
      "c:\\users\\sudhanshu\\appdata\\local\\conda\\conda\\envs\\py37\\lib\\site-packages\\sklearn\\neighbors\\lof.py:253: UserWarning: n_neighbors (20) is greater than the total number of samples (4). n_neighbors will be set to (n_samples - 1) for estimation.\n",
      "  % (self.n_neighbors, n_samples))\n",
      "Column age is very biased towards the value 19.08, please make sure that the data in this column is correct !\n"
     ]
    },
    {
     "name": "stdout",
     "output_type": "stream",
     "text": [
      "Can't disable output on Jupyter notebook\n",
      "Can't disable output on Jupyter notebook\n",
      "Can't disable output on Jupyter notebook\n"
     ]
    },
    {
     "name": "stderr",
     "output_type": "stream",
     "text": [
      "c:\\users\\sudhanshu\\appdata\\local\\conda\\conda\\envs\\py37\\lib\\site-packages\\sklearn\\neighbors\\lof.py:253: UserWarning: n_neighbors (20) is greater than the total number of samples (2). n_neighbors will be set to (n_samples - 1) for estimation.\n",
      "  % (self.n_neighbors, n_samples))\n",
      "c:\\users\\sudhanshu\\appdata\\local\\conda\\conda\\envs\\py37\\lib\\site-packages\\sklearn\\neighbors\\lof.py:253: UserWarning: n_neighbors (20) is greater than the total number of samples (2). n_neighbors will be set to (n_samples - 1) for estimation.\n",
      "  % (self.n_neighbors, n_samples))\n",
      "c:\\users\\sudhanshu\\appdata\\local\\conda\\conda\\envs\\py37\\lib\\site-packages\\sklearn\\neighbors\\lof.py:253: UserWarning: n_neighbors (20) is greater than the total number of samples (2). n_neighbors will be set to (n_samples - 1) for estimation.\n",
      "  % (self.n_neighbors, n_samples))\n",
      "c:\\users\\sudhanshu\\appdata\\local\\conda\\conda\\envs\\py37\\lib\\site-packages\\sklearn\\neighbors\\lof.py:253: UserWarning: n_neighbors (20) is greater than the total number of samples (2). n_neighbors will be set to (n_samples - 1) for estimation.\n",
      "  % (self.n_neighbors, n_samples))\n",
      "Column age is very biased towards the value 18.27, please make sure that the data in this column is correct !\n"
     ]
    },
    {
     "name": "stdout",
     "output_type": "stream",
     "text": [
      "Can't disable output on Jupyter notebook\n",
      "Can't disable output on Jupyter notebook\n",
      "Can't disable output on Jupyter notebook\n"
     ]
    },
    {
     "name": "stderr",
     "output_type": "stream",
     "text": [
      "c:\\users\\sudhanshu\\appdata\\local\\conda\\conda\\envs\\py37\\lib\\site-packages\\sklearn\\neighbors\\lof.py:253: UserWarning: n_neighbors (20) is greater than the total number of samples (2). n_neighbors will be set to (n_samples - 1) for estimation.\n",
      "  % (self.n_neighbors, n_samples))\n",
      "c:\\users\\sudhanshu\\appdata\\local\\conda\\conda\\envs\\py37\\lib\\site-packages\\sklearn\\neighbors\\lof.py:253: UserWarning: n_neighbors (20) is greater than the total number of samples (2). n_neighbors will be set to (n_samples - 1) for estimation.\n",
      "  % (self.n_neighbors, n_samples))\n",
      "c:\\users\\sudhanshu\\appdata\\local\\conda\\conda\\envs\\py37\\lib\\site-packages\\sklearn\\neighbors\\lof.py:253: UserWarning: n_neighbors (20) is greater than the total number of samples (2). n_neighbors will be set to (n_samples - 1) for estimation.\n",
      "  % (self.n_neighbors, n_samples))\n",
      "c:\\users\\sudhanshu\\appdata\\local\\conda\\conda\\envs\\py37\\lib\\site-packages\\sklearn\\neighbors\\lof.py:253: UserWarning: n_neighbors (20) is greater than the total number of samples (2). n_neighbors will be set to (n_samples - 1) for estimation.\n",
      "  % (self.n_neighbors, n_samples))\n",
      "Column age is very biased towards the value 43.11, please make sure that the data in this column is correct !\n"
     ]
    },
    {
     "name": "stdout",
     "output_type": "stream",
     "text": [
      "Can't disable output on Jupyter notebook\n",
      "Can't disable output on Jupyter notebook\n",
      "Can't disable output on Jupyter notebook\n"
     ]
    },
    {
     "name": "stderr",
     "output_type": "stream",
     "text": [
      "c:\\users\\sudhanshu\\appdata\\local\\conda\\conda\\envs\\py37\\lib\\site-packages\\scipy\\stats\\stats.py:2315: RuntimeWarning: invalid value encountered in true_divide\n",
      "  return (a - mns) / sstd\n",
      "c:\\users\\sudhanshu\\appdata\\local\\conda\\conda\\envs\\py37\\lib\\site-packages\\sklearn\\neighbors\\lof.py:253: UserWarning: n_neighbors (20) is greater than the total number of samples (1). n_neighbors will be set to (n_samples - 1) for estimation.\n",
      "  % (self.n_neighbors, n_samples))\n"
     ]
    },
    {
     "name": "stdout",
     "output_type": "stream",
     "text": [
      "Can't disable output on Jupyter notebook\n",
      "Can't disable output on Jupyter notebook\n",
      "Can't disable output on Jupyter notebook\n"
     ]
    },
    {
     "name": "stderr",
     "output_type": "stream",
     "text": [
      "c:\\users\\sudhanshu\\appdata\\local\\conda\\conda\\envs\\py37\\lib\\site-packages\\sklearn\\neighbors\\lof.py:253: UserWarning: n_neighbors (20) is greater than the total number of samples (2). n_neighbors will be set to (n_samples - 1) for estimation.\n",
      "  % (self.n_neighbors, n_samples))\n",
      "c:\\users\\sudhanshu\\appdata\\local\\conda\\conda\\envs\\py37\\lib\\site-packages\\sklearn\\neighbors\\lof.py:253: UserWarning: n_neighbors (20) is greater than the total number of samples (2). n_neighbors will be set to (n_samples - 1) for estimation.\n",
      "  % (self.n_neighbors, n_samples))\n",
      "c:\\users\\sudhanshu\\appdata\\local\\conda\\conda\\envs\\py37\\lib\\site-packages\\sklearn\\neighbors\\lof.py:253: UserWarning: n_neighbors (20) is greater than the total number of samples (2). n_neighbors will be set to (n_samples - 1) for estimation.\n",
      "  % (self.n_neighbors, n_samples))\n",
      "c:\\users\\sudhanshu\\appdata\\local\\conda\\conda\\envs\\py37\\lib\\site-packages\\sklearn\\neighbors\\lof.py:253: UserWarning: n_neighbors (20) is greater than the total number of samples (2). n_neighbors will be set to (n_samples - 1) for estimation.\n",
      "  % (self.n_neighbors, n_samples))\n",
      "Column age is very biased towards the value 54.019999999999996, please make sure that the data in this column is correct !\n"
     ]
    },
    {
     "name": "stdout",
     "output_type": "stream",
     "text": [
      "Can't disable output on Jupyter notebook\n",
      "Can't disable output on Jupyter notebook\n",
      "Can't disable output on Jupyter notebook\n"
     ]
    },
    {
     "name": "stderr",
     "output_type": "stream",
     "text": [
      "c:\\users\\sudhanshu\\appdata\\local\\conda\\conda\\envs\\py37\\lib\\site-packages\\scipy\\stats\\stats.py:2315: RuntimeWarning: invalid value encountered in true_divide\n",
      "  return (a - mns) / sstd\n",
      "c:\\users\\sudhanshu\\appdata\\local\\conda\\conda\\envs\\py37\\lib\\site-packages\\sklearn\\neighbors\\lof.py:253: UserWarning: n_neighbors (20) is greater than the total number of samples (1). n_neighbors will be set to (n_samples - 1) for estimation.\n",
      "  % (self.n_neighbors, n_samples))\n"
     ]
    },
    {
     "name": "stdout",
     "output_type": "stream",
     "text": [
      "Can't disable output on Jupyter notebook\n",
      "Can't disable output on Jupyter notebook\n",
      "Can't disable output on Jupyter notebook\n"
     ]
    },
    {
     "name": "stderr",
     "output_type": "stream",
     "text": [
      "c:\\users\\sudhanshu\\appdata\\local\\conda\\conda\\envs\\py37\\lib\\site-packages\\sklearn\\neighbors\\lof.py:253: UserWarning: n_neighbors (20) is greater than the total number of samples (2). n_neighbors will be set to (n_samples - 1) for estimation.\n",
      "  % (self.n_neighbors, n_samples))\n",
      "c:\\users\\sudhanshu\\appdata\\local\\conda\\conda\\envs\\py37\\lib\\site-packages\\sklearn\\neighbors\\lof.py:253: UserWarning: n_neighbors (20) is greater than the total number of samples (2). n_neighbors will be set to (n_samples - 1) for estimation.\n",
      "  % (self.n_neighbors, n_samples))\n",
      "c:\\users\\sudhanshu\\appdata\\local\\conda\\conda\\envs\\py37\\lib\\site-packages\\scipy\\stats\\stats.py:2315: RuntimeWarning: invalid value encountered in true_divide\n",
      "  return (a - mns) / sstd\n",
      "c:\\users\\sudhanshu\\appdata\\local\\conda\\conda\\envs\\py37\\lib\\site-packages\\sklearn\\neighbors\\lof.py:253: UserWarning: n_neighbors (20) is greater than the total number of samples (2). n_neighbors will be set to (n_samples - 1) for estimation.\n",
      "  % (self.n_neighbors, n_samples))\n",
      "c:\\users\\sudhanshu\\appdata\\local\\conda\\conda\\envs\\py37\\lib\\site-packages\\sklearn\\neighbors\\lof.py:253: UserWarning: n_neighbors (20) is greater than the total number of samples (2). n_neighbors will be set to (n_samples - 1) for estimation.\n",
      "  % (self.n_neighbors, n_samples))\n",
      "Column age is very biased towards the value 63.010000000000005, please make sure that the data in this column is correct !\n"
     ]
    },
    {
     "name": "stdout",
     "output_type": "stream",
     "text": [
      "Can't disable output on Jupyter notebook\n",
      "Can't disable output on Jupyter notebook\n",
      "Can't disable output on Jupyter notebook\n"
     ]
    },
    {
     "name": "stderr",
     "output_type": "stream",
     "text": [
      "c:\\users\\sudhanshu\\appdata\\local\\conda\\conda\\envs\\py37\\lib\\site-packages\\scipy\\stats\\stats.py:2315: RuntimeWarning: invalid value encountered in true_divide\n",
      "  return (a - mns) / sstd\n",
      "c:\\users\\sudhanshu\\appdata\\local\\conda\\conda\\envs\\py37\\lib\\site-packages\\sklearn\\neighbors\\lof.py:253: UserWarning: n_neighbors (20) is greater than the total number of samples (1). n_neighbors will be set to (n_samples - 1) for estimation.\n",
      "  % (self.n_neighbors, n_samples))\n"
     ]
    },
    {
     "name": "stdout",
     "output_type": "stream",
     "text": [
      "Can't disable output on Jupyter notebook\n",
      "Can't disable output on Jupyter notebook\n",
      "Can't disable output on Jupyter notebook\n"
     ]
    },
    {
     "name": "stderr",
     "output_type": "stream",
     "text": [
      "c:\\users\\sudhanshu\\appdata\\local\\conda\\conda\\envs\\py37\\lib\\site-packages\\sklearn\\neighbors\\lof.py:253: UserWarning: n_neighbors (20) is greater than the total number of samples (2). n_neighbors will be set to (n_samples - 1) for estimation.\n",
      "  % (self.n_neighbors, n_samples))\n",
      "c:\\users\\sudhanshu\\appdata\\local\\conda\\conda\\envs\\py37\\lib\\site-packages\\sklearn\\neighbors\\lof.py:253: UserWarning: n_neighbors (20) is greater than the total number of samples (2). n_neighbors will be set to (n_samples - 1) for estimation.\n",
      "  % (self.n_neighbors, n_samples))\n",
      "c:\\users\\sudhanshu\\appdata\\local\\conda\\conda\\envs\\py37\\lib\\site-packages\\sklearn\\neighbors\\lof.py:253: UserWarning: n_neighbors (20) is greater than the total number of samples (2). n_neighbors will be set to (n_samples - 1) for estimation.\n",
      "  % (self.n_neighbors, n_samples))\n",
      "c:\\users\\sudhanshu\\appdata\\local\\conda\\conda\\envs\\py37\\lib\\site-packages\\sklearn\\neighbors\\lof.py:253: UserWarning: n_neighbors (20) is greater than the total number of samples (2). n_neighbors will be set to (n_samples - 1) for estimation.\n",
      "  % (self.n_neighbors, n_samples))\n",
      "Column age is very biased towards the value 40.04, please make sure that the data in this column is correct !\n"
     ]
    },
    {
     "name": "stdout",
     "output_type": "stream",
     "text": [
      "Can't disable output on Jupyter notebook\n",
      "Can't disable output on Jupyter notebook\n",
      "Can't disable output on Jupyter notebook\n"
     ]
    },
    {
     "name": "stderr",
     "output_type": "stream",
     "text": [
      "c:\\users\\sudhanshu\\appdata\\local\\conda\\conda\\envs\\py37\\lib\\site-packages\\scipy\\stats\\stats.py:2315: RuntimeWarning: invalid value encountered in true_divide\n",
      "  return (a - mns) / sstd\n",
      "c:\\users\\sudhanshu\\appdata\\local\\conda\\conda\\envs\\py37\\lib\\site-packages\\sklearn\\neighbors\\lof.py:253: UserWarning: n_neighbors (20) is greater than the total number of samples (1). n_neighbors will be set to (n_samples - 1) for estimation.\n",
      "  % (self.n_neighbors, n_samples))\n"
     ]
    },
    {
     "name": "stdout",
     "output_type": "stream",
     "text": [
      "Can't disable output on Jupyter notebook\n",
      "Can't disable output on Jupyter notebook\n",
      "Can't disable output on Jupyter notebook\n"
     ]
    },
    {
     "name": "stderr",
     "output_type": "stream",
     "text": [
      "c:\\users\\sudhanshu\\appdata\\local\\conda\\conda\\envs\\py37\\lib\\site-packages\\scipy\\stats\\stats.py:2315: RuntimeWarning: invalid value encountered in true_divide\n",
      "  return (a - mns) / sstd\n",
      "c:\\users\\sudhanshu\\appdata\\local\\conda\\conda\\envs\\py37\\lib\\site-packages\\sklearn\\neighbors\\lof.py:253: UserWarning: n_neighbors (20) is greater than the total number of samples (1). n_neighbors will be set to (n_samples - 1) for estimation.\n",
      "  % (self.n_neighbors, n_samples))\n"
     ]
    },
    {
     "name": "stdout",
     "output_type": "stream",
     "text": [
      "Can't disable output on Jupyter notebook\n",
      "Can't disable output on Jupyter notebook\n",
      "Can't disable output on Jupyter notebook\n"
     ]
    },
    {
     "name": "stderr",
     "output_type": "stream",
     "text": [
      "c:\\users\\sudhanshu\\appdata\\local\\conda\\conda\\envs\\py37\\lib\\site-packages\\scipy\\stats\\stats.py:2315: RuntimeWarning: invalid value encountered in true_divide\n",
      "  return (a - mns) / sstd\n",
      "c:\\users\\sudhanshu\\appdata\\local\\conda\\conda\\envs\\py37\\lib\\site-packages\\sklearn\\neighbors\\lof.py:253: UserWarning: n_neighbors (20) is greater than the total number of samples (1). n_neighbors will be set to (n_samples - 1) for estimation.\n",
      "  % (self.n_neighbors, n_samples))\n"
     ]
    },
    {
     "name": "stdout",
     "output_type": "stream",
     "text": [
      "Can't disable output on Jupyter notebook\n"
     ]
    },
    {
     "name": "stderr",
     "output_type": "stream",
     "text": [
      "INFO:mindsdb-logger-38300c5a-f038-11e9-a377-54e1ad558569:f:\\sudhanshu\\opensourceprojects\\mindsdb\\mindsdb\\libs\\phases\\base_module.py:57 - [END] ModelAnalyzer, execution time: 5.611 seconds\n",
      "\n"
     ]
    }
   ],
   "source": [
    "import mindsdb\n",
    "\n",
    "# Instantiate a mindsdb Predictor\n",
    "mdb = mindsdb.Predictor(name='insurance_charges')\n",
    "\n",
    "# We tell the Predictor what column or key we want to learn and from what data\n",
    "mdb.learn(\n",
    "    from_data=\"dataset/insurance-train.csv\", # the path to the file where we can learn from, (note: can be url)\n",
    "    to_predict='charges', # the column we want to learn to predict given all the data in the file\n",
    ")"
   ]
  },
  {
   "cell_type": "code",
   "execution_count": 2,
   "metadata": {},
   "outputs": [
    {
     "name": "stderr",
     "output_type": "stream",
     "text": [
      "INFO:mindsdb-logger-core-logger:f:\\sudhanshu\\opensourceprojects\\mindsdb\\mindsdb\\libs\\phases\\base_module.py:52 - [START] DataExtractor\n",
      "\n",
      "INFO:mindsdb-logger-core-logger:f:\\sudhanshu\\opensourceprojects\\mindsdb\\mindsdb\\libs\\phases\\base_module.py:57 - [END] DataExtractor, execution time: 0.465 seconds\n",
      "\n",
      "INFO:mindsdb-logger-core-logger:f:\\sudhanshu\\opensourceprojects\\mindsdb\\mindsdb\\libs\\phases\\base_module.py:52 - [START] DataTransformer\n",
      "\n",
      "INFO:mindsdb-logger-core-logger:f:\\sudhanshu\\opensourceprojects\\mindsdb\\mindsdb\\libs\\phases\\base_module.py:57 - [END] DataTransformer, execution time: 0.618 seconds\n",
      "\n",
      "INFO:mindsdb-logger-core-logger:f:\\sudhanshu\\opensourceprojects\\mindsdb\\mindsdb\\libs\\phases\\base_module.py:52 - [START] ModelInterface\n",
      "\n",
      "INFO:mindsdb-logger-core-logger:f:\\sudhanshu\\opensourceprojects\\mindsdb\\mindsdb\\libs\\phases\\base_module.py:57 - [END] ModelInterface, execution time: 0.307 seconds\n",
      "\n"
     ]
    },
    {
     "name": "stdout",
     "output_type": "stream",
     "text": [
      "* We are 83% confident the value of \"charges\" lies between 9266 and 11772.\n",
      "\n"
     ]
    }
   ],
   "source": [
    "from mindsdb import Predictor\n",
    "\n",
    "# use the model to make predictions\n",
    "result = Predictor(name='insurance_charges').predict(when={'age': 58, 'sex': 'male', 'smoker' : 'no', 'bmi': '49.06'})\n",
    "\n",
    "print(result[0])"
   ]
  },
  {
   "cell_type": "code",
   "execution_count": null,
   "metadata": {},
   "outputs": [],
   "source": []
  }
 ],
 "metadata": {
  "kernelspec": {
   "display_name": "Python 3",
   "language": "python",
   "name": "python3"
  },
  "language_info": {
   "codemirror_mode": {
    "name": "ipython",
    "version": 3
   },
   "file_extension": ".py",
   "mimetype": "text/x-python",
   "name": "python",
   "nbconvert_exporter": "python",
   "pygments_lexer": "ipython3",
   "version": "3.7.4"
  }
 },
 "nbformat": 4,
 "nbformat_minor": 2
}
